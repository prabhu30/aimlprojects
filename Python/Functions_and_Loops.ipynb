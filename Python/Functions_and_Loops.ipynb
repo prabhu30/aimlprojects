{
  "nbformat": 4,
  "nbformat_minor": 0,
  "metadata": {
    "kernelspec": {
      "display_name": "Python 3",
      "language": "python",
      "name": "python3"
    },
    "language_info": {
      "codemirror_mode": {
        "name": "ipython",
        "version": 3
      },
      "file_extension": ".py",
      "mimetype": "text/x-python",
      "name": "python",
      "nbconvert_exporter": "python",
      "pygments_lexer": "ipython3",
      "version": "3.7.3"
    },
    "colab": {
      "name": "Functions_and_Loops.ipynb",
      "provenance": []
    }
  },
  "cells": [
    {
      "cell_type": "markdown",
      "metadata": {
        "id": "hfyHg4oR5ulY"
      },
      "source": [
        "##  Defining Functions"
      ]
    },
    {
      "cell_type": "markdown",
      "metadata": {
        "id": "9IHywU4A5ulZ"
      },
      "source": [
        "**Define a function with no arguments and no return values:**"
      ]
    },
    {
      "cell_type": "code",
      "metadata": {
        "id": "I46yUqwH5ulc"
      },
      "source": [
        "def print_text():\n",
        "    print('this is text')"
      ],
      "execution_count": 1,
      "outputs": []
    },
    {
      "cell_type": "code",
      "metadata": {
        "id": "4fpv73IQ5ulh",
        "outputId": "c1009a97-dd0f-46b5-f1e4-9482a208c232",
        "colab": {
          "base_uri": "https://localhost:8080/",
          "height": 35
        }
      },
      "source": [
        "# call the function\n",
        "print_text()"
      ],
      "execution_count": 2,
      "outputs": [
        {
          "output_type": "stream",
          "text": [
            "this is text\n"
          ],
          "name": "stdout"
        }
      ]
    },
    {
      "cell_type": "markdown",
      "metadata": {
        "id": "IVbCvwjn5ull"
      },
      "source": [
        "**Define a function with one argument and no return values:**"
      ]
    },
    {
      "cell_type": "code",
      "metadata": {
        "id": "qkU7dMo55ull"
      },
      "source": [
        "def print_this(x):\n",
        "    print(x)"
      ],
      "execution_count": 3,
      "outputs": []
    },
    {
      "cell_type": "code",
      "metadata": {
        "id": "p-YiGua45ulo",
        "outputId": "5cd8eb13-e02a-4173-e090-be329ce73f38",
        "colab": {
          "base_uri": "https://localhost:8080/",
          "height": 35
        }
      },
      "source": [
        "# call the function\n",
        "print_this(3)"
      ],
      "execution_count": 4,
      "outputs": [
        {
          "output_type": "stream",
          "text": [
            "3\n"
          ],
          "name": "stdout"
        }
      ]
    },
    {
      "cell_type": "code",
      "metadata": {
        "id": "T5-247FY5ulp",
        "outputId": "c97a1b3c-783d-458d-c88d-97af1c689a14",
        "colab": {
          "base_uri": "https://localhost:8080/",
          "height": 35
        }
      },
      "source": [
        "# prints 3, but doesn't assign 3 to n because the function has no return statement\n",
        "n = print_this(3)"
      ],
      "execution_count": 5,
      "outputs": [
        {
          "output_type": "stream",
          "text": [
            "3\n"
          ],
          "name": "stdout"
        }
      ]
    },
    {
      "cell_type": "markdown",
      "metadata": {
        "id": "gQcMucz15ulw"
      },
      "source": [
        "**Define a function with one argument and one return value:**"
      ]
    },
    {
      "cell_type": "code",
      "metadata": {
        "id": "THEMBmXI5ulx",
        "outputId": "b333522e-f4e5-4376-9475-2ba291e6bd34",
        "colab": {
          "base_uri": "https://localhost:8080/",
          "height": 35
        }
      },
      "source": [
        "def square_this(x):\n",
        "    return x**2\n",
        "square_this(5)"
      ],
      "execution_count": 6,
      "outputs": [
        {
          "output_type": "execute_result",
          "data": {
            "text/plain": [
              "25"
            ]
          },
          "metadata": {
            "tags": []
          },
          "execution_count": 6
        }
      ]
    },
    {
      "cell_type": "code",
      "metadata": {
        "id": "ivPPcHU65ul0",
        "outputId": "cdd86ade-47f1-44b0-d459-9ea97ebdcad0",
        "colab": {
          "base_uri": "https://localhost:8080/",
          "height": 35
        }
      },
      "source": [
        "# include an optional docstring to describe the effect of a function\n",
        "def square_this(x):\n",
        "    \"\"\"Return the square of a number.\"\"\"\n",
        "    return x**2\n",
        "print(square_this.__doc__)    # .__doc__  returns the docstring"
      ],
      "execution_count": 7,
      "outputs": [
        {
          "output_type": "stream",
          "text": [
            "Return the square of a number.\n"
          ],
          "name": "stdout"
        }
      ]
    },
    {
      "cell_type": "code",
      "metadata": {
        "id": "ZzsACe1f5ul3",
        "outputId": "a3f1ffb2-41ac-4fa9-d1ea-e90aebb7d159",
        "colab": {
          "base_uri": "https://localhost:8080/",
          "height": 35
        }
      },
      "source": [
        "# call the function\n",
        "square_this(3)"
      ],
      "execution_count": 8,
      "outputs": [
        {
          "output_type": "execute_result",
          "data": {
            "text/plain": [
              "9"
            ]
          },
          "metadata": {
            "tags": []
          },
          "execution_count": 8
        }
      ]
    },
    {
      "cell_type": "code",
      "metadata": {
        "id": "n2EQGPp25ul5"
      },
      "source": [
        "# assigns 9 to var, but does not print 9\n",
        "var = square_this(3)"
      ],
      "execution_count": 9,
      "outputs": []
    },
    {
      "cell_type": "markdown",
      "metadata": {
        "id": "amy1PjGP5ul8"
      },
      "source": [
        "**Define a function with two 'positional arguments' (no default values) and one 'keyword argument' (has a default value):**"
      ]
    },
    {
      "cell_type": "code",
      "metadata": {
        "id": "ne0NdmCn5ul9"
      },
      "source": [
        "def calc(a, b, op='add'):\n",
        "    if op == 'add':\n",
        "        return a + b\n",
        "    elif op == 'sub':\n",
        "        return a - b\n",
        "    else:\n",
        "        print('valid operations are add and sub')"
      ],
      "execution_count": 10,
      "outputs": []
    },
    {
      "cell_type": "code",
      "metadata": {
        "id": "Fn1vJPZs5umA",
        "outputId": "a3efcb36-800c-466d-c128-e3016cf85e98",
        "colab": {
          "base_uri": "https://localhost:8080/",
          "height": 35
        }
      },
      "source": [
        "# call the function\n",
        "calc(10, 4, op='add')"
      ],
      "execution_count": 11,
      "outputs": [
        {
          "output_type": "execute_result",
          "data": {
            "text/plain": [
              "14"
            ]
          },
          "metadata": {
            "tags": []
          },
          "execution_count": 11
        }
      ]
    },
    {
      "cell_type": "code",
      "metadata": {
        "id": "MVEKLpzd5umF",
        "outputId": "688d2bde-882c-400a-f84a-492b05375cf6",
        "colab": {
          "base_uri": "https://localhost:8080/",
          "height": 35
        }
      },
      "source": [
        "# unnamed arguments are inferred by position\n",
        "calc(10, 4, 'add')"
      ],
      "execution_count": 12,
      "outputs": [
        {
          "output_type": "execute_result",
          "data": {
            "text/plain": [
              "14"
            ]
          },
          "metadata": {
            "tags": []
          },
          "execution_count": 12
        }
      ]
    },
    {
      "cell_type": "code",
      "metadata": {
        "id": "8UZEA5qg5umI",
        "outputId": "ffd38022-e763-473c-f288-cb711715c4fb",
        "colab": {
          "base_uri": "https://localhost:8080/",
          "height": 35
        }
      },
      "source": [
        "# default for 'op' is 'add'\n",
        "calc(10, 4)"
      ],
      "execution_count": 13,
      "outputs": [
        {
          "output_type": "execute_result",
          "data": {
            "text/plain": [
              "14"
            ]
          },
          "metadata": {
            "tags": []
          },
          "execution_count": 13
        }
      ]
    },
    {
      "cell_type": "code",
      "metadata": {
        "id": "XfEQ2sig5umM",
        "outputId": "a1c48db7-9bfe-4d3a-dacf-3ce0972609e7",
        "colab": {
          "base_uri": "https://localhost:8080/",
          "height": 35
        }
      },
      "source": [
        "calc(10, 4, 'sub')"
      ],
      "execution_count": 14,
      "outputs": [
        {
          "output_type": "execute_result",
          "data": {
            "text/plain": [
              "6"
            ]
          },
          "metadata": {
            "tags": []
          },
          "execution_count": 14
        }
      ]
    },
    {
      "cell_type": "code",
      "metadata": {
        "id": "v4hVuTWf5umP",
        "outputId": "58a4f866-33c1-4404-ad97-3f5d98ee9bf5",
        "colab": {
          "base_uri": "https://localhost:8080/",
          "height": 35
        }
      },
      "source": [
        "calc(10, 4, 'div')"
      ],
      "execution_count": 15,
      "outputs": [
        {
          "output_type": "stream",
          "text": [
            "valid operations are add and sub\n"
          ],
          "name": "stdout"
        }
      ]
    },
    {
      "cell_type": "markdown",
      "metadata": {
        "id": "ub2SyYB55umV"
      },
      "source": [
        "**Use `pass` as a placeholder if you haven't written the function body:**"
      ]
    },
    {
      "cell_type": "code",
      "metadata": {
        "id": "O8qSATkY5umW"
      },
      "source": [
        "def stub():\n",
        "    pass"
      ],
      "execution_count": 16,
      "outputs": []
    },
    {
      "cell_type": "markdown",
      "metadata": {
        "id": "Axi5vjsk5umb"
      },
      "source": [
        "**Return two values from a single function:**"
      ]
    },
    {
      "cell_type": "code",
      "metadata": {
        "id": "el-2-Lk_5umc"
      },
      "source": [
        "def min_max(nums):\n",
        "    return min(nums), max(nums)"
      ],
      "execution_count": 17,
      "outputs": []
    },
    {
      "cell_type": "code",
      "metadata": {
        "id": "WMoqOQs35ume",
        "outputId": "cc0884e9-4977-4dba-f4be-32f6809304c3",
        "colab": {
          "base_uri": "https://localhost:8080/",
          "height": 35
        }
      },
      "source": [
        "# return values can be assigned to a single variable as a tuple\n",
        "nums = [1, 2, 3]\n",
        "min_max_num = min_max(nums)\n",
        "min_max_num"
      ],
      "execution_count": 18,
      "outputs": [
        {
          "output_type": "execute_result",
          "data": {
            "text/plain": [
              "(1, 3)"
            ]
          },
          "metadata": {
            "tags": []
          },
          "execution_count": 18
        }
      ]
    },
    {
      "cell_type": "code",
      "metadata": {
        "id": "2tXlOKLF5umf",
        "outputId": "22b39eea-b7aa-4ffb-e41f-fc9708b5a40f",
        "colab": {
          "base_uri": "https://localhost:8080/",
          "height": 53
        }
      },
      "source": [
        "# return values can be assigned into multiple variables using tuple unpacking\n",
        "min_num, max_num = min_max(nums)\n",
        "print(min_num)\n",
        "print(max_num)"
      ],
      "execution_count": 19,
      "outputs": [
        {
          "output_type": "stream",
          "text": [
            "1\n",
            "3\n"
          ],
          "name": "stdout"
        }
      ]
    },
    {
      "cell_type": "markdown",
      "metadata": {
        "id": "3eUFi8Xx5umi"
      },
      "source": [
        "## Anonymous (Lambda) Functions\n",
        "\n",
        "- Primarily used to temporarily define a function for use by another function"
      ]
    },
    {
      "cell_type": "code",
      "metadata": {
        "id": "eWwdJ1Nb5umj"
      },
      "source": [
        "# define a function the \"usual\" way\n",
        "def squared(x):\n",
        "    return x**2"
      ],
      "execution_count": 20,
      "outputs": []
    },
    {
      "cell_type": "code",
      "metadata": {
        "id": "DmG4OPz05umk"
      },
      "source": [
        "# define an identical function using lambda\n",
        "squared = lambda x: x**2"
      ],
      "execution_count": 21,
      "outputs": []
    },
    {
      "cell_type": "markdown",
      "metadata": {
        "id": "uyba0p_P5umm"
      },
      "source": [
        "**Sort a list of strings by the last letter:**"
      ]
    },
    {
      "cell_type": "code",
      "metadata": {
        "id": "VVD_0Zc25umo",
        "outputId": "780b1b93-a140-4761-f737-6863abb06a1a",
        "colab": {
          "base_uri": "https://localhost:8080/",
          "height": 35
        }
      },
      "source": [
        "# without using lambda\n",
        "simpsons = ['homer', 'marge', 'bart']\n",
        "def last_letter(word):\n",
        "    return word[-1]\n",
        "sorted(simpsons, key=last_letter)"
      ],
      "execution_count": 22,
      "outputs": [
        {
          "output_type": "execute_result",
          "data": {
            "text/plain": [
              "['marge', 'homer', 'bart']"
            ]
          },
          "metadata": {
            "tags": []
          },
          "execution_count": 22
        }
      ]
    },
    {
      "cell_type": "code",
      "metadata": {
        "id": "g2o_Ysqy5umq",
        "outputId": "33a82a8e-d950-4e42-b344-9df71eb81ac3",
        "colab": {
          "base_uri": "https://localhost:8080/",
          "height": 35
        }
      },
      "source": [
        "# using lambda\n",
        "sorted(simpsons, key=lambda word: word[-1])"
      ],
      "execution_count": 23,
      "outputs": [
        {
          "output_type": "execute_result",
          "data": {
            "text/plain": [
              "['marge', 'homer', 'bart']"
            ]
          },
          "metadata": {
            "tags": []
          },
          "execution_count": 23
        }
      ]
    },
    {
      "cell_type": "code",
      "metadata": {
        "id": "XRfKTbC35ums",
        "outputId": "b5e2b82a-b0aa-40ca-ea2e-7a2f9ad64961",
        "colab": {
          "base_uri": "https://localhost:8080/",
          "height": 35
        }
      },
      "source": [
        "##  For Loops and While Loops\n",
        "\n",
        "# includes the start value but excludes the stop value\n",
        "range(0, 3)"
      ],
      "execution_count": 24,
      "outputs": [
        {
          "output_type": "execute_result",
          "data": {
            "text/plain": [
              "range(0, 3)"
            ]
          },
          "metadata": {
            "tags": []
          },
          "execution_count": 24
        }
      ]
    },
    {
      "cell_type": "code",
      "metadata": {
        "id": "h3jrrML55umt",
        "outputId": "28676a6c-7d01-47fd-f66a-ae73cc1568a2",
        "colab": {
          "base_uri": "https://localhost:8080/",
          "height": 35
        }
      },
      "source": [
        "# default start value is 0\n",
        "range(3)"
      ],
      "execution_count": 25,
      "outputs": [
        {
          "output_type": "execute_result",
          "data": {
            "text/plain": [
              "range(0, 3)"
            ]
          },
          "metadata": {
            "tags": []
          },
          "execution_count": 25
        }
      ]
    },
    {
      "cell_type": "code",
      "metadata": {
        "id": "RhMhcKBl5umx",
        "outputId": "b0aaa1b9-62ed-4424-f6e4-2fc6876cc298",
        "colab": {
          "base_uri": "https://localhost:8080/",
          "height": 35
        }
      },
      "source": [
        "# third argument is the step value\n",
        "range(0, 5, 2)"
      ],
      "execution_count": 26,
      "outputs": [
        {
          "output_type": "execute_result",
          "data": {
            "text/plain": [
              "range(0, 5, 2)"
            ]
          },
          "metadata": {
            "tags": []
          },
          "execution_count": 26
        }
      ]
    },
    {
      "cell_type": "markdown",
      "metadata": {
        "id": "nCJKto4f5um0"
      },
      "source": [
        "**`for` loops:**"
      ]
    },
    {
      "cell_type": "code",
      "metadata": {
        "id": "vfDmYNUe5um0",
        "outputId": "02b04c11-1b6f-4856-da84-6a1cb93f8ecf",
        "colab": {
          "base_uri": "https://localhost:8080/",
          "height": 72
        }
      },
      "source": [
        "# not the recommended style\n",
        "fruits = ['apple', 'banana', 'cherry']\n",
        "for i in range(len(fruits)):\n",
        "    print(fruits[i].upper())"
      ],
      "execution_count": 27,
      "outputs": [
        {
          "output_type": "stream",
          "text": [
            "APPLE\n",
            "BANANA\n",
            "CHERRY\n"
          ],
          "name": "stdout"
        }
      ]
    },
    {
      "cell_type": "code",
      "metadata": {
        "id": "_51Qj55y5um2",
        "outputId": "28d67a9f-63ff-4cbd-8f5b-07831ff3e0fc",
        "colab": {
          "base_uri": "https://localhost:8080/",
          "height": 72
        }
      },
      "source": [
        "# recommended style\n",
        "for fruit in fruits:\n",
        "    print(fruit.upper())"
      ],
      "execution_count": 28,
      "outputs": [
        {
          "output_type": "stream",
          "text": [
            "APPLE\n",
            "BANANA\n",
            "CHERRY\n"
          ],
          "name": "stdout"
        }
      ]
    },
    {
      "cell_type": "code",
      "metadata": {
        "id": "GMxO62QT5um3",
        "outputId": "b3191662-aacf-4be9-8c77-9556eef805be",
        "colab": {
          "base_uri": "https://localhost:8080/",
          "height": 72
        }
      },
      "source": [
        "# iterate through two things at once (using tuple unpacking)\n",
        "family = {'dad':'homer', 'mom':'marge', 'size':6}\n",
        "for key, value in family.items():\n",
        "    print(key, value)"
      ],
      "execution_count": 29,
      "outputs": [
        {
          "output_type": "stream",
          "text": [
            "dad homer\n",
            "mom marge\n",
            "size 6\n"
          ],
          "name": "stdout"
        }
      ]
    },
    {
      "cell_type": "code",
      "metadata": {
        "id": "fiUIdnVy5um5",
        "outputId": "3af24785-b481-4e20-b1e6-34d5f2ada4eb",
        "colab": {
          "base_uri": "https://localhost:8080/",
          "height": 72
        }
      },
      "source": [
        "# use enumerate if you need to access the index value within the loop\n",
        "for index, fruit in enumerate(fruits):\n",
        "    print(index, fruit)"
      ],
      "execution_count": 30,
      "outputs": [
        {
          "output_type": "stream",
          "text": [
            "0 apple\n",
            "1 banana\n",
            "2 cherry\n"
          ],
          "name": "stdout"
        }
      ]
    },
    {
      "cell_type": "markdown",
      "metadata": {
        "id": "oPon-Y5D5um7"
      },
      "source": [
        "**`for`/`else` loop:**"
      ]
    },
    {
      "cell_type": "code",
      "metadata": {
        "id": "jRFhlQLm5um8",
        "outputId": "819a32d5-cfbf-463b-a4b1-a2f1822ac8ea",
        "colab": {
          "base_uri": "https://localhost:8080/",
          "height": 35
        }
      },
      "source": [
        "for fruit in fruits:\n",
        "    if fruit == 'banana':\n",
        "        print('Found the banana!')\n",
        "        break    # exit the loop and skip the 'else' block\n",
        "else:\n",
        "    # this block executes ONLY if the for loop completes without hitting 'break'\n",
        "    print(\"Can't find the banana\")"
      ],
      "execution_count": 31,
      "outputs": [
        {
          "output_type": "stream",
          "text": [
            "Found the banana!\n"
          ],
          "name": "stdout"
        }
      ]
    },
    {
      "cell_type": "markdown",
      "metadata": {
        "id": "-XmROgTD5um9"
      },
      "source": [
        "**`while` loop:**"
      ]
    },
    {
      "cell_type": "code",
      "metadata": {
        "id": "82kSn7al5um-",
        "outputId": "25575d6e-755f-44e2-c86d-b714dc8ff906",
        "colab": {
          "base_uri": "https://localhost:8080/",
          "height": 108
        }
      },
      "source": [
        "count = 0\n",
        "while count < 5:\n",
        "    print('This will print 5 times')\n",
        "    count += 1    # equivalent to 'count = count + 1'"
      ],
      "execution_count": 32,
      "outputs": [
        {
          "output_type": "stream",
          "text": [
            "This will print 5 times\n",
            "This will print 5 times\n",
            "This will print 5 times\n",
            "This will print 5 times\n",
            "This will print 5 times\n"
          ],
          "name": "stdout"
        }
      ]
    },
    {
      "cell_type": "code",
      "metadata": {
        "id": "b1NjwTFc5unB"
      },
      "source": [
        "## Comprehensions"
      ],
      "execution_count": 33,
      "outputs": []
    },
    {
      "cell_type": "markdown",
      "metadata": {
        "id": "qUCp3uDh5unD"
      },
      "source": [
        "**List comprehension:**"
      ]
    },
    {
      "cell_type": "code",
      "metadata": {
        "id": "f_oMkLsL5unE",
        "outputId": "e63af8fd-917a-4c4a-98c2-9675783565ea",
        "colab": {
          "base_uri": "https://localhost:8080/",
          "height": 35
        }
      },
      "source": [
        "# for loop to create a list of cubes\n",
        "nums = [1, 2, 3, 4, 5]\n",
        "cubes = []\n",
        "for num in nums:\n",
        "    cubes.append(num**3)\n",
        "cubes"
      ],
      "execution_count": 34,
      "outputs": [
        {
          "output_type": "execute_result",
          "data": {
            "text/plain": [
              "[1, 8, 27, 64, 125]"
            ]
          },
          "metadata": {
            "tags": []
          },
          "execution_count": 34
        }
      ]
    },
    {
      "cell_type": "code",
      "metadata": {
        "id": "8lc7Qvtb5unJ",
        "outputId": "68bdf3bf-c4e9-44da-f8f1-f71c6fe9b19f",
        "colab": {
          "base_uri": "https://localhost:8080/",
          "height": 35
        }
      },
      "source": [
        "# equivalent list comprehension\n",
        "cubes = [num**3 for num in nums]\n",
        "cubes"
      ],
      "execution_count": 35,
      "outputs": [
        {
          "output_type": "execute_result",
          "data": {
            "text/plain": [
              "[1, 8, 27, 64, 125]"
            ]
          },
          "metadata": {
            "tags": []
          },
          "execution_count": 35
        }
      ]
    },
    {
      "cell_type": "code",
      "metadata": {
        "id": "vO27uV8f5unN",
        "outputId": "7b665520-384f-4e04-86ce-b66c0cf6881a",
        "colab": {
          "base_uri": "https://localhost:8080/",
          "height": 35
        }
      },
      "source": [
        "# for loop to create a list of cubes of even numbers\n",
        "cubes_of_even = []\n",
        "for num in nums:\n",
        "    if num % 2 == 0:\n",
        "        cubes_of_even.append(num**3)\n",
        "cubes_of_even"
      ],
      "execution_count": 36,
      "outputs": [
        {
          "output_type": "execute_result",
          "data": {
            "text/plain": [
              "[8, 64]"
            ]
          },
          "metadata": {
            "tags": []
          },
          "execution_count": 36
        }
      ]
    },
    {
      "cell_type": "code",
      "metadata": {
        "id": "-xmln5Oi5unP",
        "outputId": "c6b5926c-840d-4c1c-86ea-bb0a83abd87a",
        "colab": {
          "base_uri": "https://localhost:8080/",
          "height": 35
        }
      },
      "source": [
        "# equivalent list comprehension\n",
        "# syntax: [expression for variable in iterable if condition]\n",
        "cubes_of_even = [num**3 for num in nums if num % 2 == 0]\n",
        "cubes_of_even"
      ],
      "execution_count": 37,
      "outputs": [
        {
          "output_type": "execute_result",
          "data": {
            "text/plain": [
              "[8, 64]"
            ]
          },
          "metadata": {
            "tags": []
          },
          "execution_count": 37
        }
      ]
    },
    {
      "cell_type": "code",
      "metadata": {
        "id": "Hfh8smM65unS",
        "outputId": "3b213506-fd3e-4e79-bf44-c91491bf2a3f",
        "colab": {
          "base_uri": "https://localhost:8080/",
          "height": 35
        }
      },
      "source": [
        "# for loop to cube even numbers and square odd numbers\n",
        "cubes_and_squares = []\n",
        "for num in nums:\n",
        "    if num % 2 == 0:\n",
        "        cubes_and_squares.append(num**3)\n",
        "    else:\n",
        "        cubes_and_squares.append(num**2)\n",
        "cubes_and_squares"
      ],
      "execution_count": 38,
      "outputs": [
        {
          "output_type": "execute_result",
          "data": {
            "text/plain": [
              "[1, 8, 9, 64, 25]"
            ]
          },
          "metadata": {
            "tags": []
          },
          "execution_count": 38
        }
      ]
    },
    {
      "cell_type": "code",
      "metadata": {
        "id": "SXBrPCtp5unU",
        "outputId": "72cc3b3c-6f48-4c35-a08a-0e9482c8ab5a",
        "colab": {
          "base_uri": "https://localhost:8080/",
          "height": 35
        }
      },
      "source": [
        "# equivalent list comprehension (using a ternary expression)\n",
        "# syntax: [true_condition if condition else false_condition for variable in iterable]\n",
        "cubes_and_squares = [num**3 if num % 2 == 0 else num**2 for num in nums]\n",
        "cubes_and_squares"
      ],
      "execution_count": 39,
      "outputs": [
        {
          "output_type": "execute_result",
          "data": {
            "text/plain": [
              "[1, 8, 9, 64, 25]"
            ]
          },
          "metadata": {
            "tags": []
          },
          "execution_count": 39
        }
      ]
    },
    {
      "cell_type": "code",
      "metadata": {
        "id": "6crASnuX5una",
        "outputId": "b6bd3435-bbe7-4ff2-fde8-40b3be201e60",
        "colab": {
          "base_uri": "https://localhost:8080/",
          "height": 35
        }
      },
      "source": [
        "# for loop to flatten a 2d-matrix\n",
        "matrix = [[1, 2], [3, 4]]\n",
        "items = []\n",
        "for row in matrix:\n",
        "    for item in row:\n",
        "        items.append(item)\n",
        "items"
      ],
      "execution_count": 40,
      "outputs": [
        {
          "output_type": "execute_result",
          "data": {
            "text/plain": [
              "[1, 2, 3, 4]"
            ]
          },
          "metadata": {
            "tags": []
          },
          "execution_count": 40
        }
      ]
    },
    {
      "cell_type": "code",
      "metadata": {
        "id": "TPUWv5YB5und",
        "outputId": "029537cd-51d5-49ba-c266-597061fa14ac",
        "colab": {
          "base_uri": "https://localhost:8080/",
          "height": 35
        }
      },
      "source": [
        "# equivalent list comprehension\n",
        "items = [item for row in matrix\n",
        "              for item in row]\n",
        "items"
      ],
      "execution_count": 41,
      "outputs": [
        {
          "output_type": "execute_result",
          "data": {
            "text/plain": [
              "[1, 2, 3, 4]"
            ]
          },
          "metadata": {
            "tags": []
          },
          "execution_count": 41
        }
      ]
    },
    {
      "cell_type": "markdown",
      "metadata": {
        "id": "bkGO1Bsi5ung"
      },
      "source": [
        "**Set comprehension:**"
      ]
    },
    {
      "cell_type": "code",
      "metadata": {
        "id": "JN3eDEad5unh",
        "outputId": "b6f15006-ff2c-46b0-aa3f-c3606344890a",
        "colab": {
          "base_uri": "https://localhost:8080/",
          "height": 35
        }
      },
      "source": [
        "fruits = ['apple', 'banana', 'cherry']\n",
        "unique_lengths = {len(fruit) for fruit in fruits}\n",
        "unique_lengths"
      ],
      "execution_count": 42,
      "outputs": [
        {
          "output_type": "execute_result",
          "data": {
            "text/plain": [
              "{5, 6}"
            ]
          },
          "metadata": {
            "tags": []
          },
          "execution_count": 42
        }
      ]
    },
    {
      "cell_type": "markdown",
      "metadata": {
        "id": "GR0stiCV5unj"
      },
      "source": [
        "**Dictionary comprehension:**"
      ]
    },
    {
      "cell_type": "code",
      "metadata": {
        "id": "j2otzvgF5unk",
        "outputId": "e72f2dbb-0200-41ab-c007-3a988bddee1b",
        "colab": {
          "base_uri": "https://localhost:8080/",
          "height": 35
        }
      },
      "source": [
        "fruit_lengths = {fruit:len(fruit) for fruit in fruits}\n",
        "fruit_lengths\n",
        "\n",
        "fruit_indices = {fruit:index for index, fruit in enumerate(fruits)}\n",
        "fruit_indices"
      ],
      "execution_count": 43,
      "outputs": [
        {
          "output_type": "execute_result",
          "data": {
            "text/plain": [
              "{'apple': 0, 'banana': 1, 'cherry': 2}"
            ]
          },
          "metadata": {
            "tags": []
          },
          "execution_count": 43
        }
      ]
    },
    {
      "cell_type": "markdown",
      "metadata": {
        "id": "kXrIAjuo5unl"
      },
      "source": [
        "##  Map, Filter and Reduce"
      ]
    },
    {
      "cell_type": "markdown",
      "metadata": {
        "id": "N8wDiRqv5unm"
      },
      "source": [
        "** **bold text**`map` applies a function to every element of a sequence and returns a list (Python 2) or iterator (Python 3):**"
      ]
    },
    {
      "cell_type": "code",
      "metadata": {
        "id": "x5MD2wD85unn",
        "outputId": "0449033b-c97c-4096-9bb1-596e348afef3",
        "colab": {
          "base_uri": "https://localhost:8080/",
          "height": 35
        }
      },
      "source": [
        "simpsons = ['homer', 'marge', 'bart']\n",
        "mapper = map(len, simpsons)\n",
        "mapper"
      ],
      "execution_count": 44,
      "outputs": [
        {
          "output_type": "execute_result",
          "data": {
            "text/plain": [
              "<map at 0x7ff2779bf320>"
            ]
          },
          "metadata": {
            "tags": []
          },
          "execution_count": 44
        }
      ]
    },
    {
      "cell_type": "code",
      "metadata": {
        "id": "5hXY5pQi5unq",
        "outputId": "cf20e3c3-09e3-42d0-aeff-a07bf827cbde",
        "colab": {
          "base_uri": "https://localhost:8080/",
          "height": 72
        }
      },
      "source": [
        "for i in mapper:\n",
        "    print(i)"
      ],
      "execution_count": 45,
      "outputs": [
        {
          "output_type": "stream",
          "text": [
            "5\n",
            "5\n",
            "4\n"
          ],
          "name": "stdout"
        }
      ]
    },
    {
      "cell_type": "code",
      "metadata": {
        "id": "W3Y6zpR95unv",
        "outputId": "52bddd84-678d-4fb5-92fa-36362c1c4cab",
        "colab": {
          "base_uri": "https://localhost:8080/",
          "height": 35
        }
      },
      "source": [
        "# equivalent list comprehension\n",
        "[len(word) for word in simpsons]"
      ],
      "execution_count": 46,
      "outputs": [
        {
          "output_type": "execute_result",
          "data": {
            "text/plain": [
              "[5, 5, 4]"
            ]
          },
          "metadata": {
            "tags": []
          },
          "execution_count": 46
        }
      ]
    },
    {
      "cell_type": "code",
      "metadata": {
        "id": "9th1Kgma5uny",
        "outputId": "854101c4-3a50-4891-eb6d-12e0ac51e673",
        "colab": {
          "base_uri": "https://localhost:8080/",
          "height": 72
        }
      },
      "source": [
        "mapper = map(lambda word: word[-1], simpsons)\n",
        "for i in mapper:\n",
        "    print(i)"
      ],
      "execution_count": 47,
      "outputs": [
        {
          "output_type": "stream",
          "text": [
            "r\n",
            "e\n",
            "t\n"
          ],
          "name": "stdout"
        }
      ]
    },
    {
      "cell_type": "code",
      "metadata": {
        "id": "QFBn95JI5un0",
        "outputId": "6a266341-958b-43c0-bc7f-60a37e73d43c",
        "colab": {
          "base_uri": "https://localhost:8080/",
          "height": 35
        }
      },
      "source": [
        "# equivalent list comprehension\n",
        "[word[-1] for word in simpsons]"
      ],
      "execution_count": 48,
      "outputs": [
        {
          "output_type": "execute_result",
          "data": {
            "text/plain": [
              "['r', 'e', 't']"
            ]
          },
          "metadata": {
            "tags": []
          },
          "execution_count": 48
        }
      ]
    },
    {
      "cell_type": "markdown",
      "metadata": {
        "id": "HJ6unc_N5un4"
      },
      "source": [
        "**`filter` returns a list (Python 2) or iterator (Python 3) containing the elements from a sequence for which a condition is `True`:**"
      ]
    },
    {
      "cell_type": "code",
      "metadata": {
        "id": "2bed5vJo5un5",
        "outputId": "3d4cd9fd-2dd7-484d-e992-832fbc6e1054",
        "colab": {
          "base_uri": "https://localhost:8080/",
          "height": 72
        }
      },
      "source": [
        "nums = range(5)\n",
        "iterator = filter(lambda x: x % 2 == 0, nums) \n",
        "for element in iterator:\n",
        "    print(element)"
      ],
      "execution_count": 49,
      "outputs": [
        {
          "output_type": "stream",
          "text": [
            "0\n",
            "2\n",
            "4\n"
          ],
          "name": "stdout"
        }
      ]
    },
    {
      "cell_type": "code",
      "metadata": {
        "id": "NwNArNco5uoB",
        "outputId": "30d2841c-900e-41f7-c08f-420bf94458ee",
        "colab": {
          "base_uri": "https://localhost:8080/",
          "height": 35
        }
      },
      "source": [
        "# equivalent list comprehension\n",
        "[num for num in nums if num % 2 == 0]"
      ],
      "execution_count": 50,
      "outputs": [
        {
          "output_type": "execute_result",
          "data": {
            "text/plain": [
              "[0, 2, 4]"
            ]
          },
          "metadata": {
            "tags": []
          },
          "execution_count": 50
        }
      ]
    },
    {
      "cell_type": "markdown",
      "metadata": {
        "id": "cjzCLdjd5uoD"
      },
      "source": [
        "**`Reduce` returns a single value after applying a function on an iterable**\n",
        "example, reduce(lambda x, y: x+y, [1, 2, 3, 4, 5]) calculates\n",
        "((((1+2)+3)+4)+5). "
      ]
    },
    {
      "cell_type": "code",
      "metadata": {
        "id": "w1RwcrQz5uoD",
        "outputId": "a32bb9b7-9329-44a0-aa79-e3e799600fd7",
        "colab": {
          "base_uri": "https://localhost:8080/",
          "height": 35
        }
      },
      "source": [
        "from functools import reduce\n",
        "\n",
        "data = [1,2,3,4]\n",
        "reduce(lambda x,y: x * y, data)"
      ],
      "execution_count": 51,
      "outputs": [
        {
          "output_type": "execute_result",
          "data": {
            "text/plain": [
              "24"
            ]
          },
          "metadata": {
            "tags": []
          },
          "execution_count": 51
        }
      ]
    },
    {
      "cell_type": "markdown",
      "metadata": {
        "id": "NIwJOvm85uoE"
      },
      "source": [
        "## Loops"
      ]
    },
    {
      "cell_type": "markdown",
      "metadata": {
        "id": "qoKdhipk5uoE"
      },
      "source": [
        "**for-each loop**\n",
        "- In python, the for loop is called 'for each loop' ( that is the way we read it. \"for each element in iterable\")\n",
        "- We use it to iterate over a series, list, string etc any iterable"
      ]
    },
    {
      "cell_type": "code",
      "metadata": {
        "id": "kDUNDYB35uoF",
        "outputId": "57c7e386-1555-4b22-f14f-7d44544b52de",
        "colab": {
          "base_uri": "https://localhost:8080/",
          "height": 126
        }
      },
      "source": [
        "# print each elemt of a list using for loop\n",
        "a = [1,2,3,4,5,6]  \n",
        "\n",
        "for element in a:\n",
        "    print(element)"
      ],
      "execution_count": 52,
      "outputs": [
        {
          "output_type": "stream",
          "text": [
            "1\n",
            "2\n",
            "3\n",
            "4\n",
            "5\n",
            "6\n"
          ],
          "name": "stdout"
        }
      ]
    },
    {
      "cell_type": "code",
      "metadata": {
        "id": "TRhDRL_a5uoG",
        "outputId": "7e606e20-be19-4d79-b9b4-466b414161d6",
        "colab": {
          "base_uri": "https://localhost:8080/",
          "height": 35
        }
      },
      "source": [
        "# square each element of a list and append to a new list\n",
        "b = []  # empty list\n",
        "for element in a:\n",
        "    b.append(element*element)\n",
        "    \n",
        "print(b)    "
      ],
      "execution_count": 53,
      "outputs": [
        {
          "output_type": "stream",
          "text": [
            "[1, 4, 9, 16, 25, 36]\n"
          ],
          "name": "stdout"
        }
      ]
    },
    {
      "cell_type": "code",
      "metadata": {
        "id": "_6csInMk5uoH",
        "outputId": "53875e98-e4c3-4db9-803e-48c8e587756e",
        "colab": {
          "base_uri": "https://localhost:8080/",
          "height": 35
        }
      },
      "source": [
        "# populate a dictionary using a for loop\n",
        "name = ['joe', 'jonas', 'Kit', 'Harrington', 'Liam', 'Neeson']\n",
        "weight = [15, 18, 17, 22, 25, 23]\n",
        "dictionary = {}\n",
        "\n",
        "for i in range(0,6):\n",
        "    dictionary[name[i]] = weight[i]\n",
        "\n",
        "dictionary"
      ],
      "execution_count": 54,
      "outputs": [
        {
          "output_type": "execute_result",
          "data": {
            "text/plain": [
              "{'Harrington': 22, 'Kit': 17, 'Liam': 25, 'Neeson': 23, 'joe': 15, 'jonas': 18}"
            ]
          },
          "metadata": {
            "tags": []
          },
          "execution_count": 54
        }
      ]
    },
    {
      "cell_type": "code",
      "metadata": {
        "id": "v4jeVr355uoI",
        "outputId": "51305ae2-a19c-4186-e1d9-e617a593397f",
        "colab": {
          "base_uri": "https://localhost:8080/",
          "height": 562
        }
      },
      "source": [
        "# Lets print some shapes to get comfortable with loops\n",
        "\n",
        "# pyramid\n",
        "for i in range(10):\n",
        "    print((10-i)*' ' + i*'* ')\n",
        "\n",
        "# half diamond\n",
        "for i in range(10):\n",
        "    if i < 6:\n",
        "        print(i*' *')\n",
        "    else:\n",
        "        print((10 - i)*' *')\n",
        "\n",
        "# full diamond\n",
        "for i in range(10):\n",
        "    if i < 6:\n",
        "        print((10-i)*' ' + i*'* ')\n",
        "    else:\n",
        "        print((i*' ' + (10 - i)*'* '))\n",
        "    "
      ],
      "execution_count": 55,
      "outputs": [
        {
          "output_type": "stream",
          "text": [
            "          \n",
            "         * \n",
            "        * * \n",
            "       * * * \n",
            "      * * * * \n",
            "     * * * * * \n",
            "    * * * * * * \n",
            "   * * * * * * * \n",
            "  * * * * * * * * \n",
            " * * * * * * * * * \n",
            "\n",
            " *\n",
            " * *\n",
            " * * *\n",
            " * * * *\n",
            " * * * * *\n",
            " * * * *\n",
            " * * *\n",
            " * *\n",
            " *\n",
            "          \n",
            "         * \n",
            "        * * \n",
            "       * * * \n",
            "      * * * * \n",
            "     * * * * * \n",
            "      * * * * \n",
            "       * * * \n",
            "        * * \n",
            "         * \n"
          ],
          "name": "stdout"
        }
      ]
    }
  ]
}