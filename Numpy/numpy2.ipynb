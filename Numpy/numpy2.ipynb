{
  "nbformat": 4,
  "nbformat_minor": 0,
  "metadata": {
    "kernelspec": {
      "display_name": "Python 3",
      "language": "python",
      "name": "python3"
    },
    "language_info": {
      "codemirror_mode": {
        "name": "ipython",
        "version": 3
      },
      "file_extension": ".py",
      "mimetype": "text/x-python",
      "name": "python",
      "nbconvert_exporter": "python",
      "pygments_lexer": "ipython3",
      "version": "3.6.8"
    },
    "colab": {
      "name": "numpy2.ipynb",
      "provenance": [],
      "collapsed_sections": []
    }
  },
  "cells": [
    {
      "cell_type": "markdown",
      "metadata": {
        "id": "PYduaT7voxwa"
      },
      "source": [
        "# NumPy\n",
        "\n",
        "numpy is python's package for doing math that is more advanced than +-*/\n",
        "\n",
        "This includes special functions like cosine, exponential, sqrt, ...\n",
        "\n",
        "On top of this we can use numpy to generate samples from many types of random variables\n",
        "\n",
        "numpy also has a powerful data type to define vectors, matrices, and tensors\n",
        "\n",
        "With these data types numpy also allows us to do linear algebra - matrix multiplication and matrix-vector solutions"
      ]
    },
    {
      "cell_type": "code",
      "metadata": {
        "id": "tIUREIDSoxwi"
      },
      "source": [
        "# the first step of using numpy is to tell python to use it\n",
        "import numpy as np"
      ],
      "execution_count": 1,
      "outputs": []
    },
    {
      "cell_type": "code",
      "metadata": {
        "id": "Yi3GMe5doxw9",
        "outputId": "fc9f004e-bf7a-429a-ea38-2ae6c1bde169",
        "colab": {
          "base_uri": "https://localhost:8080/",
          "height": 72
        }
      },
      "source": [
        "print(np.cos(np.pi))\n",
        "print(np.sqrt(1.21))\n",
        "print(np.log(np.exp(5.2)))"
      ],
      "execution_count": 2,
      "outputs": [
        {
          "output_type": "stream",
          "text": [
            "-1.0\n",
            "1.1\n",
            "5.2\n"
          ],
          "name": "stdout"
        }
      ]
    },
    {
      "cell_type": "code",
      "metadata": {
        "id": "a5_ynlU1oxxW",
        "outputId": "81dafed4-7ec4-4902-b831-9719a089b7b3",
        "colab": {
          "base_uri": "https://localhost:8080/",
          "height": 181
        }
      },
      "source": [
        "# we can create numpy arrays by converting lists\n",
        "# this is a vector\n",
        "vec = np.array([1,2,3])\n",
        "print(vec)\n",
        "# we can create matrices by converting lists of lists\n",
        "mat = np.array([[1,2,1],[4,5,9],[1,8,9]])\n",
        "print('')\n",
        "print(mat)\n",
        "print('')\n",
        "print(mat.T)"
      ],
      "execution_count": 3,
      "outputs": [
        {
          "output_type": "stream",
          "text": [
            "[1 2 3]\n",
            "\n",
            "[[1 2 1]\n",
            " [4 5 9]\n",
            " [1 8 9]]\n",
            "\n",
            "[[1 4 1]\n",
            " [2 5 8]\n",
            " [1 9 9]]\n"
          ],
          "name": "stdout"
        }
      ]
    },
    {
      "cell_type": "code",
      "metadata": {
        "id": "acKon1E4oxxq",
        "outputId": "299f3963-ef96-4055-dba8-910cf02ebd47",
        "colab": {
          "base_uri": "https://localhost:8080/",
          "height": 72
        }
      },
      "source": [
        "# there are lots of other ways to create numpy arrays\n",
        "vec2 = np.arange(0,15)\n",
        "print(vec2)\n",
        "print('')\n",
        "vec3 = np.arange(3,21,6)\n",
        "print(vec3)\n"
      ],
      "execution_count": 4,
      "outputs": [
        {
          "output_type": "stream",
          "text": [
            "[ 0  1  2  3  4  5  6  7  8  9 10 11 12 13 14]\n",
            "\n",
            "[ 3  9 15]\n"
          ],
          "name": "stdout"
        }
      ]
    },
    {
      "cell_type": "code",
      "metadata": {
        "id": "asApHFj-oxx5",
        "outputId": "16cd2abe-8a62-4439-dbe4-23c62fe75f06",
        "colab": {
          "base_uri": "https://localhost:8080/",
          "height": 290
        }
      },
      "source": [
        "\n",
        "vec4 = np.linspace(0,5,10)\n",
        "print(vec4)\n",
        "print('')\n",
        "print(vec4.reshape(5,2))\n",
        "vec4_reshaped = vec4.reshape(5,2)\n",
        "print(vec4_reshaped)\n",
        "print(vec4)"
      ],
      "execution_count": 5,
      "outputs": [
        {
          "output_type": "stream",
          "text": [
            "[0.         0.55555556 1.11111111 1.66666667 2.22222222 2.77777778\n",
            " 3.33333333 3.88888889 4.44444444 5.        ]\n",
            "\n",
            "[[0.         0.55555556]\n",
            " [1.11111111 1.66666667]\n",
            " [2.22222222 2.77777778]\n",
            " [3.33333333 3.88888889]\n",
            " [4.44444444 5.        ]]\n",
            "[[0.         0.55555556]\n",
            " [1.11111111 1.66666667]\n",
            " [2.22222222 2.77777778]\n",
            " [3.33333333 3.88888889]\n",
            " [4.44444444 5.        ]]\n",
            "[0.         0.55555556 1.11111111 1.66666667 2.22222222 2.77777778\n",
            " 3.33333333 3.88888889 4.44444444 5.        ]\n"
          ],
          "name": "stdout"
        }
      ]
    },
    {
      "cell_type": "code",
      "metadata": {
        "id": "_wBUxOQ2oxyM",
        "outputId": "7eb56bbd-04fc-4075-8674-33a2b0d554ce",
        "colab": {
          "base_uri": "https://localhost:8080/",
          "height": 290
        }
      },
      "source": [
        "mat2 = np.zeros([5,3])\n",
        "print(mat2)\n",
        "mat3 = np.ones((3,5))\n",
        "print('')\n",
        "print(mat3)\n",
        "mat4 = np.eye(5)\n",
        "print('')\n",
        "print(mat4)"
      ],
      "execution_count": 6,
      "outputs": [
        {
          "output_type": "stream",
          "text": [
            "[[0. 0. 0.]\n",
            " [0. 0. 0.]\n",
            " [0. 0. 0.]\n",
            " [0. 0. 0.]\n",
            " [0. 0. 0.]]\n",
            "\n",
            "[[1. 1. 1. 1. 1.]\n",
            " [1. 1. 1. 1. 1.]\n",
            " [1. 1. 1. 1. 1.]]\n",
            "\n",
            "[[1. 0. 0. 0. 0.]\n",
            " [0. 1. 0. 0. 0.]\n",
            " [0. 0. 1. 0. 0.]\n",
            " [0. 0. 0. 1. 0.]\n",
            " [0. 0. 0. 0. 1.]]\n"
          ],
          "name": "stdout"
        }
      ]
    },
    {
      "cell_type": "code",
      "metadata": {
        "id": "C0yZDVd2oxyd",
        "outputId": "4578f7a3-820f-4d29-d97d-fc5669fdbcba",
        "colab": {
          "base_uri": "https://localhost:8080/",
          "height": 126
        }
      },
      "source": [
        "# we can +-*/ arrays together if they're the right size\n",
        "vec5 = np.arange(1,6)\n",
        "vec6 = np.arange(3,8)\n",
        "print(vec5)\n",
        "print(vec6)\n",
        "print(vec5+vec6)\n",
        "print(vec5*vec6)\n",
        "print(1/vec5)\n",
        "print(np.sqrt(vec6))"
      ],
      "execution_count": 7,
      "outputs": [
        {
          "output_type": "stream",
          "text": [
            "[1 2 3 4 5]\n",
            "[3 4 5 6 7]\n",
            "[ 4  6  8 10 12]\n",
            "[ 3  8 15 24 35]\n",
            "[1.         0.5        0.33333333 0.25       0.2       ]\n",
            "[1.73205081 2.         2.23606798 2.44948974 2.64575131]\n"
          ],
          "name": "stdout"
        }
      ]
    },
    {
      "cell_type": "code",
      "metadata": {
        "id": "MjtH3TEHoxyp",
        "outputId": "82ae7f6b-445d-40f4-fbc1-4e7084a3b8e5",
        "colab": {
          "base_uri": "https://localhost:8080/",
          "height": 144
        }
      },
      "source": [
        "# we can do matrix multiplication\n",
        "print(mat)\n",
        "print('')\n",
        "print(vec)\n",
        "print()\n",
        "product = np.matmul(mat,vec)\n",
        "print(product)"
      ],
      "execution_count": 8,
      "outputs": [
        {
          "output_type": "stream",
          "text": [
            "[[1 2 1]\n",
            " [4 5 9]\n",
            " [1 8 9]]\n",
            "\n",
            "[1 2 3]\n",
            "\n",
            "[ 8 41 44]\n"
          ],
          "name": "stdout"
        }
      ]
    },
    {
      "cell_type": "code",
      "metadata": {
        "id": "cd3V8ZN5oxy0",
        "outputId": "8cd30341-7751-4222-e14e-596363d879cd",
        "colab": {
          "base_uri": "https://localhost:8080/",
          "height": 108
        }
      },
      "source": [
        "print(np.linalg.solve(mat,product))\n",
        "print('')\n",
        "print(np.linalg.inv(mat))"
      ],
      "execution_count": 9,
      "outputs": [
        {
          "output_type": "stream",
          "text": [
            "[1. 2. 3.]\n",
            "\n",
            "[[ 0.5         0.18518519 -0.24074074]\n",
            " [ 0.5        -0.14814815  0.09259259]\n",
            " [-0.5         0.11111111  0.05555556]]\n"
          ],
          "name": "stdout"
        }
      ]
    },
    {
      "cell_type": "code",
      "metadata": {
        "id": "bTbeDCOioxzG",
        "outputId": "7d713855-3bf5-4499-b1c5-74fadbe134f2",
        "colab": {
          "base_uri": "https://localhost:8080/",
          "height": 53
        }
      },
      "source": [
        "# we can find the unique values in an array\n",
        "vec7 = np.array(['blue','red','orange','purple','purple','orange','Red',6])\n",
        "print(vec7)\n",
        "print(np.unique(vec7))"
      ],
      "execution_count": 10,
      "outputs": [
        {
          "output_type": "stream",
          "text": [
            "['blue' 'red' 'orange' 'purple' 'purple' 'orange' 'Red' '6']\n",
            "['6' 'Red' 'blue' 'orange' 'purple' 'red']\n"
          ],
          "name": "stdout"
        }
      ]
    },
    {
      "cell_type": "code",
      "metadata": {
        "id": "piDVATI6oxzT",
        "outputId": "c5fbb278-98dd-4875-e5df-f07621a0ef0b",
        "colab": {
          "base_uri": "https://localhost:8080/",
          "height": 308
        }
      },
      "source": [
        "# we can also use numpy to generate samples of a random variable\n",
        "rand_mat = np.random.rand(5,5) # uniform random variable\n",
        "print(rand_mat)\n",
        "rand_mat2 = np.random.randn(10,5) # standard normal random variable\n",
        "print('')\n",
        "print(rand_mat2)"
      ],
      "execution_count": 11,
      "outputs": [
        {
          "output_type": "stream",
          "text": [
            "[[0.51455636 0.0418407  0.9127962  0.7811876  0.81735072]\n",
            " [0.90120642 0.81202447 0.31456234 0.9126753  0.88091418]\n",
            " [0.58038939 0.2970829  0.43474181 0.72725366 0.13037094]\n",
            " [0.72396114 0.95185801 0.31205929 0.89711173 0.74826376]\n",
            " [0.28121454 0.45068226 0.02243526 0.90771185 0.69443879]]\n",
            "\n",
            "[[-3.88537268  0.70036773  0.60360298  0.13723625 -0.55145658]\n",
            " [ 1.50903367  1.12532807  0.30062262 -0.8198288  -0.47083279]\n",
            " [ 0.96778823 -0.29033872 -0.30332543 -1.5023813  -0.90507018]\n",
            " [ 1.22739274  0.10790077  1.90439782 -0.36304414 -0.11295997]\n",
            " [ 0.05591424  0.270761   -0.53661547  0.8143339   1.39837523]\n",
            " [ 0.29412153 -0.13241408  1.06111553  0.50373841 -0.90792563]\n",
            " [-1.11863583 -0.74034536  0.28478844  0.32427389 -0.66469516]\n",
            " [ 0.82970274 -1.7967009   1.05001483  1.83462096 -0.27782578]\n",
            " [ 1.27655482  1.84936345 -0.30648471  0.305631   -2.07270884]\n",
            " [ 0.85026022 -0.93755748 -0.24309186  1.76511775  0.47737397]]\n"
          ],
          "name": "stdout"
        }
      ]
    },
    {
      "cell_type": "code",
      "metadata": {
        "id": "UznylinXoxze",
        "outputId": "a0d29f90-2f07-4fa8-867f-1e4a2351da18",
        "colab": {
          "base_uri": "https://localhost:8080/",
          "height": 53
        }
      },
      "source": [
        "# we can also use numpy for statistical tools on arrays\n",
        "print(np.mean(rand_mat))\n",
        "print(np.std(rand_mat2))"
      ],
      "execution_count": 12,
      "outputs": [
        {
          "output_type": "stream",
          "text": [
            "0.6019475843175678\n",
            "1.100186316488651\n"
          ],
          "name": "stdout"
        }
      ]
    },
    {
      "cell_type": "code",
      "metadata": {
        "id": "cYrHMVknoxzn",
        "outputId": "bf2b185c-dee0-457c-e07d-3cd933d23c2b",
        "colab": {
          "base_uri": "https://localhost:8080/",
          "height": 53
        }
      },
      "source": [
        "print(np.min(rand_mat))\n",
        "print(np.max(rand_mat2))"
      ],
      "execution_count": 13,
      "outputs": [
        {
          "output_type": "stream",
          "text": [
            "0.02243526135677676\n",
            "1.9043978208786965\n"
          ],
          "name": "stdout"
        }
      ]
    },
    {
      "cell_type": "code",
      "metadata": {
        "id": "4YuGjz1Xoxzy"
      },
      "source": [
        "# break here for next video!"
      ],
      "execution_count": 14,
      "outputs": []
    },
    {
      "cell_type": "code",
      "metadata": {
        "id": "e-hTgbCjoxz6",
        "outputId": "6753476f-cea5-4c1c-b8a7-7a05737baee8",
        "colab": {
          "base_uri": "https://localhost:8080/",
          "height": 108
        }
      },
      "source": [
        "# how do we access entries in a numpy vector\n",
        "rand_vec = np.random.randn(19)\n",
        "print(rand_vec)\n",
        "print(rand_vec[6])"
      ],
      "execution_count": 15,
      "outputs": [
        {
          "output_type": "stream",
          "text": [
            "[-0.37707893  0.56637936 -1.48043257 -0.03146153  1.51777653 -0.30397863\n",
            "  0.62283713  1.24888757 -0.46961672 -0.99218608  0.73236815  0.25937651\n",
            "  1.08497717 -2.32350112 -0.83726779  0.07762162 -0.2657503  -0.52275296\n",
            " -1.24229535]\n",
            "0.62283713462221\n"
          ],
          "name": "stdout"
        }
      ]
    },
    {
      "cell_type": "code",
      "metadata": {
        "id": "ikxq6ex4ox0D",
        "outputId": "28ebedef-37d0-43e2-8305-b86294b33065",
        "colab": {
          "base_uri": "https://localhost:8080/",
          "height": 35
        }
      },
      "source": [
        "# we can access multiple entries at once using :\n",
        "print(rand_vec[4:9])"
      ],
      "execution_count": 16,
      "outputs": [
        {
          "output_type": "stream",
          "text": [
            "[ 1.51777653 -0.30397863  0.62283713  1.24888757 -0.46961672]\n"
          ],
          "name": "stdout"
        }
      ]
    },
    {
      "cell_type": "code",
      "metadata": {
        "id": "wWwMLyu2ox0J",
        "outputId": "8eacd679-3175-4259-a07d-046624ef4ca7",
        "colab": {
          "base_uri": "https://localhost:8080/",
          "height": 53
        }
      },
      "source": [
        "# we can also access multiple non-consecutive entries using np.arange\n",
        "print(np.arange(0,15,3))\n",
        "print(rand_vec[np.arange(0,15,3)])"
      ],
      "execution_count": 17,
      "outputs": [
        {
          "output_type": "stream",
          "text": [
            "[ 0  3  6  9 12]\n",
            "[-0.37707893 -0.03146153  0.62283713 -0.99218608  1.08497717]\n"
          ],
          "name": "stdout"
        }
      ]
    },
    {
      "cell_type": "code",
      "metadata": {
        "id": "91BN2v1vox0P",
        "outputId": "92e8a948-159b-46eb-9bc3-56cf10cf5389",
        "colab": {
          "base_uri": "https://localhost:8080/",
          "height": 144
        }
      },
      "source": [
        "# what about matrices\n",
        "print(rand_mat)\n",
        "print(rand_mat[1][2])\n",
        "print(rand_mat[1,2])\n"
      ],
      "execution_count": 18,
      "outputs": [
        {
          "output_type": "stream",
          "text": [
            "[[0.51455636 0.0418407  0.9127962  0.7811876  0.81735072]\n",
            " [0.90120642 0.81202447 0.31456234 0.9126753  0.88091418]\n",
            " [0.58038939 0.2970829  0.43474181 0.72725366 0.13037094]\n",
            " [0.72396114 0.95185801 0.31205929 0.89711173 0.74826376]\n",
            " [0.28121454 0.45068226 0.02243526 0.90771185 0.69443879]]\n",
            "0.3145623446311385\n",
            "0.3145623446311385\n"
          ],
          "name": "stdout"
        }
      ]
    },
    {
      "cell_type": "code",
      "metadata": {
        "id": "SDB6VqqLox0U",
        "outputId": "948fa3ec-eb01-4c9a-b5dd-d862d8f0d2c9",
        "colab": {
          "base_uri": "https://localhost:8080/",
          "height": 53
        }
      },
      "source": [
        "print(rand_mat[0:2,1:3])"
      ],
      "execution_count": 19,
      "outputs": [
        {
          "output_type": "stream",
          "text": [
            "[[0.0418407  0.9127962 ]\n",
            " [0.81202447 0.31456234]]\n"
          ],
          "name": "stdout"
        }
      ]
    },
    {
      "cell_type": "code",
      "metadata": {
        "id": "xkacPaqjox0Z",
        "outputId": "a0076d28-ac77-4daf-927b-f37d72efc3fd",
        "colab": {
          "base_uri": "https://localhost:8080/",
          "height": 271
        }
      },
      "source": [
        "# let's change some values in an array!\n",
        "print(rand_vec)\n",
        "rand_vec[3:5] = 4\n",
        "print('')\n",
        "print(rand_vec)\n",
        "rand_vec[3:5] = [1,2]\n",
        "print('')\n",
        "print(rand_vec)"
      ],
      "execution_count": 20,
      "outputs": [
        {
          "output_type": "stream",
          "text": [
            "[-0.37707893  0.56637936 -1.48043257 -0.03146153  1.51777653 -0.30397863\n",
            "  0.62283713  1.24888757 -0.46961672 -0.99218608  0.73236815  0.25937651\n",
            "  1.08497717 -2.32350112 -0.83726779  0.07762162 -0.2657503  -0.52275296\n",
            " -1.24229535]\n",
            "\n",
            "[-0.37707893  0.56637936 -1.48043257  4.          4.         -0.30397863\n",
            "  0.62283713  1.24888757 -0.46961672 -0.99218608  0.73236815  0.25937651\n",
            "  1.08497717 -2.32350112 -0.83726779  0.07762162 -0.2657503  -0.52275296\n",
            " -1.24229535]\n",
            "\n",
            "[-0.37707893  0.56637936 -1.48043257  1.          2.         -0.30397863\n",
            "  0.62283713  1.24888757 -0.46961672 -0.99218608  0.73236815  0.25937651\n",
            "  1.08497717 -2.32350112 -0.83726779  0.07762162 -0.2657503  -0.52275296\n",
            " -1.24229535]\n"
          ],
          "name": "stdout"
        }
      ]
    },
    {
      "cell_type": "code",
      "metadata": {
        "id": "4dvULLOXox0f",
        "outputId": "e991bd21-0c1b-4bb3-8bfe-1026cd5fe01d",
        "colab": {
          "base_uri": "https://localhost:8080/",
          "height": 217
        }
      },
      "source": [
        "print(rand_mat)\n",
        "rand_mat[1:3,3:5] = 0\n",
        "print('')\n",
        "print(rand_mat)"
      ],
      "execution_count": 21,
      "outputs": [
        {
          "output_type": "stream",
          "text": [
            "[[0.51455636 0.0418407  0.9127962  0.7811876  0.81735072]\n",
            " [0.90120642 0.81202447 0.31456234 0.9126753  0.88091418]\n",
            " [0.58038939 0.2970829  0.43474181 0.72725366 0.13037094]\n",
            " [0.72396114 0.95185801 0.31205929 0.89711173 0.74826376]\n",
            " [0.28121454 0.45068226 0.02243526 0.90771185 0.69443879]]\n",
            "\n",
            "[[0.51455636 0.0418407  0.9127962  0.7811876  0.81735072]\n",
            " [0.90120642 0.81202447 0.31456234 0.         0.        ]\n",
            " [0.58038939 0.2970829  0.43474181 0.         0.        ]\n",
            " [0.72396114 0.95185801 0.31205929 0.89711173 0.74826376]\n",
            " [0.28121454 0.45068226 0.02243526 0.90771185 0.69443879]]\n"
          ],
          "name": "stdout"
        }
      ]
    },
    {
      "cell_type": "code",
      "metadata": {
        "id": "daDeyP4Dox0o",
        "outputId": "4902c566-0c64-49e0-efa2-f256c6030a4a",
        "colab": {
          "base_uri": "https://localhost:8080/",
          "height": 90
        }
      },
      "source": [
        "sub_mat = rand_mat[0:2,0:3]\n",
        "print(sub_mat)\n",
        "sub_mat[:] = 3\n",
        "print(sub_mat)\n"
      ],
      "execution_count": 22,
      "outputs": [
        {
          "output_type": "stream",
          "text": [
            "[[0.51455636 0.0418407  0.9127962 ]\n",
            " [0.90120642 0.81202447 0.31456234]]\n",
            "[[3. 3. 3.]\n",
            " [3. 3. 3.]]\n"
          ],
          "name": "stdout"
        }
      ]
    },
    {
      "cell_type": "code",
      "metadata": {
        "id": "c4q5TSojox0u",
        "outputId": "e9c83ef0-3566-4b2e-c732-aaa14e211b04",
        "colab": {
          "base_uri": "https://localhost:8080/",
          "height": 108
        }
      },
      "source": [
        "print(rand_mat)"
      ],
      "execution_count": 23,
      "outputs": [
        {
          "output_type": "stream",
          "text": [
            "[[3.         3.         3.         0.7811876  0.81735072]\n",
            " [3.         3.         3.         0.         0.        ]\n",
            " [0.58038939 0.2970829  0.43474181 0.         0.        ]\n",
            " [0.72396114 0.95185801 0.31205929 0.89711173 0.74826376]\n",
            " [0.28121454 0.45068226 0.02243526 0.90771185 0.69443879]]\n"
          ],
          "name": "stdout"
        }
      ]
    },
    {
      "cell_type": "code",
      "metadata": {
        "id": "RFyLBQkfox00",
        "outputId": "eb6d0508-c648-47a7-b751-97f3ff4c6058",
        "colab": {
          "base_uri": "https://localhost:8080/",
          "height": 144
        }
      },
      "source": [
        "sub_mat2 = rand_mat[0:2,0:3].copy()\n",
        "sub_mat2[:] = 99\n",
        "print(sub_mat2)\n",
        "print(rand_mat)\n"
      ],
      "execution_count": 24,
      "outputs": [
        {
          "output_type": "stream",
          "text": [
            "[[99. 99. 99.]\n",
            " [99. 99. 99.]]\n",
            "[[3.         3.         3.         0.7811876  0.81735072]\n",
            " [3.         3.         3.         0.         0.        ]\n",
            " [0.58038939 0.2970829  0.43474181 0.         0.        ]\n",
            " [0.72396114 0.95185801 0.31205929 0.89711173 0.74826376]\n",
            " [0.28121454 0.45068226 0.02243526 0.90771185 0.69443879]]\n"
          ],
          "name": "stdout"
        }
      ]
    },
    {
      "cell_type": "code",
      "metadata": {
        "id": "BuyztYd7ox05"
      },
      "source": [
        "# break here for next video"
      ],
      "execution_count": 25,
      "outputs": []
    },
    {
      "cell_type": "code",
      "metadata": {
        "id": "isyxXAbCox09",
        "outputId": "e7dec1e5-7b68-4827-98a1-2d9adf74225f",
        "colab": {
          "base_uri": "https://localhost:8080/",
          "height": 144
        }
      },
      "source": [
        "# we can also access entries with logicals\n",
        "rand_vec = np.random.randn(15)\n",
        "\n",
        "print(rand_vec)\n",
        "print(rand_vec>0)\n",
        "print(rand_vec[rand_vec>0])"
      ],
      "execution_count": 26,
      "outputs": [
        {
          "output_type": "stream",
          "text": [
            "[ 1.23656164  1.13424213 -1.61415935  0.9531814  -1.18867888  1.40481344\n",
            "  0.20879901 -2.31326949  1.66997661  1.1290655   0.96364775 -0.48360822\n",
            " -0.15140824 -0.02053712  0.04784239]\n",
            "[ True  True False  True False  True  True False  True  True  True False\n",
            " False False  True]\n",
            "[1.23656164 1.13424213 0.9531814  1.40481344 0.20879901 1.66997661\n",
            " 1.1290655  0.96364775 0.04784239]\n"
          ],
          "name": "stdout"
        }
      ]
    },
    {
      "cell_type": "code",
      "metadata": {
        "id": "E2XzhMnuox1F",
        "outputId": "2ab437f0-4397-4cf1-9de3-5741c3b5dc50",
        "colab": {
          "base_uri": "https://localhost:8080/",
          "height": 290
        }
      },
      "source": [
        "print(rand_mat2)\n",
        "print(rand_mat2[rand_mat2>0])"
      ],
      "execution_count": 27,
      "outputs": [
        {
          "output_type": "stream",
          "text": [
            "[[-3.88537268  0.70036773  0.60360298  0.13723625 -0.55145658]\n",
            " [ 1.50903367  1.12532807  0.30062262 -0.8198288  -0.47083279]\n",
            " [ 0.96778823 -0.29033872 -0.30332543 -1.5023813  -0.90507018]\n",
            " [ 1.22739274  0.10790077  1.90439782 -0.36304414 -0.11295997]\n",
            " [ 0.05591424  0.270761   -0.53661547  0.8143339   1.39837523]\n",
            " [ 0.29412153 -0.13241408  1.06111553  0.50373841 -0.90792563]\n",
            " [-1.11863583 -0.74034536  0.28478844  0.32427389 -0.66469516]\n",
            " [ 0.82970274 -1.7967009   1.05001483  1.83462096 -0.27782578]\n",
            " [ 1.27655482  1.84936345 -0.30648471  0.305631   -2.07270884]\n",
            " [ 0.85026022 -0.93755748 -0.24309186  1.76511775  0.47737397]]\n",
            "[0.70036773 0.60360298 0.13723625 1.50903367 1.12532807 0.30062262\n",
            " 0.96778823 1.22739274 0.10790077 1.90439782 0.05591424 0.270761\n",
            " 0.8143339  1.39837523 0.29412153 1.06111553 0.50373841 0.28478844\n",
            " 0.32427389 0.82970274 1.05001483 1.83462096 1.27655482 1.84936345\n",
            " 0.305631   0.85026022 1.76511775 0.47737397]\n"
          ],
          "name": "stdout"
        }
      ]
    },
    {
      "cell_type": "code",
      "metadata": {
        "id": "4SLkU08Jox1J",
        "outputId": "4854dbc8-ede0-4de2-c26f-6fa481a6aae9",
        "colab": {
          "base_uri": "https://localhost:8080/",
          "height": 144
        }
      },
      "source": [
        "\n",
        "print(rand_vec)\n",
        "print('')\n",
        "rand_vec[rand_vec>0.5] = -5\n",
        "print(rand_vec)"
      ],
      "execution_count": 28,
      "outputs": [
        {
          "output_type": "stream",
          "text": [
            "[ 1.23656164  1.13424213 -1.61415935  0.9531814  -1.18867888  1.40481344\n",
            "  0.20879901 -2.31326949  1.66997661  1.1290655   0.96364775 -0.48360822\n",
            " -0.15140824 -0.02053712  0.04784239]\n",
            "\n",
            "[-5.         -5.         -1.61415935 -5.         -1.18867888 -5.\n",
            "  0.20879901 -2.31326949 -5.         -5.         -5.         -0.48360822\n",
            " -0.15140824 -0.02053712  0.04784239]\n"
          ],
          "name": "stdout"
        }
      ]
    },
    {
      "cell_type": "code",
      "metadata": {
        "id": "QRhnGxzJox1U"
      },
      "source": [
        "# let's save some arrays on the disk for use later!\n",
        "np.save('saved_file_name',rand_mat2)\n"
      ],
      "execution_count": 29,
      "outputs": []
    },
    {
      "cell_type": "code",
      "metadata": {
        "id": "2BM5odYxox1Z"
      },
      "source": [
        "np.savez('zipped_file_name',rand_mat=rand_mat,rand_mat2=rand_mat2)"
      ],
      "execution_count": 30,
      "outputs": []
    },
    {
      "cell_type": "code",
      "metadata": {
        "id": "ZEDM8eQEox1f",
        "outputId": "c85d2c1f-a2ec-4c53-a8a5-aefe0c4d855f",
        "colab": {
          "base_uri": "https://localhost:8080/",
          "height": 235
        }
      },
      "source": [
        "# now let's load it\n",
        "loaded_vec = np.load('saved_file_name.npy')\n",
        "loaded_zip = np.load('zipped_file_name.npz')\n",
        "\n",
        "print(loaded_vec)\n",
        "print('')\n",
        "print(loaded_zip)"
      ],
      "execution_count": 31,
      "outputs": [
        {
          "output_type": "stream",
          "text": [
            "[[-3.88537268  0.70036773  0.60360298  0.13723625 -0.55145658]\n",
            " [ 1.50903367  1.12532807  0.30062262 -0.8198288  -0.47083279]\n",
            " [ 0.96778823 -0.29033872 -0.30332543 -1.5023813  -0.90507018]\n",
            " [ 1.22739274  0.10790077  1.90439782 -0.36304414 -0.11295997]\n",
            " [ 0.05591424  0.270761   -0.53661547  0.8143339   1.39837523]\n",
            " [ 0.29412153 -0.13241408  1.06111553  0.50373841 -0.90792563]\n",
            " [-1.11863583 -0.74034536  0.28478844  0.32427389 -0.66469516]\n",
            " [ 0.82970274 -1.7967009   1.05001483  1.83462096 -0.27782578]\n",
            " [ 1.27655482  1.84936345 -0.30648471  0.305631   -2.07270884]\n",
            " [ 0.85026022 -0.93755748 -0.24309186  1.76511775  0.47737397]]\n",
            "\n",
            "<numpy.lib.npyio.NpzFile object at 0x7f9f2ae3eda0>\n"
          ],
          "name": "stdout"
        }
      ]
    },
    {
      "cell_type": "code",
      "metadata": {
        "id": "v45NXyeRox1o",
        "outputId": "07479881-7b21-4577-f7b1-8dbd535ef2f7",
        "colab": {
          "base_uri": "https://localhost:8080/",
          "height": 399
        }
      },
      "source": [
        "print(loaded_zip['rand_mat'])\n",
        "print('')\n",
        "print(loaded_zip['rand_mat2'])\n",
        "\n",
        "new_array  = loaded_zip['rand_mat']\n",
        "print(new_array)"
      ],
      "execution_count": 32,
      "outputs": [
        {
          "output_type": "stream",
          "text": [
            "[[3.         3.         3.         0.7811876  0.81735072]\n",
            " [3.         3.         3.         0.         0.        ]\n",
            " [0.58038939 0.2970829  0.43474181 0.         0.        ]\n",
            " [0.72396114 0.95185801 0.31205929 0.89711173 0.74826376]\n",
            " [0.28121454 0.45068226 0.02243526 0.90771185 0.69443879]]\n",
            "\n",
            "[[-3.88537268  0.70036773  0.60360298  0.13723625 -0.55145658]\n",
            " [ 1.50903367  1.12532807  0.30062262 -0.8198288  -0.47083279]\n",
            " [ 0.96778823 -0.29033872 -0.30332543 -1.5023813  -0.90507018]\n",
            " [ 1.22739274  0.10790077  1.90439782 -0.36304414 -0.11295997]\n",
            " [ 0.05591424  0.270761   -0.53661547  0.8143339   1.39837523]\n",
            " [ 0.29412153 -0.13241408  1.06111553  0.50373841 -0.90792563]\n",
            " [-1.11863583 -0.74034536  0.28478844  0.32427389 -0.66469516]\n",
            " [ 0.82970274 -1.7967009   1.05001483  1.83462096 -0.27782578]\n",
            " [ 1.27655482  1.84936345 -0.30648471  0.305631   -2.07270884]\n",
            " [ 0.85026022 -0.93755748 -0.24309186  1.76511775  0.47737397]]\n",
            "[[3.         3.         3.         0.7811876  0.81735072]\n",
            " [3.         3.         3.         0.         0.        ]\n",
            " [0.58038939 0.2970829  0.43474181 0.         0.        ]\n",
            " [0.72396114 0.95185801 0.31205929 0.89711173 0.74826376]\n",
            " [0.28121454 0.45068226 0.02243526 0.90771185 0.69443879]]\n"
          ],
          "name": "stdout"
        }
      ]
    },
    {
      "cell_type": "code",
      "metadata": {
        "id": "Y2EvvCOXox1w",
        "outputId": "806e36ed-d151-46c3-bfaf-fa13c315a665",
        "colab": {
          "base_uri": "https://localhost:8080/",
          "height": 217
        }
      },
      "source": [
        "# we can also save/load as text files...but only single variables\n",
        "np.savetxt('text_file_name.txt',rand_mat,delimiter=',')\n",
        "rand_mat_txt = np.loadtxt('text_file_name.txt',delimiter=',')\n",
        "print(rand_mat)\n",
        "print('')\n",
        "print(rand_mat_txt)"
      ],
      "execution_count": 33,
      "outputs": [
        {
          "output_type": "stream",
          "text": [
            "[[3.         3.         3.         0.7811876  0.81735072]\n",
            " [3.         3.         3.         0.         0.        ]\n",
            " [0.58038939 0.2970829  0.43474181 0.         0.        ]\n",
            " [0.72396114 0.95185801 0.31205929 0.89711173 0.74826376]\n",
            " [0.28121454 0.45068226 0.02243526 0.90771185 0.69443879]]\n",
            "\n",
            "[[3.         3.         3.         0.7811876  0.81735072]\n",
            " [3.         3.         3.         0.         0.        ]\n",
            " [0.58038939 0.2970829  0.43474181 0.         0.        ]\n",
            " [0.72396114 0.95185801 0.31205929 0.89711173 0.74826376]\n",
            " [0.28121454 0.45068226 0.02243526 0.90771185 0.69443879]]\n"
          ],
          "name": "stdout"
        }
      ]
    },
    {
      "cell_type": "code",
      "metadata": {
        "id": "C1cmgUtzox15"
      },
      "source": [
        ""
      ],
      "execution_count": 33,
      "outputs": []
    }
  ]
}