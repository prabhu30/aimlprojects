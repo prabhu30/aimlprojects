{
  "nbformat": 4,
  "nbformat_minor": 0,
  "metadata": {
    "kernelspec": {
      "display_name": "Python 3",
      "language": "python",
      "name": "python3"
    },
    "language_info": {
      "codemirror_mode": {
        "name": "ipython",
        "version": 3
      },
      "file_extension": ".py",
      "mimetype": "text/x-python",
      "name": "python",
      "nbconvert_exporter": "python",
      "pygments_lexer": "ipython3",
      "version": "3.6.8"
    },
    "colab": {
      "name": "Pandas2.ipynb",
      "provenance": []
    }
  },
  "cells": [
    {
      "cell_type": "markdown",
      "metadata": {
        "id": "8sWWBMnZxEWZ"
      },
      "source": [
        "# Pandas\n",
        "\n",
        "Pandas is a package used for managing data.\n",
        "\n",
        "Pandas main use is that it creates 2 new data types for storing data: series and dataframe.\n",
        "\n",
        "Think of a pandas dataframe like an excel spreadsheet that is storing some data.  One column can have customer name, one column can have product sold name, another column can have price or quantity... Then the rows could be individual sales.\n",
        "\n",
        "A dataframe is made up of several series.  Each column of a dataframe is a series.\n",
        "\n",
        "We can name each column and row of a dataframe.\n",
        "\n",
        "A pandas dataframe is very similar to a data.frame in R.\n",
        "\n",
        "Similar to numpy arrays, a dataframe is a more robust data type for storing data than lists of lists. Dataframes are more flexible than numpy arrays.\n",
        "\n",
        "A numpy array can create a matrix with all entries of the same data type.  In a dataframe each column can have its own datatype.  \n",
        "\n",
        "That's not to say numpy arrays aren't useful.  It is often easiest to convert some subset of a dataframe to a numpy array and then use that to do some math.\n",
        "\n",
        "Pandas also has SQL-like functions for merging, joining, and sorting dataframes.\n",
        "\n"
      ]
    },
    {
      "cell_type": "code",
      "metadata": {
        "id": "La1O45PKxEWe"
      },
      "source": [
        "import pandas as pd\n",
        "import numpy as np  # numpy is not necessary for pandas, but we will use some np code in this example\n",
        "# in general it's good practice to import all pacakages at the beginning"
      ],
      "execution_count": 1,
      "outputs": []
    },
    {
      "cell_type": "code",
      "metadata": {
        "id": "R5psffudxEW0"
      },
      "source": [
        "# first let's look at series - think of this as a single column of a spreadsheet\n",
        "# each entry in a series corresponds to an individual row in the spreadsheet\n",
        "# we can create a series by converting a list, or numpy array\n",
        "\n",
        "mylist = [5.4,6.1,1.7,99.8]\n",
        "myarray = np.array(mylist)\n"
      ],
      "execution_count": 2,
      "outputs": []
    },
    {
      "cell_type": "code",
      "metadata": {
        "id": "rGcicGLExEXg",
        "outputId": "01948eea-239c-4917-f803-6bf5ae68bb54",
        "colab": {
          "base_uri": "https://localhost:8080/",
          "height": 199
        }
      },
      "source": [
        "myseries1 = pd.Series(data=mylist)\n",
        "print(myseries1)\n",
        "myseries2 = pd.Series(data=myarray)\n",
        "print(myseries2)"
      ],
      "execution_count": 3,
      "outputs": [
        {
          "output_type": "stream",
          "text": [
            "0     5.4\n",
            "1     6.1\n",
            "2     1.7\n",
            "3    99.8\n",
            "dtype: float64\n",
            "0     5.4\n",
            "1     6.1\n",
            "2     1.7\n",
            "3    99.8\n",
            "dtype: float64\n"
          ],
          "name": "stdout"
        }
      ]
    },
    {
      "cell_type": "code",
      "metadata": {
        "id": "CcOv5cZZxEYJ",
        "outputId": "9cf7836d-f09b-4be7-fab6-4278231b5935",
        "colab": {
          "base_uri": "https://localhost:8080/",
          "height": 35
        }
      },
      "source": [
        "# we access individual entries the same way as with lists and arrays\n",
        "print(myseries1[2])"
      ],
      "execution_count": 4,
      "outputs": [
        {
          "output_type": "stream",
          "text": [
            "1.7\n"
          ],
          "name": "stdout"
        }
      ]
    },
    {
      "cell_type": "code",
      "metadata": {
        "id": "cw96wMowxEYz",
        "outputId": "ab4a6bf6-3b85-4855-e2cc-7d54aa2cd6ea",
        "colab": {
          "base_uri": "https://localhost:8080/",
          "height": 108
        }
      },
      "source": [
        "# we can add labels to the entries of a series\n",
        "\n",
        "mylabels = ['first','second','third','fourth']\n",
        "myseries3 = pd.Series(data=mylist,index=mylabels)\n",
        "print(myseries3)"
      ],
      "execution_count": 5,
      "outputs": [
        {
          "output_type": "stream",
          "text": [
            "first      5.4\n",
            "second     6.1\n",
            "third      1.7\n",
            "fourth    99.8\n",
            "dtype: float64\n"
          ],
          "name": "stdout"
        }
      ]
    },
    {
      "cell_type": "code",
      "metadata": {
        "id": "gRa8j66NxEZd",
        "outputId": "bf9167f0-ace3-4f2f-9181-46614bc51a59",
        "colab": {
          "base_uri": "https://localhost:8080/",
          "height": 108
        }
      },
      "source": [
        "# we need not be explicit about the entries of pd.Series\n",
        "myseries4 = pd.Series(mylist,mylabels)\n",
        "print(myseries4)"
      ],
      "execution_count": 6,
      "outputs": [
        {
          "output_type": "stream",
          "text": [
            "first      5.4\n",
            "second     6.1\n",
            "third      1.7\n",
            "fourth    99.8\n",
            "dtype: float64\n"
          ],
          "name": "stdout"
        }
      ]
    },
    {
      "cell_type": "code",
      "metadata": {
        "id": "DUTJI4QhxEZ_",
        "outputId": "a5c37011-15d7-4e2c-a216-3f4b87d6674f",
        "colab": {
          "base_uri": "https://localhost:8080/",
          "height": 35
        }
      },
      "source": [
        "# we can also access entries using the index labels\n",
        "print(myseries4['second'])"
      ],
      "execution_count": 7,
      "outputs": [
        {
          "output_type": "stream",
          "text": [
            "6.1\n"
          ],
          "name": "stdout"
        }
      ]
    },
    {
      "cell_type": "code",
      "metadata": {
        "id": "vXXFp4OqxEaR",
        "outputId": "2e02442a-5664-4202-f094-cb9e676101e0",
        "colab": {
          "base_uri": "https://localhost:8080/",
          "height": 235
        }
      },
      "source": [
        "# we can do math on series \n",
        "myseries5 = pd.Series([5.5,1.1,8.8,1.6],['first','third','fourth','fifth'])\n",
        "print(myseries5)\n",
        "print('')\n",
        "print(myseries5+myseries4)"
      ],
      "execution_count": 8,
      "outputs": [
        {
          "output_type": "stream",
          "text": [
            "first     5.5\n",
            "third     1.1\n",
            "fourth    8.8\n",
            "fifth     1.6\n",
            "dtype: float64\n",
            "\n",
            "fifth       NaN\n",
            "first      10.9\n",
            "fourth    108.6\n",
            "second      NaN\n",
            "third       2.8\n",
            "dtype: float64\n"
          ],
          "name": "stdout"
        }
      ]
    },
    {
      "cell_type": "code",
      "metadata": {
        "id": "fibUb5hjxEad",
        "outputId": "4f72bb49-3dde-4b31-ef5f-cf2c9552ff36",
        "colab": {
          "base_uri": "https://localhost:8080/",
          "height": 206
        }
      },
      "source": [
        "# we can combine series to create a dataframe using the concat function\n",
        "df1 = pd.concat([myseries4,myseries5],axis=1,sort=False)\n",
        "df1"
      ],
      "execution_count": 9,
      "outputs": [
        {
          "output_type": "execute_result",
          "data": {
            "text/html": [
              "<div>\n",
              "<style scoped>\n",
              "    .dataframe tbody tr th:only-of-type {\n",
              "        vertical-align: middle;\n",
              "    }\n",
              "\n",
              "    .dataframe tbody tr th {\n",
              "        vertical-align: top;\n",
              "    }\n",
              "\n",
              "    .dataframe thead th {\n",
              "        text-align: right;\n",
              "    }\n",
              "</style>\n",
              "<table border=\"1\" class=\"dataframe\">\n",
              "  <thead>\n",
              "    <tr style=\"text-align: right;\">\n",
              "      <th></th>\n",
              "      <th>0</th>\n",
              "      <th>1</th>\n",
              "    </tr>\n",
              "  </thead>\n",
              "  <tbody>\n",
              "    <tr>\n",
              "      <th>first</th>\n",
              "      <td>5.4</td>\n",
              "      <td>5.5</td>\n",
              "    </tr>\n",
              "    <tr>\n",
              "      <th>second</th>\n",
              "      <td>6.1</td>\n",
              "      <td>NaN</td>\n",
              "    </tr>\n",
              "    <tr>\n",
              "      <th>third</th>\n",
              "      <td>1.7</td>\n",
              "      <td>1.1</td>\n",
              "    </tr>\n",
              "    <tr>\n",
              "      <th>fourth</th>\n",
              "      <td>99.8</td>\n",
              "      <td>8.8</td>\n",
              "    </tr>\n",
              "    <tr>\n",
              "      <th>fifth</th>\n",
              "      <td>NaN</td>\n",
              "      <td>1.6</td>\n",
              "    </tr>\n",
              "  </tbody>\n",
              "</table>\n",
              "</div>"
            ],
            "text/plain": [
              "           0    1\n",
              "first    5.4  5.5\n",
              "second   6.1  NaN\n",
              "third    1.7  1.1\n",
              "fourth  99.8  8.8\n",
              "fifth    NaN  1.6"
            ]
          },
          "metadata": {
            "tags": []
          },
          "execution_count": 9
        }
      ]
    },
    {
      "cell_type": "code",
      "metadata": {
        "id": "LxsEB9lUxEaq",
        "outputId": "e995c2b0-1d93-49eb-f7a1-cd4498352d87",
        "colab": {
          "base_uri": "https://localhost:8080/",
          "height": 206
        }
      },
      "source": [
        "# we can create a new dataframe \n",
        "df2 = pd.DataFrame(np.random.randn(5,5))\n",
        "df2"
      ],
      "execution_count": 10,
      "outputs": [
        {
          "output_type": "execute_result",
          "data": {
            "text/html": [
              "<div>\n",
              "<style scoped>\n",
              "    .dataframe tbody tr th:only-of-type {\n",
              "        vertical-align: middle;\n",
              "    }\n",
              "\n",
              "    .dataframe tbody tr th {\n",
              "        vertical-align: top;\n",
              "    }\n",
              "\n",
              "    .dataframe thead th {\n",
              "        text-align: right;\n",
              "    }\n",
              "</style>\n",
              "<table border=\"1\" class=\"dataframe\">\n",
              "  <thead>\n",
              "    <tr style=\"text-align: right;\">\n",
              "      <th></th>\n",
              "      <th>0</th>\n",
              "      <th>1</th>\n",
              "      <th>2</th>\n",
              "      <th>3</th>\n",
              "      <th>4</th>\n",
              "    </tr>\n",
              "  </thead>\n",
              "  <tbody>\n",
              "    <tr>\n",
              "      <th>0</th>\n",
              "      <td>0.172836</td>\n",
              "      <td>-1.458761</td>\n",
              "      <td>-0.447566</td>\n",
              "      <td>-2.122111</td>\n",
              "      <td>-1.266052</td>\n",
              "    </tr>\n",
              "    <tr>\n",
              "      <th>1</th>\n",
              "      <td>1.533830</td>\n",
              "      <td>-0.832590</td>\n",
              "      <td>1.206648</td>\n",
              "      <td>1.185509</td>\n",
              "      <td>-0.456318</td>\n",
              "    </tr>\n",
              "    <tr>\n",
              "      <th>2</th>\n",
              "      <td>-0.131791</td>\n",
              "      <td>0.168340</td>\n",
              "      <td>1.719580</td>\n",
              "      <td>-1.216154</td>\n",
              "      <td>0.162250</td>\n",
              "    </tr>\n",
              "    <tr>\n",
              "      <th>3</th>\n",
              "      <td>-0.898425</td>\n",
              "      <td>1.910916</td>\n",
              "      <td>-0.572565</td>\n",
              "      <td>1.879639</td>\n",
              "      <td>-0.659642</td>\n",
              "    </tr>\n",
              "    <tr>\n",
              "      <th>4</th>\n",
              "      <td>-1.015346</td>\n",
              "      <td>0.059094</td>\n",
              "      <td>2.045806</td>\n",
              "      <td>1.215335</td>\n",
              "      <td>0.756107</td>\n",
              "    </tr>\n",
              "  </tbody>\n",
              "</table>\n",
              "</div>"
            ],
            "text/plain": [
              "          0         1         2         3         4\n",
              "0  0.172836 -1.458761 -0.447566 -2.122111 -1.266052\n",
              "1  1.533830 -0.832590  1.206648  1.185509 -0.456318\n",
              "2 -0.131791  0.168340  1.719580 -1.216154  0.162250\n",
              "3 -0.898425  1.910916 -0.572565  1.879639 -0.659642\n",
              "4 -1.015346  0.059094  2.045806  1.215335  0.756107"
            ]
          },
          "metadata": {
            "tags": []
          },
          "execution_count": 10
        }
      ]
    },
    {
      "cell_type": "code",
      "metadata": {
        "id": "fmrYhvoFxEa0",
        "outputId": "72c08bc5-4fa4-48ba-bdf8-b4fe0a4d7aaa",
        "colab": {
          "base_uri": "https://localhost:8080/",
          "height": 206
        }
      },
      "source": [
        "# lets give labels to rows and columns\n",
        "df3 = pd.DataFrame(np.random.randn(5,5),index=['first row','second row','third row','fourth row','fifth row'],\n",
        "                   columns=['first col','second col','third col','fourth col','fifth col'])\n",
        "df3"
      ],
      "execution_count": 11,
      "outputs": [
        {
          "output_type": "execute_result",
          "data": {
            "text/html": [
              "<div>\n",
              "<style scoped>\n",
              "    .dataframe tbody tr th:only-of-type {\n",
              "        vertical-align: middle;\n",
              "    }\n",
              "\n",
              "    .dataframe tbody tr th {\n",
              "        vertical-align: top;\n",
              "    }\n",
              "\n",
              "    .dataframe thead th {\n",
              "        text-align: right;\n",
              "    }\n",
              "</style>\n",
              "<table border=\"1\" class=\"dataframe\">\n",
              "  <thead>\n",
              "    <tr style=\"text-align: right;\">\n",
              "      <th></th>\n",
              "      <th>first col</th>\n",
              "      <th>second col</th>\n",
              "      <th>third col</th>\n",
              "      <th>fourth col</th>\n",
              "      <th>fifth col</th>\n",
              "    </tr>\n",
              "  </thead>\n",
              "  <tbody>\n",
              "    <tr>\n",
              "      <th>first row</th>\n",
              "      <td>-2.086404</td>\n",
              "      <td>0.356256</td>\n",
              "      <td>0.649352</td>\n",
              "      <td>-0.772419</td>\n",
              "      <td>1.426153</td>\n",
              "    </tr>\n",
              "    <tr>\n",
              "      <th>second row</th>\n",
              "      <td>0.580808</td>\n",
              "      <td>1.278439</td>\n",
              "      <td>0.966616</td>\n",
              "      <td>-1.077667</td>\n",
              "      <td>-0.882265</td>\n",
              "    </tr>\n",
              "    <tr>\n",
              "      <th>third row</th>\n",
              "      <td>0.120439</td>\n",
              "      <td>1.574922</td>\n",
              "      <td>-0.344264</td>\n",
              "      <td>1.905708</td>\n",
              "      <td>-0.355028</td>\n",
              "    </tr>\n",
              "    <tr>\n",
              "      <th>fourth row</th>\n",
              "      <td>-0.820606</td>\n",
              "      <td>0.603942</td>\n",
              "      <td>0.547915</td>\n",
              "      <td>-0.386362</td>\n",
              "      <td>1.821735</td>\n",
              "    </tr>\n",
              "    <tr>\n",
              "      <th>fifth row</th>\n",
              "      <td>0.188539</td>\n",
              "      <td>0.155899</td>\n",
              "      <td>0.109995</td>\n",
              "      <td>-0.907258</td>\n",
              "      <td>-0.136833</td>\n",
              "    </tr>\n",
              "  </tbody>\n",
              "</table>\n",
              "</div>"
            ],
            "text/plain": [
              "            first col  second col  third col  fourth col  fifth col\n",
              "first row   -2.086404    0.356256   0.649352   -0.772419   1.426153\n",
              "second row   0.580808    1.278439   0.966616   -1.077667  -0.882265\n",
              "third row    0.120439    1.574922  -0.344264    1.905708  -0.355028\n",
              "fourth row  -0.820606    0.603942   0.547915   -0.386362   1.821735\n",
              "fifth row    0.188539    0.155899   0.109995   -0.907258  -0.136833"
            ]
          },
          "metadata": {
            "tags": []
          },
          "execution_count": 11
        }
      ]
    },
    {
      "cell_type": "code",
      "metadata": {
        "id": "VNquY1AjxEbA",
        "outputId": "54fdb87e-fbea-481d-9b7b-fd98b78ff095",
        "colab": {
          "base_uri": "https://localhost:8080/",
          "height": 333
        }
      },
      "source": [
        "# we can access individual series in a data frame\n",
        "print(df3['second col'])\n",
        "print('')\n",
        "df3[['third col','first col']]"
      ],
      "execution_count": 12,
      "outputs": [
        {
          "output_type": "stream",
          "text": [
            "first row     0.356256\n",
            "second row    1.278439\n",
            "third row     1.574922\n",
            "fourth row    0.603942\n",
            "fifth row     0.155899\n",
            "Name: second col, dtype: float64\n",
            "\n"
          ],
          "name": "stdout"
        },
        {
          "output_type": "execute_result",
          "data": {
            "text/html": [
              "<div>\n",
              "<style scoped>\n",
              "    .dataframe tbody tr th:only-of-type {\n",
              "        vertical-align: middle;\n",
              "    }\n",
              "\n",
              "    .dataframe tbody tr th {\n",
              "        vertical-align: top;\n",
              "    }\n",
              "\n",
              "    .dataframe thead th {\n",
              "        text-align: right;\n",
              "    }\n",
              "</style>\n",
              "<table border=\"1\" class=\"dataframe\">\n",
              "  <thead>\n",
              "    <tr style=\"text-align: right;\">\n",
              "      <th></th>\n",
              "      <th>third col</th>\n",
              "      <th>first col</th>\n",
              "    </tr>\n",
              "  </thead>\n",
              "  <tbody>\n",
              "    <tr>\n",
              "      <th>first row</th>\n",
              "      <td>0.649352</td>\n",
              "      <td>-2.086404</td>\n",
              "    </tr>\n",
              "    <tr>\n",
              "      <th>second row</th>\n",
              "      <td>0.966616</td>\n",
              "      <td>0.580808</td>\n",
              "    </tr>\n",
              "    <tr>\n",
              "      <th>third row</th>\n",
              "      <td>-0.344264</td>\n",
              "      <td>0.120439</td>\n",
              "    </tr>\n",
              "    <tr>\n",
              "      <th>fourth row</th>\n",
              "      <td>0.547915</td>\n",
              "      <td>-0.820606</td>\n",
              "    </tr>\n",
              "    <tr>\n",
              "      <th>fifth row</th>\n",
              "      <td>0.109995</td>\n",
              "      <td>0.188539</td>\n",
              "    </tr>\n",
              "  </tbody>\n",
              "</table>\n",
              "</div>"
            ],
            "text/plain": [
              "            third col  first col\n",
              "first row    0.649352  -2.086404\n",
              "second row   0.966616   0.580808\n",
              "third row   -0.344264   0.120439\n",
              "fourth row   0.547915  -0.820606\n",
              "fifth row    0.109995   0.188539"
            ]
          },
          "metadata": {
            "tags": []
          },
          "execution_count": 12
        }
      ]
    },
    {
      "cell_type": "code",
      "metadata": {
        "id": "WxB8p2JaxEbL",
        "outputId": "89d95575-c5b4-4e99-a9af-c14f031a05a4",
        "colab": {
          "base_uri": "https://localhost:8080/",
          "height": 126
        }
      },
      "source": [
        "# we can access rows of a dataframe\n",
        "df3.loc['fourth row']"
      ],
      "execution_count": 13,
      "outputs": [
        {
          "output_type": "execute_result",
          "data": {
            "text/plain": [
              "first col    -0.820606\n",
              "second col    0.603942\n",
              "third col     0.547915\n",
              "fourth col   -0.386362\n",
              "fifth col     1.821735\n",
              "Name: fourth row, dtype: float64"
            ]
          },
          "metadata": {
            "tags": []
          },
          "execution_count": 13
        }
      ]
    },
    {
      "cell_type": "code",
      "metadata": {
        "id": "bqu5PSjYxEba",
        "outputId": "deb8e13a-6337-48af-fae4-97f95edd5e6e",
        "colab": {
          "base_uri": "https://localhost:8080/",
          "height": 126
        }
      },
      "source": [
        "df3.iloc[2]"
      ],
      "execution_count": 14,
      "outputs": [
        {
          "output_type": "execute_result",
          "data": {
            "text/plain": [
              "first col     0.120439\n",
              "second col    1.574922\n",
              "third col    -0.344264\n",
              "fourth col    1.905708\n",
              "fifth col    -0.355028\n",
              "Name: third row, dtype: float64"
            ]
          },
          "metadata": {
            "tags": []
          },
          "execution_count": 14
        }
      ]
    },
    {
      "cell_type": "code",
      "metadata": {
        "id": "wg3NMZpzxEbj",
        "outputId": "c49c0cb2-62c0-4e23-b906-23a07ed3e5c3",
        "colab": {
          "base_uri": "https://localhost:8080/",
          "height": 112
        }
      },
      "source": [
        "df3.loc[['fourth row','first row'],['second col','third col']]"
      ],
      "execution_count": 15,
      "outputs": [
        {
          "output_type": "execute_result",
          "data": {
            "text/html": [
              "<div>\n",
              "<style scoped>\n",
              "    .dataframe tbody tr th:only-of-type {\n",
              "        vertical-align: middle;\n",
              "    }\n",
              "\n",
              "    .dataframe tbody tr th {\n",
              "        vertical-align: top;\n",
              "    }\n",
              "\n",
              "    .dataframe thead th {\n",
              "        text-align: right;\n",
              "    }\n",
              "</style>\n",
              "<table border=\"1\" class=\"dataframe\">\n",
              "  <thead>\n",
              "    <tr style=\"text-align: right;\">\n",
              "      <th></th>\n",
              "      <th>second col</th>\n",
              "      <th>third col</th>\n",
              "    </tr>\n",
              "  </thead>\n",
              "  <tbody>\n",
              "    <tr>\n",
              "      <th>fourth row</th>\n",
              "      <td>0.603942</td>\n",
              "      <td>0.547915</td>\n",
              "    </tr>\n",
              "    <tr>\n",
              "      <th>first row</th>\n",
              "      <td>0.356256</td>\n",
              "      <td>0.649352</td>\n",
              "    </tr>\n",
              "  </tbody>\n",
              "</table>\n",
              "</div>"
            ],
            "text/plain": [
              "            second col  third col\n",
              "fourth row    0.603942   0.547915\n",
              "first row     0.356256   0.649352"
            ]
          },
          "metadata": {
            "tags": []
          },
          "execution_count": 15
        }
      ]
    },
    {
      "cell_type": "code",
      "metadata": {
        "id": "dS4g4DljxEby",
        "outputId": "b61a07a2-3bf2-4e05-8f17-e4119bfb482d",
        "colab": {
          "base_uri": "https://localhost:8080/",
          "height": 206
        }
      },
      "source": [
        "# we can use logical indexing for dataframes just like for numpy arrays\n",
        "df3>0"
      ],
      "execution_count": 16,
      "outputs": [
        {
          "output_type": "execute_result",
          "data": {
            "text/html": [
              "<div>\n",
              "<style scoped>\n",
              "    .dataframe tbody tr th:only-of-type {\n",
              "        vertical-align: middle;\n",
              "    }\n",
              "\n",
              "    .dataframe tbody tr th {\n",
              "        vertical-align: top;\n",
              "    }\n",
              "\n",
              "    .dataframe thead th {\n",
              "        text-align: right;\n",
              "    }\n",
              "</style>\n",
              "<table border=\"1\" class=\"dataframe\">\n",
              "  <thead>\n",
              "    <tr style=\"text-align: right;\">\n",
              "      <th></th>\n",
              "      <th>first col</th>\n",
              "      <th>second col</th>\n",
              "      <th>third col</th>\n",
              "      <th>fourth col</th>\n",
              "      <th>fifth col</th>\n",
              "    </tr>\n",
              "  </thead>\n",
              "  <tbody>\n",
              "    <tr>\n",
              "      <th>first row</th>\n",
              "      <td>False</td>\n",
              "      <td>True</td>\n",
              "      <td>True</td>\n",
              "      <td>False</td>\n",
              "      <td>True</td>\n",
              "    </tr>\n",
              "    <tr>\n",
              "      <th>second row</th>\n",
              "      <td>True</td>\n",
              "      <td>True</td>\n",
              "      <td>True</td>\n",
              "      <td>False</td>\n",
              "      <td>False</td>\n",
              "    </tr>\n",
              "    <tr>\n",
              "      <th>third row</th>\n",
              "      <td>True</td>\n",
              "      <td>True</td>\n",
              "      <td>False</td>\n",
              "      <td>True</td>\n",
              "      <td>False</td>\n",
              "    </tr>\n",
              "    <tr>\n",
              "      <th>fourth row</th>\n",
              "      <td>False</td>\n",
              "      <td>True</td>\n",
              "      <td>True</td>\n",
              "      <td>False</td>\n",
              "      <td>True</td>\n",
              "    </tr>\n",
              "    <tr>\n",
              "      <th>fifth row</th>\n",
              "      <td>True</td>\n",
              "      <td>True</td>\n",
              "      <td>True</td>\n",
              "      <td>False</td>\n",
              "      <td>False</td>\n",
              "    </tr>\n",
              "  </tbody>\n",
              "</table>\n",
              "</div>"
            ],
            "text/plain": [
              "            first col  second col  third col  fourth col  fifth col\n",
              "first row       False        True       True       False       True\n",
              "second row       True        True       True       False      False\n",
              "third row        True        True      False        True      False\n",
              "fourth row      False        True       True       False       True\n",
              "fifth row        True        True       True       False      False"
            ]
          },
          "metadata": {
            "tags": []
          },
          "execution_count": 16
        }
      ]
    },
    {
      "cell_type": "code",
      "metadata": {
        "id": "JEa7igOgxEb6",
        "outputId": "970c0aaf-3e57-4ea0-945f-da6bf0f0caed",
        "colab": {
          "base_uri": "https://localhost:8080/",
          "height": 126
        }
      },
      "source": [
        "print(df3[df3>0])"
      ],
      "execution_count": 17,
      "outputs": [
        {
          "output_type": "stream",
          "text": [
            "            first col  second col  third col  fourth col  fifth col\n",
            "first row         NaN    0.356256   0.649352         NaN   1.426153\n",
            "second row   0.580808    1.278439   0.966616         NaN        NaN\n",
            "third row    0.120439    1.574922        NaN    1.905708        NaN\n",
            "fourth row        NaN    0.603942   0.547915         NaN   1.821735\n",
            "fifth row    0.188539    0.155899   0.109995         NaN        NaN\n"
          ],
          "name": "stdout"
        }
      ]
    },
    {
      "cell_type": "code",
      "metadata": {
        "id": "PIMIkYRfxEcD",
        "outputId": "5397202e-948f-4949-fb1c-ae2f5c77e712",
        "colab": {
          "base_uri": "https://localhost:8080/",
          "height": 206
        }
      },
      "source": [
        "# we can add columns to a dataframe\n",
        "df3['sixth col'] = np.random.randn(5,1)\n",
        "df3"
      ],
      "execution_count": 18,
      "outputs": [
        {
          "output_type": "execute_result",
          "data": {
            "text/html": [
              "<div>\n",
              "<style scoped>\n",
              "    .dataframe tbody tr th:only-of-type {\n",
              "        vertical-align: middle;\n",
              "    }\n",
              "\n",
              "    .dataframe tbody tr th {\n",
              "        vertical-align: top;\n",
              "    }\n",
              "\n",
              "    .dataframe thead th {\n",
              "        text-align: right;\n",
              "    }\n",
              "</style>\n",
              "<table border=\"1\" class=\"dataframe\">\n",
              "  <thead>\n",
              "    <tr style=\"text-align: right;\">\n",
              "      <th></th>\n",
              "      <th>first col</th>\n",
              "      <th>second col</th>\n",
              "      <th>third col</th>\n",
              "      <th>fourth col</th>\n",
              "      <th>fifth col</th>\n",
              "      <th>sixth col</th>\n",
              "    </tr>\n",
              "  </thead>\n",
              "  <tbody>\n",
              "    <tr>\n",
              "      <th>first row</th>\n",
              "      <td>-2.086404</td>\n",
              "      <td>0.356256</td>\n",
              "      <td>0.649352</td>\n",
              "      <td>-0.772419</td>\n",
              "      <td>1.426153</td>\n",
              "      <td>-0.243917</td>\n",
              "    </tr>\n",
              "    <tr>\n",
              "      <th>second row</th>\n",
              "      <td>0.580808</td>\n",
              "      <td>1.278439</td>\n",
              "      <td>0.966616</td>\n",
              "      <td>-1.077667</td>\n",
              "      <td>-0.882265</td>\n",
              "      <td>0.104055</td>\n",
              "    </tr>\n",
              "    <tr>\n",
              "      <th>third row</th>\n",
              "      <td>0.120439</td>\n",
              "      <td>1.574922</td>\n",
              "      <td>-0.344264</td>\n",
              "      <td>1.905708</td>\n",
              "      <td>-0.355028</td>\n",
              "      <td>0.342026</td>\n",
              "    </tr>\n",
              "    <tr>\n",
              "      <th>fourth row</th>\n",
              "      <td>-0.820606</td>\n",
              "      <td>0.603942</td>\n",
              "      <td>0.547915</td>\n",
              "      <td>-0.386362</td>\n",
              "      <td>1.821735</td>\n",
              "      <td>-0.241444</td>\n",
              "    </tr>\n",
              "    <tr>\n",
              "      <th>fifth row</th>\n",
              "      <td>0.188539</td>\n",
              "      <td>0.155899</td>\n",
              "      <td>0.109995</td>\n",
              "      <td>-0.907258</td>\n",
              "      <td>-0.136833</td>\n",
              "      <td>1.274480</td>\n",
              "    </tr>\n",
              "  </tbody>\n",
              "</table>\n",
              "</div>"
            ],
            "text/plain": [
              "            first col  second col  third col  fourth col  fifth col  sixth col\n",
              "first row   -2.086404    0.356256   0.649352   -0.772419   1.426153  -0.243917\n",
              "second row   0.580808    1.278439   0.966616   -1.077667  -0.882265   0.104055\n",
              "third row    0.120439    1.574922  -0.344264    1.905708  -0.355028   0.342026\n",
              "fourth row  -0.820606    0.603942   0.547915   -0.386362   1.821735  -0.241444\n",
              "fifth row    0.188539    0.155899   0.109995   -0.907258  -0.136833   1.274480"
            ]
          },
          "metadata": {
            "tags": []
          },
          "execution_count": 18
        }
      ]
    },
    {
      "cell_type": "code",
      "metadata": {
        "id": "pbClUW35xEcK"
      },
      "source": [
        "# we can remove columns or rows from a dataframe\n",
        "df3.drop('first col',axis=1,inplace=True)"
      ],
      "execution_count": 19,
      "outputs": []
    },
    {
      "cell_type": "code",
      "metadata": {
        "id": "9iE3fchKxEcR",
        "outputId": "8dc7b6bc-896a-4143-8b9e-fb74a790a552",
        "colab": {
          "base_uri": "https://localhost:8080/",
          "height": 206
        }
      },
      "source": [
        "df3"
      ],
      "execution_count": 20,
      "outputs": [
        {
          "output_type": "execute_result",
          "data": {
            "text/html": [
              "<div>\n",
              "<style scoped>\n",
              "    .dataframe tbody tr th:only-of-type {\n",
              "        vertical-align: middle;\n",
              "    }\n",
              "\n",
              "    .dataframe tbody tr th {\n",
              "        vertical-align: top;\n",
              "    }\n",
              "\n",
              "    .dataframe thead th {\n",
              "        text-align: right;\n",
              "    }\n",
              "</style>\n",
              "<table border=\"1\" class=\"dataframe\">\n",
              "  <thead>\n",
              "    <tr style=\"text-align: right;\">\n",
              "      <th></th>\n",
              "      <th>second col</th>\n",
              "      <th>third col</th>\n",
              "      <th>fourth col</th>\n",
              "      <th>fifth col</th>\n",
              "      <th>sixth col</th>\n",
              "    </tr>\n",
              "  </thead>\n",
              "  <tbody>\n",
              "    <tr>\n",
              "      <th>first row</th>\n",
              "      <td>0.356256</td>\n",
              "      <td>0.649352</td>\n",
              "      <td>-0.772419</td>\n",
              "      <td>1.426153</td>\n",
              "      <td>-0.243917</td>\n",
              "    </tr>\n",
              "    <tr>\n",
              "      <th>second row</th>\n",
              "      <td>1.278439</td>\n",
              "      <td>0.966616</td>\n",
              "      <td>-1.077667</td>\n",
              "      <td>-0.882265</td>\n",
              "      <td>0.104055</td>\n",
              "    </tr>\n",
              "    <tr>\n",
              "      <th>third row</th>\n",
              "      <td>1.574922</td>\n",
              "      <td>-0.344264</td>\n",
              "      <td>1.905708</td>\n",
              "      <td>-0.355028</td>\n",
              "      <td>0.342026</td>\n",
              "    </tr>\n",
              "    <tr>\n",
              "      <th>fourth row</th>\n",
              "      <td>0.603942</td>\n",
              "      <td>0.547915</td>\n",
              "      <td>-0.386362</td>\n",
              "      <td>1.821735</td>\n",
              "      <td>-0.241444</td>\n",
              "    </tr>\n",
              "    <tr>\n",
              "      <th>fifth row</th>\n",
              "      <td>0.155899</td>\n",
              "      <td>0.109995</td>\n",
              "      <td>-0.907258</td>\n",
              "      <td>-0.136833</td>\n",
              "      <td>1.274480</td>\n",
              "    </tr>\n",
              "  </tbody>\n",
              "</table>\n",
              "</div>"
            ],
            "text/plain": [
              "            second col  third col  fourth col  fifth col  sixth col\n",
              "first row     0.356256   0.649352   -0.772419   1.426153  -0.243917\n",
              "second row    1.278439   0.966616   -1.077667  -0.882265   0.104055\n",
              "third row     1.574922  -0.344264    1.905708  -0.355028   0.342026\n",
              "fourth row    0.603942   0.547915   -0.386362   1.821735  -0.241444\n",
              "fifth row     0.155899   0.109995   -0.907258  -0.136833   1.274480"
            ]
          },
          "metadata": {
            "tags": []
          },
          "execution_count": 20
        }
      ]
    },
    {
      "cell_type": "code",
      "metadata": {
        "id": "l7C5QUoAxEca",
        "outputId": "a272a49f-e051-43a0-bfdb-535892965a6b",
        "colab": {
          "base_uri": "https://localhost:8080/",
          "height": 206
        }
      },
      "source": [
        "df4 = df3.drop('fifth col',axis=1)\n",
        "df4"
      ],
      "execution_count": 22,
      "outputs": [
        {
          "output_type": "execute_result",
          "data": {
            "text/html": [
              "<div>\n",
              "<style scoped>\n",
              "    .dataframe tbody tr th:only-of-type {\n",
              "        vertical-align: middle;\n",
              "    }\n",
              "\n",
              "    .dataframe tbody tr th {\n",
              "        vertical-align: top;\n",
              "    }\n",
              "\n",
              "    .dataframe thead th {\n",
              "        text-align: right;\n",
              "    }\n",
              "</style>\n",
              "<table border=\"1\" class=\"dataframe\">\n",
              "  <thead>\n",
              "    <tr style=\"text-align: right;\">\n",
              "      <th></th>\n",
              "      <th>second col</th>\n",
              "      <th>third col</th>\n",
              "      <th>fourth col</th>\n",
              "      <th>sixth col</th>\n",
              "    </tr>\n",
              "  </thead>\n",
              "  <tbody>\n",
              "    <tr>\n",
              "      <th>first row</th>\n",
              "      <td>0.356256</td>\n",
              "      <td>0.649352</td>\n",
              "      <td>-0.772419</td>\n",
              "      <td>-0.243917</td>\n",
              "    </tr>\n",
              "    <tr>\n",
              "      <th>second row</th>\n",
              "      <td>1.278439</td>\n",
              "      <td>0.966616</td>\n",
              "      <td>-1.077667</td>\n",
              "      <td>0.104055</td>\n",
              "    </tr>\n",
              "    <tr>\n",
              "      <th>third row</th>\n",
              "      <td>1.574922</td>\n",
              "      <td>-0.344264</td>\n",
              "      <td>1.905708</td>\n",
              "      <td>0.342026</td>\n",
              "    </tr>\n",
              "    <tr>\n",
              "      <th>fourth row</th>\n",
              "      <td>0.603942</td>\n",
              "      <td>0.547915</td>\n",
              "      <td>-0.386362</td>\n",
              "      <td>-0.241444</td>\n",
              "    </tr>\n",
              "    <tr>\n",
              "      <th>fifth row</th>\n",
              "      <td>0.155899</td>\n",
              "      <td>0.109995</td>\n",
              "      <td>-0.907258</td>\n",
              "      <td>1.274480</td>\n",
              "    </tr>\n",
              "  </tbody>\n",
              "</table>\n",
              "</div>"
            ],
            "text/plain": [
              "            second col  third col  fourth col  sixth col\n",
              "first row     0.356256   0.649352   -0.772419  -0.243917\n",
              "second row    1.278439   0.966616   -1.077667   0.104055\n",
              "third row     1.574922  -0.344264    1.905708   0.342026\n",
              "fourth row    0.603942   0.547915   -0.386362  -0.241444\n",
              "fifth row     0.155899   0.109995   -0.907258   1.274480"
            ]
          },
          "metadata": {
            "tags": []
          },
          "execution_count": 22
        }
      ]
    },
    {
      "cell_type": "code",
      "metadata": {
        "id": "W4px_k84xEcm",
        "outputId": "830b90ed-74ea-416c-fbb9-27657ead02dd",
        "colab": {
          "base_uri": "https://localhost:8080/",
          "height": 175
        }
      },
      "source": [
        "df5 = df3.drop('second row',axis=0)\n",
        "df5"
      ],
      "execution_count": 23,
      "outputs": [
        {
          "output_type": "execute_result",
          "data": {
            "text/html": [
              "<div>\n",
              "<style scoped>\n",
              "    .dataframe tbody tr th:only-of-type {\n",
              "        vertical-align: middle;\n",
              "    }\n",
              "\n",
              "    .dataframe tbody tr th {\n",
              "        vertical-align: top;\n",
              "    }\n",
              "\n",
              "    .dataframe thead th {\n",
              "        text-align: right;\n",
              "    }\n",
              "</style>\n",
              "<table border=\"1\" class=\"dataframe\">\n",
              "  <thead>\n",
              "    <tr style=\"text-align: right;\">\n",
              "      <th></th>\n",
              "      <th>second col</th>\n",
              "      <th>third col</th>\n",
              "      <th>fourth col</th>\n",
              "      <th>fifth col</th>\n",
              "      <th>sixth col</th>\n",
              "    </tr>\n",
              "  </thead>\n",
              "  <tbody>\n",
              "    <tr>\n",
              "      <th>first row</th>\n",
              "      <td>0.356256</td>\n",
              "      <td>0.649352</td>\n",
              "      <td>-0.772419</td>\n",
              "      <td>1.426153</td>\n",
              "      <td>-0.243917</td>\n",
              "    </tr>\n",
              "    <tr>\n",
              "      <th>third row</th>\n",
              "      <td>1.574922</td>\n",
              "      <td>-0.344264</td>\n",
              "      <td>1.905708</td>\n",
              "      <td>-0.355028</td>\n",
              "      <td>0.342026</td>\n",
              "    </tr>\n",
              "    <tr>\n",
              "      <th>fourth row</th>\n",
              "      <td>0.603942</td>\n",
              "      <td>0.547915</td>\n",
              "      <td>-0.386362</td>\n",
              "      <td>1.821735</td>\n",
              "      <td>-0.241444</td>\n",
              "    </tr>\n",
              "    <tr>\n",
              "      <th>fifth row</th>\n",
              "      <td>0.155899</td>\n",
              "      <td>0.109995</td>\n",
              "      <td>-0.907258</td>\n",
              "      <td>-0.136833</td>\n",
              "      <td>1.274480</td>\n",
              "    </tr>\n",
              "  </tbody>\n",
              "</table>\n",
              "</div>"
            ],
            "text/plain": [
              "            second col  third col  fourth col  fifth col  sixth col\n",
              "first row     0.356256   0.649352   -0.772419   1.426153  -0.243917\n",
              "third row     1.574922  -0.344264    1.905708  -0.355028   0.342026\n",
              "fourth row    0.603942   0.547915   -0.386362   1.821735  -0.241444\n",
              "fifth row     0.155899   0.109995   -0.907258  -0.136833   1.274480"
            ]
          },
          "metadata": {
            "tags": []
          },
          "execution_count": 23
        }
      ]
    },
    {
      "cell_type": "code",
      "metadata": {
        "id": "ChEuhxcKxEcu",
        "outputId": "129d19ed-0ee8-4a96-9552-5b336f036341",
        "colab": {
          "base_uri": "https://localhost:8080/",
          "height": 175
        }
      },
      "source": [
        "# we can remove a dataframe's index labels\n",
        "df5.reset_index()"
      ],
      "execution_count": 24,
      "outputs": [
        {
          "output_type": "execute_result",
          "data": {
            "text/html": [
              "<div>\n",
              "<style scoped>\n",
              "    .dataframe tbody tr th:only-of-type {\n",
              "        vertical-align: middle;\n",
              "    }\n",
              "\n",
              "    .dataframe tbody tr th {\n",
              "        vertical-align: top;\n",
              "    }\n",
              "\n",
              "    .dataframe thead th {\n",
              "        text-align: right;\n",
              "    }\n",
              "</style>\n",
              "<table border=\"1\" class=\"dataframe\">\n",
              "  <thead>\n",
              "    <tr style=\"text-align: right;\">\n",
              "      <th></th>\n",
              "      <th>index</th>\n",
              "      <th>second col</th>\n",
              "      <th>third col</th>\n",
              "      <th>fourth col</th>\n",
              "      <th>fifth col</th>\n",
              "      <th>sixth col</th>\n",
              "    </tr>\n",
              "  </thead>\n",
              "  <tbody>\n",
              "    <tr>\n",
              "      <th>0</th>\n",
              "      <td>first row</td>\n",
              "      <td>0.356256</td>\n",
              "      <td>0.649352</td>\n",
              "      <td>-0.772419</td>\n",
              "      <td>1.426153</td>\n",
              "      <td>-0.243917</td>\n",
              "    </tr>\n",
              "    <tr>\n",
              "      <th>1</th>\n",
              "      <td>third row</td>\n",
              "      <td>1.574922</td>\n",
              "      <td>-0.344264</td>\n",
              "      <td>1.905708</td>\n",
              "      <td>-0.355028</td>\n",
              "      <td>0.342026</td>\n",
              "    </tr>\n",
              "    <tr>\n",
              "      <th>2</th>\n",
              "      <td>fourth row</td>\n",
              "      <td>0.603942</td>\n",
              "      <td>0.547915</td>\n",
              "      <td>-0.386362</td>\n",
              "      <td>1.821735</td>\n",
              "      <td>-0.241444</td>\n",
              "    </tr>\n",
              "    <tr>\n",
              "      <th>3</th>\n",
              "      <td>fifth row</td>\n",
              "      <td>0.155899</td>\n",
              "      <td>0.109995</td>\n",
              "      <td>-0.907258</td>\n",
              "      <td>-0.136833</td>\n",
              "      <td>1.274480</td>\n",
              "    </tr>\n",
              "  </tbody>\n",
              "</table>\n",
              "</div>"
            ],
            "text/plain": [
              "        index  second col  third col  fourth col  fifth col  sixth col\n",
              "0   first row    0.356256   0.649352   -0.772419   1.426153  -0.243917\n",
              "1   third row    1.574922  -0.344264    1.905708  -0.355028   0.342026\n",
              "2  fourth row    0.603942   0.547915   -0.386362   1.821735  -0.241444\n",
              "3   fifth row    0.155899   0.109995   -0.907258  -0.136833   1.274480"
            ]
          },
          "metadata": {
            "tags": []
          },
          "execution_count": 24
        }
      ]
    },
    {
      "cell_type": "code",
      "metadata": {
        "id": "ZGBAUyMFxEc2",
        "outputId": "f8a493df-0e9c-41ae-b131-9d3d465cb777",
        "colab": {
          "base_uri": "https://localhost:8080/",
          "height": 175
        }
      },
      "source": [
        "df5"
      ],
      "execution_count": 25,
      "outputs": [
        {
          "output_type": "execute_result",
          "data": {
            "text/html": [
              "<div>\n",
              "<style scoped>\n",
              "    .dataframe tbody tr th:only-of-type {\n",
              "        vertical-align: middle;\n",
              "    }\n",
              "\n",
              "    .dataframe tbody tr th {\n",
              "        vertical-align: top;\n",
              "    }\n",
              "\n",
              "    .dataframe thead th {\n",
              "        text-align: right;\n",
              "    }\n",
              "</style>\n",
              "<table border=\"1\" class=\"dataframe\">\n",
              "  <thead>\n",
              "    <tr style=\"text-align: right;\">\n",
              "      <th></th>\n",
              "      <th>second col</th>\n",
              "      <th>third col</th>\n",
              "      <th>fourth col</th>\n",
              "      <th>fifth col</th>\n",
              "      <th>sixth col</th>\n",
              "    </tr>\n",
              "  </thead>\n",
              "  <tbody>\n",
              "    <tr>\n",
              "      <th>first row</th>\n",
              "      <td>0.356256</td>\n",
              "      <td>0.649352</td>\n",
              "      <td>-0.772419</td>\n",
              "      <td>1.426153</td>\n",
              "      <td>-0.243917</td>\n",
              "    </tr>\n",
              "    <tr>\n",
              "      <th>third row</th>\n",
              "      <td>1.574922</td>\n",
              "      <td>-0.344264</td>\n",
              "      <td>1.905708</td>\n",
              "      <td>-0.355028</td>\n",
              "      <td>0.342026</td>\n",
              "    </tr>\n",
              "    <tr>\n",
              "      <th>fourth row</th>\n",
              "      <td>0.603942</td>\n",
              "      <td>0.547915</td>\n",
              "      <td>-0.386362</td>\n",
              "      <td>1.821735</td>\n",
              "      <td>-0.241444</td>\n",
              "    </tr>\n",
              "    <tr>\n",
              "      <th>fifth row</th>\n",
              "      <td>0.155899</td>\n",
              "      <td>0.109995</td>\n",
              "      <td>-0.907258</td>\n",
              "      <td>-0.136833</td>\n",
              "      <td>1.274480</td>\n",
              "    </tr>\n",
              "  </tbody>\n",
              "</table>\n",
              "</div>"
            ],
            "text/plain": [
              "            second col  third col  fourth col  fifth col  sixth col\n",
              "first row     0.356256   0.649352   -0.772419   1.426153  -0.243917\n",
              "third row     1.574922  -0.344264    1.905708  -0.355028   0.342026\n",
              "fourth row    0.603942   0.547915   -0.386362   1.821735  -0.241444\n",
              "fifth row     0.155899   0.109995   -0.907258  -0.136833   1.274480"
            ]
          },
          "metadata": {
            "tags": []
          },
          "execution_count": 25
        }
      ]
    },
    {
      "cell_type": "code",
      "metadata": {
        "id": "cr6whU-LxEc-",
        "outputId": "bf47a9f3-0b23-45d1-cd44-f08863edce98",
        "colab": {
          "base_uri": "https://localhost:8080/",
          "height": 175
        }
      },
      "source": [
        "df5.reset_index(inplace=True)\n",
        "df5"
      ],
      "execution_count": 26,
      "outputs": [
        {
          "output_type": "execute_result",
          "data": {
            "text/html": [
              "<div>\n",
              "<style scoped>\n",
              "    .dataframe tbody tr th:only-of-type {\n",
              "        vertical-align: middle;\n",
              "    }\n",
              "\n",
              "    .dataframe tbody tr th {\n",
              "        vertical-align: top;\n",
              "    }\n",
              "\n",
              "    .dataframe thead th {\n",
              "        text-align: right;\n",
              "    }\n",
              "</style>\n",
              "<table border=\"1\" class=\"dataframe\">\n",
              "  <thead>\n",
              "    <tr style=\"text-align: right;\">\n",
              "      <th></th>\n",
              "      <th>index</th>\n",
              "      <th>second col</th>\n",
              "      <th>third col</th>\n",
              "      <th>fourth col</th>\n",
              "      <th>fifth col</th>\n",
              "      <th>sixth col</th>\n",
              "    </tr>\n",
              "  </thead>\n",
              "  <tbody>\n",
              "    <tr>\n",
              "      <th>0</th>\n",
              "      <td>first row</td>\n",
              "      <td>0.356256</td>\n",
              "      <td>0.649352</td>\n",
              "      <td>-0.772419</td>\n",
              "      <td>1.426153</td>\n",
              "      <td>-0.243917</td>\n",
              "    </tr>\n",
              "    <tr>\n",
              "      <th>1</th>\n",
              "      <td>third row</td>\n",
              "      <td>1.574922</td>\n",
              "      <td>-0.344264</td>\n",
              "      <td>1.905708</td>\n",
              "      <td>-0.355028</td>\n",
              "      <td>0.342026</td>\n",
              "    </tr>\n",
              "    <tr>\n",
              "      <th>2</th>\n",
              "      <td>fourth row</td>\n",
              "      <td>0.603942</td>\n",
              "      <td>0.547915</td>\n",
              "      <td>-0.386362</td>\n",
              "      <td>1.821735</td>\n",
              "      <td>-0.241444</td>\n",
              "    </tr>\n",
              "    <tr>\n",
              "      <th>3</th>\n",
              "      <td>fifth row</td>\n",
              "      <td>0.155899</td>\n",
              "      <td>0.109995</td>\n",
              "      <td>-0.907258</td>\n",
              "      <td>-0.136833</td>\n",
              "      <td>1.274480</td>\n",
              "    </tr>\n",
              "  </tbody>\n",
              "</table>\n",
              "</div>"
            ],
            "text/plain": [
              "        index  second col  third col  fourth col  fifth col  sixth col\n",
              "0   first row    0.356256   0.649352   -0.772419   1.426153  -0.243917\n",
              "1   third row    1.574922  -0.344264    1.905708  -0.355028   0.342026\n",
              "2  fourth row    0.603942   0.547915   -0.386362   1.821735  -0.241444\n",
              "3   fifth row    0.155899   0.109995   -0.907258  -0.136833   1.274480"
            ]
          },
          "metadata": {
            "tags": []
          },
          "execution_count": 26
        }
      ]
    },
    {
      "cell_type": "code",
      "metadata": {
        "id": "wWQ0vibyxEdE",
        "outputId": "b01c3ebe-db74-44ae-d152-4bfcbd68c833",
        "colab": {
          "base_uri": "https://localhost:8080/",
          "height": 175
        }
      },
      "source": [
        "# we can assign new names to the index\n",
        "df5['new name'] = ['This','is','the','row']\n",
        "df5\n"
      ],
      "execution_count": 27,
      "outputs": [
        {
          "output_type": "execute_result",
          "data": {
            "text/html": [
              "<div>\n",
              "<style scoped>\n",
              "    .dataframe tbody tr th:only-of-type {\n",
              "        vertical-align: middle;\n",
              "    }\n",
              "\n",
              "    .dataframe tbody tr th {\n",
              "        vertical-align: top;\n",
              "    }\n",
              "\n",
              "    .dataframe thead th {\n",
              "        text-align: right;\n",
              "    }\n",
              "</style>\n",
              "<table border=\"1\" class=\"dataframe\">\n",
              "  <thead>\n",
              "    <tr style=\"text-align: right;\">\n",
              "      <th></th>\n",
              "      <th>index</th>\n",
              "      <th>second col</th>\n",
              "      <th>third col</th>\n",
              "      <th>fourth col</th>\n",
              "      <th>fifth col</th>\n",
              "      <th>sixth col</th>\n",
              "      <th>new name</th>\n",
              "    </tr>\n",
              "  </thead>\n",
              "  <tbody>\n",
              "    <tr>\n",
              "      <th>0</th>\n",
              "      <td>first row</td>\n",
              "      <td>0.356256</td>\n",
              "      <td>0.649352</td>\n",
              "      <td>-0.772419</td>\n",
              "      <td>1.426153</td>\n",
              "      <td>-0.243917</td>\n",
              "      <td>This</td>\n",
              "    </tr>\n",
              "    <tr>\n",
              "      <th>1</th>\n",
              "      <td>third row</td>\n",
              "      <td>1.574922</td>\n",
              "      <td>-0.344264</td>\n",
              "      <td>1.905708</td>\n",
              "      <td>-0.355028</td>\n",
              "      <td>0.342026</td>\n",
              "      <td>is</td>\n",
              "    </tr>\n",
              "    <tr>\n",
              "      <th>2</th>\n",
              "      <td>fourth row</td>\n",
              "      <td>0.603942</td>\n",
              "      <td>0.547915</td>\n",
              "      <td>-0.386362</td>\n",
              "      <td>1.821735</td>\n",
              "      <td>-0.241444</td>\n",
              "      <td>the</td>\n",
              "    </tr>\n",
              "    <tr>\n",
              "      <th>3</th>\n",
              "      <td>fifth row</td>\n",
              "      <td>0.155899</td>\n",
              "      <td>0.109995</td>\n",
              "      <td>-0.907258</td>\n",
              "      <td>-0.136833</td>\n",
              "      <td>1.274480</td>\n",
              "      <td>row</td>\n",
              "    </tr>\n",
              "  </tbody>\n",
              "</table>\n",
              "</div>"
            ],
            "text/plain": [
              "        index  second col  third col  fourth col  fifth col  sixth col new name\n",
              "0   first row    0.356256   0.649352   -0.772419   1.426153  -0.243917     This\n",
              "1   third row    1.574922  -0.344264    1.905708  -0.355028   0.342026       is\n",
              "2  fourth row    0.603942   0.547915   -0.386362   1.821735  -0.241444      the\n",
              "3   fifth row    0.155899   0.109995   -0.907258  -0.136833   1.274480      row"
            ]
          },
          "metadata": {
            "tags": []
          },
          "execution_count": 27
        }
      ]
    },
    {
      "cell_type": "code",
      "metadata": {
        "scrolled": true,
        "id": "TaPTDUohxEdM",
        "outputId": "78457d5e-3659-4105-e837-3e31a8933798",
        "colab": {
          "base_uri": "https://localhost:8080/",
          "height": 206
        }
      },
      "source": [
        "df5.set_index('new name',inplace=True)\n",
        "df5"
      ],
      "execution_count": 28,
      "outputs": [
        {
          "output_type": "execute_result",
          "data": {
            "text/html": [
              "<div>\n",
              "<style scoped>\n",
              "    .dataframe tbody tr th:only-of-type {\n",
              "        vertical-align: middle;\n",
              "    }\n",
              "\n",
              "    .dataframe tbody tr th {\n",
              "        vertical-align: top;\n",
              "    }\n",
              "\n",
              "    .dataframe thead th {\n",
              "        text-align: right;\n",
              "    }\n",
              "</style>\n",
              "<table border=\"1\" class=\"dataframe\">\n",
              "  <thead>\n",
              "    <tr style=\"text-align: right;\">\n",
              "      <th></th>\n",
              "      <th>index</th>\n",
              "      <th>second col</th>\n",
              "      <th>third col</th>\n",
              "      <th>fourth col</th>\n",
              "      <th>fifth col</th>\n",
              "      <th>sixth col</th>\n",
              "    </tr>\n",
              "    <tr>\n",
              "      <th>new name</th>\n",
              "      <th></th>\n",
              "      <th></th>\n",
              "      <th></th>\n",
              "      <th></th>\n",
              "      <th></th>\n",
              "      <th></th>\n",
              "    </tr>\n",
              "  </thead>\n",
              "  <tbody>\n",
              "    <tr>\n",
              "      <th>This</th>\n",
              "      <td>first row</td>\n",
              "      <td>0.356256</td>\n",
              "      <td>0.649352</td>\n",
              "      <td>-0.772419</td>\n",
              "      <td>1.426153</td>\n",
              "      <td>-0.243917</td>\n",
              "    </tr>\n",
              "    <tr>\n",
              "      <th>is</th>\n",
              "      <td>third row</td>\n",
              "      <td>1.574922</td>\n",
              "      <td>-0.344264</td>\n",
              "      <td>1.905708</td>\n",
              "      <td>-0.355028</td>\n",
              "      <td>0.342026</td>\n",
              "    </tr>\n",
              "    <tr>\n",
              "      <th>the</th>\n",
              "      <td>fourth row</td>\n",
              "      <td>0.603942</td>\n",
              "      <td>0.547915</td>\n",
              "      <td>-0.386362</td>\n",
              "      <td>1.821735</td>\n",
              "      <td>-0.241444</td>\n",
              "    </tr>\n",
              "    <tr>\n",
              "      <th>row</th>\n",
              "      <td>fifth row</td>\n",
              "      <td>0.155899</td>\n",
              "      <td>0.109995</td>\n",
              "      <td>-0.907258</td>\n",
              "      <td>-0.136833</td>\n",
              "      <td>1.274480</td>\n",
              "    </tr>\n",
              "  </tbody>\n",
              "</table>\n",
              "</div>"
            ],
            "text/plain": [
              "               index  second col  third col  fourth col  fifth col  sixth col\n",
              "new name                                                                     \n",
              "This       first row    0.356256   0.649352   -0.772419   1.426153  -0.243917\n",
              "is         third row    1.574922  -0.344264    1.905708  -0.355028   0.342026\n",
              "the       fourth row    0.603942   0.547915   -0.386362   1.821735  -0.241444\n",
              "row        fifth row    0.155899   0.109995   -0.907258  -0.136833   1.274480"
            ]
          },
          "metadata": {
            "tags": []
          },
          "execution_count": 28
        }
      ]
    },
    {
      "cell_type": "markdown",
      "metadata": {
        "id": "ZOLFSocfxEdR"
      },
      "source": [
        "# Combining data frames\n",
        "\n",
        "The ways dataframes are combined in pandas is similar to SQL\n",
        "\n",
        "We will examine 3 methods for combining dataframes\n",
        "\n",
        "1. concat\n",
        "2. join\n",
        "3. merge"
      ]
    },
    {
      "cell_type": "code",
      "metadata": {
        "id": "ZZ0KobnMxEdR"
      },
      "source": [
        "\n",
        "\n",
        "df7 = pd.DataFrame({\"customer\":['101','102','103','104'], \n",
        "                    'category': ['cat2','cat2','cat1','cat3'],\n",
        "                    'important': ['yes','no','yes','yes'],\n",
        "                    'sales': [123,52,214,663]},index=[0,1,2,3])\n",
        "\n",
        "df8 = pd.DataFrame({\"customer\":['101','103','104','105'], \n",
        "                    'color': ['yellow','green','green','blue'],\n",
        "                    'distance': [12,9,44,21],\n",
        "                    'sales': [123,214,663,331]},index=[4,5,6,7])"
      ],
      "execution_count": 29,
      "outputs": []
    },
    {
      "cell_type": "code",
      "metadata": {
        "id": "qYU9mW05xEdW",
        "outputId": "554480d7-63ee-441b-d415-e11d0d1c1278",
        "colab": {
          "base_uri": "https://localhost:8080/",
          "height": 300
        }
      },
      "source": [
        "pd.concat([df7,df8],axis=0,sort=False)"
      ],
      "execution_count": 30,
      "outputs": [
        {
          "output_type": "execute_result",
          "data": {
            "text/html": [
              "<div>\n",
              "<style scoped>\n",
              "    .dataframe tbody tr th:only-of-type {\n",
              "        vertical-align: middle;\n",
              "    }\n",
              "\n",
              "    .dataframe tbody tr th {\n",
              "        vertical-align: top;\n",
              "    }\n",
              "\n",
              "    .dataframe thead th {\n",
              "        text-align: right;\n",
              "    }\n",
              "</style>\n",
              "<table border=\"1\" class=\"dataframe\">\n",
              "  <thead>\n",
              "    <tr style=\"text-align: right;\">\n",
              "      <th></th>\n",
              "      <th>customer</th>\n",
              "      <th>category</th>\n",
              "      <th>important</th>\n",
              "      <th>sales</th>\n",
              "      <th>color</th>\n",
              "      <th>distance</th>\n",
              "    </tr>\n",
              "  </thead>\n",
              "  <tbody>\n",
              "    <tr>\n",
              "      <th>0</th>\n",
              "      <td>101</td>\n",
              "      <td>cat2</td>\n",
              "      <td>yes</td>\n",
              "      <td>123</td>\n",
              "      <td>NaN</td>\n",
              "      <td>NaN</td>\n",
              "    </tr>\n",
              "    <tr>\n",
              "      <th>1</th>\n",
              "      <td>102</td>\n",
              "      <td>cat2</td>\n",
              "      <td>no</td>\n",
              "      <td>52</td>\n",
              "      <td>NaN</td>\n",
              "      <td>NaN</td>\n",
              "    </tr>\n",
              "    <tr>\n",
              "      <th>2</th>\n",
              "      <td>103</td>\n",
              "      <td>cat1</td>\n",
              "      <td>yes</td>\n",
              "      <td>214</td>\n",
              "      <td>NaN</td>\n",
              "      <td>NaN</td>\n",
              "    </tr>\n",
              "    <tr>\n",
              "      <th>3</th>\n",
              "      <td>104</td>\n",
              "      <td>cat3</td>\n",
              "      <td>yes</td>\n",
              "      <td>663</td>\n",
              "      <td>NaN</td>\n",
              "      <td>NaN</td>\n",
              "    </tr>\n",
              "    <tr>\n",
              "      <th>4</th>\n",
              "      <td>101</td>\n",
              "      <td>NaN</td>\n",
              "      <td>NaN</td>\n",
              "      <td>123</td>\n",
              "      <td>yellow</td>\n",
              "      <td>12.0</td>\n",
              "    </tr>\n",
              "    <tr>\n",
              "      <th>5</th>\n",
              "      <td>103</td>\n",
              "      <td>NaN</td>\n",
              "      <td>NaN</td>\n",
              "      <td>214</td>\n",
              "      <td>green</td>\n",
              "      <td>9.0</td>\n",
              "    </tr>\n",
              "    <tr>\n",
              "      <th>6</th>\n",
              "      <td>104</td>\n",
              "      <td>NaN</td>\n",
              "      <td>NaN</td>\n",
              "      <td>663</td>\n",
              "      <td>green</td>\n",
              "      <td>44.0</td>\n",
              "    </tr>\n",
              "    <tr>\n",
              "      <th>7</th>\n",
              "      <td>105</td>\n",
              "      <td>NaN</td>\n",
              "      <td>NaN</td>\n",
              "      <td>331</td>\n",
              "      <td>blue</td>\n",
              "      <td>21.0</td>\n",
              "    </tr>\n",
              "  </tbody>\n",
              "</table>\n",
              "</div>"
            ],
            "text/plain": [
              "  customer category important  sales   color  distance\n",
              "0      101     cat2       yes    123     NaN       NaN\n",
              "1      102     cat2        no     52     NaN       NaN\n",
              "2      103     cat1       yes    214     NaN       NaN\n",
              "3      104     cat3       yes    663     NaN       NaN\n",
              "4      101      NaN       NaN    123  yellow      12.0\n",
              "5      103      NaN       NaN    214   green       9.0\n",
              "6      104      NaN       NaN    663   green      44.0\n",
              "7      105      NaN       NaN    331    blue      21.0"
            ]
          },
          "metadata": {
            "tags": []
          },
          "execution_count": 30
        }
      ]
    },
    {
      "cell_type": "code",
      "metadata": {
        "id": "lYrYQc0ZxEda",
        "outputId": "df93cc88-fab4-4e2d-8ba5-eeb936eeca99",
        "colab": {
          "base_uri": "https://localhost:8080/",
          "height": 300
        }
      },
      "source": [
        "pd.concat([df7,df8],axis=0,sort=True)"
      ],
      "execution_count": 31,
      "outputs": [
        {
          "output_type": "execute_result",
          "data": {
            "text/html": [
              "<div>\n",
              "<style scoped>\n",
              "    .dataframe tbody tr th:only-of-type {\n",
              "        vertical-align: middle;\n",
              "    }\n",
              "\n",
              "    .dataframe tbody tr th {\n",
              "        vertical-align: top;\n",
              "    }\n",
              "\n",
              "    .dataframe thead th {\n",
              "        text-align: right;\n",
              "    }\n",
              "</style>\n",
              "<table border=\"1\" class=\"dataframe\">\n",
              "  <thead>\n",
              "    <tr style=\"text-align: right;\">\n",
              "      <th></th>\n",
              "      <th>category</th>\n",
              "      <th>color</th>\n",
              "      <th>customer</th>\n",
              "      <th>distance</th>\n",
              "      <th>important</th>\n",
              "      <th>sales</th>\n",
              "    </tr>\n",
              "  </thead>\n",
              "  <tbody>\n",
              "    <tr>\n",
              "      <th>0</th>\n",
              "      <td>cat2</td>\n",
              "      <td>NaN</td>\n",
              "      <td>101</td>\n",
              "      <td>NaN</td>\n",
              "      <td>yes</td>\n",
              "      <td>123</td>\n",
              "    </tr>\n",
              "    <tr>\n",
              "      <th>1</th>\n",
              "      <td>cat2</td>\n",
              "      <td>NaN</td>\n",
              "      <td>102</td>\n",
              "      <td>NaN</td>\n",
              "      <td>no</td>\n",
              "      <td>52</td>\n",
              "    </tr>\n",
              "    <tr>\n",
              "      <th>2</th>\n",
              "      <td>cat1</td>\n",
              "      <td>NaN</td>\n",
              "      <td>103</td>\n",
              "      <td>NaN</td>\n",
              "      <td>yes</td>\n",
              "      <td>214</td>\n",
              "    </tr>\n",
              "    <tr>\n",
              "      <th>3</th>\n",
              "      <td>cat3</td>\n",
              "      <td>NaN</td>\n",
              "      <td>104</td>\n",
              "      <td>NaN</td>\n",
              "      <td>yes</td>\n",
              "      <td>663</td>\n",
              "    </tr>\n",
              "    <tr>\n",
              "      <th>4</th>\n",
              "      <td>NaN</td>\n",
              "      <td>yellow</td>\n",
              "      <td>101</td>\n",
              "      <td>12.0</td>\n",
              "      <td>NaN</td>\n",
              "      <td>123</td>\n",
              "    </tr>\n",
              "    <tr>\n",
              "      <th>5</th>\n",
              "      <td>NaN</td>\n",
              "      <td>green</td>\n",
              "      <td>103</td>\n",
              "      <td>9.0</td>\n",
              "      <td>NaN</td>\n",
              "      <td>214</td>\n",
              "    </tr>\n",
              "    <tr>\n",
              "      <th>6</th>\n",
              "      <td>NaN</td>\n",
              "      <td>green</td>\n",
              "      <td>104</td>\n",
              "      <td>44.0</td>\n",
              "      <td>NaN</td>\n",
              "      <td>663</td>\n",
              "    </tr>\n",
              "    <tr>\n",
              "      <th>7</th>\n",
              "      <td>NaN</td>\n",
              "      <td>blue</td>\n",
              "      <td>105</td>\n",
              "      <td>21.0</td>\n",
              "      <td>NaN</td>\n",
              "      <td>331</td>\n",
              "    </tr>\n",
              "  </tbody>\n",
              "</table>\n",
              "</div>"
            ],
            "text/plain": [
              "  category   color customer  distance important  sales\n",
              "0     cat2     NaN      101       NaN       yes    123\n",
              "1     cat2     NaN      102       NaN        no     52\n",
              "2     cat1     NaN      103       NaN       yes    214\n",
              "3     cat3     NaN      104       NaN       yes    663\n",
              "4      NaN  yellow      101      12.0       NaN    123\n",
              "5      NaN   green      103       9.0       NaN    214\n",
              "6      NaN   green      104      44.0       NaN    663\n",
              "7      NaN    blue      105      21.0       NaN    331"
            ]
          },
          "metadata": {
            "tags": []
          },
          "execution_count": 31
        }
      ]
    },
    {
      "cell_type": "code",
      "metadata": {
        "id": "X3eBnZa9xEdf",
        "outputId": "0b922bba-ecfd-4596-9579-cd2a630179b0",
        "colab": {
          "base_uri": "https://localhost:8080/",
          "height": 300
        }
      },
      "source": [
        "pd.concat([df7,df8],axis=1,sort=False)"
      ],
      "execution_count": 32,
      "outputs": [
        {
          "output_type": "execute_result",
          "data": {
            "text/html": [
              "<div>\n",
              "<style scoped>\n",
              "    .dataframe tbody tr th:only-of-type {\n",
              "        vertical-align: middle;\n",
              "    }\n",
              "\n",
              "    .dataframe tbody tr th {\n",
              "        vertical-align: top;\n",
              "    }\n",
              "\n",
              "    .dataframe thead th {\n",
              "        text-align: right;\n",
              "    }\n",
              "</style>\n",
              "<table border=\"1\" class=\"dataframe\">\n",
              "  <thead>\n",
              "    <tr style=\"text-align: right;\">\n",
              "      <th></th>\n",
              "      <th>customer</th>\n",
              "      <th>category</th>\n",
              "      <th>important</th>\n",
              "      <th>sales</th>\n",
              "      <th>customer</th>\n",
              "      <th>color</th>\n",
              "      <th>distance</th>\n",
              "      <th>sales</th>\n",
              "    </tr>\n",
              "  </thead>\n",
              "  <tbody>\n",
              "    <tr>\n",
              "      <th>0</th>\n",
              "      <td>101</td>\n",
              "      <td>cat2</td>\n",
              "      <td>yes</td>\n",
              "      <td>123.0</td>\n",
              "      <td>NaN</td>\n",
              "      <td>NaN</td>\n",
              "      <td>NaN</td>\n",
              "      <td>NaN</td>\n",
              "    </tr>\n",
              "    <tr>\n",
              "      <th>1</th>\n",
              "      <td>102</td>\n",
              "      <td>cat2</td>\n",
              "      <td>no</td>\n",
              "      <td>52.0</td>\n",
              "      <td>NaN</td>\n",
              "      <td>NaN</td>\n",
              "      <td>NaN</td>\n",
              "      <td>NaN</td>\n",
              "    </tr>\n",
              "    <tr>\n",
              "      <th>2</th>\n",
              "      <td>103</td>\n",
              "      <td>cat1</td>\n",
              "      <td>yes</td>\n",
              "      <td>214.0</td>\n",
              "      <td>NaN</td>\n",
              "      <td>NaN</td>\n",
              "      <td>NaN</td>\n",
              "      <td>NaN</td>\n",
              "    </tr>\n",
              "    <tr>\n",
              "      <th>3</th>\n",
              "      <td>104</td>\n",
              "      <td>cat3</td>\n",
              "      <td>yes</td>\n",
              "      <td>663.0</td>\n",
              "      <td>NaN</td>\n",
              "      <td>NaN</td>\n",
              "      <td>NaN</td>\n",
              "      <td>NaN</td>\n",
              "    </tr>\n",
              "    <tr>\n",
              "      <th>4</th>\n",
              "      <td>NaN</td>\n",
              "      <td>NaN</td>\n",
              "      <td>NaN</td>\n",
              "      <td>NaN</td>\n",
              "      <td>101</td>\n",
              "      <td>yellow</td>\n",
              "      <td>12.0</td>\n",
              "      <td>123.0</td>\n",
              "    </tr>\n",
              "    <tr>\n",
              "      <th>5</th>\n",
              "      <td>NaN</td>\n",
              "      <td>NaN</td>\n",
              "      <td>NaN</td>\n",
              "      <td>NaN</td>\n",
              "      <td>103</td>\n",
              "      <td>green</td>\n",
              "      <td>9.0</td>\n",
              "      <td>214.0</td>\n",
              "    </tr>\n",
              "    <tr>\n",
              "      <th>6</th>\n",
              "      <td>NaN</td>\n",
              "      <td>NaN</td>\n",
              "      <td>NaN</td>\n",
              "      <td>NaN</td>\n",
              "      <td>104</td>\n",
              "      <td>green</td>\n",
              "      <td>44.0</td>\n",
              "      <td>663.0</td>\n",
              "    </tr>\n",
              "    <tr>\n",
              "      <th>7</th>\n",
              "      <td>NaN</td>\n",
              "      <td>NaN</td>\n",
              "      <td>NaN</td>\n",
              "      <td>NaN</td>\n",
              "      <td>105</td>\n",
              "      <td>blue</td>\n",
              "      <td>21.0</td>\n",
              "      <td>331.0</td>\n",
              "    </tr>\n",
              "  </tbody>\n",
              "</table>\n",
              "</div>"
            ],
            "text/plain": [
              "  customer category important  sales customer   color  distance  sales\n",
              "0      101     cat2       yes  123.0      NaN     NaN       NaN    NaN\n",
              "1      102     cat2        no   52.0      NaN     NaN       NaN    NaN\n",
              "2      103     cat1       yes  214.0      NaN     NaN       NaN    NaN\n",
              "3      104     cat3       yes  663.0      NaN     NaN       NaN    NaN\n",
              "4      NaN      NaN       NaN    NaN      101  yellow      12.0  123.0\n",
              "5      NaN      NaN       NaN    NaN      103   green       9.0  214.0\n",
              "6      NaN      NaN       NaN    NaN      104   green      44.0  663.0\n",
              "7      NaN      NaN       NaN    NaN      105    blue      21.0  331.0"
            ]
          },
          "metadata": {
            "tags": []
          },
          "execution_count": 32
        }
      ]
    },
    {
      "cell_type": "markdown",
      "metadata": {
        "id": "eTWz45yjxEdj"
      },
      "source": [
        "# Merge and Join\n",
        "\n",
        "Merge combines dataframes using a column's values to identify common entries\n",
        "\n",
        "Join combines dataframes using the index to identify common entries"
      ]
    },
    {
      "cell_type": "code",
      "metadata": {
        "id": "wM714w7CxEdk",
        "outputId": "26ff1589-bb2d-4c21-f144-017e7fdc035e",
        "colab": {
          "base_uri": "https://localhost:8080/",
          "height": 206
        }
      },
      "source": [
        "pd.merge(df7,df8,how='outer',on='customer') # outer merge is union of on"
      ],
      "execution_count": 33,
      "outputs": [
        {
          "output_type": "execute_result",
          "data": {
            "text/html": [
              "<div>\n",
              "<style scoped>\n",
              "    .dataframe tbody tr th:only-of-type {\n",
              "        vertical-align: middle;\n",
              "    }\n",
              "\n",
              "    .dataframe tbody tr th {\n",
              "        vertical-align: top;\n",
              "    }\n",
              "\n",
              "    .dataframe thead th {\n",
              "        text-align: right;\n",
              "    }\n",
              "</style>\n",
              "<table border=\"1\" class=\"dataframe\">\n",
              "  <thead>\n",
              "    <tr style=\"text-align: right;\">\n",
              "      <th></th>\n",
              "      <th>customer</th>\n",
              "      <th>category</th>\n",
              "      <th>important</th>\n",
              "      <th>sales_x</th>\n",
              "      <th>color</th>\n",
              "      <th>distance</th>\n",
              "      <th>sales_y</th>\n",
              "    </tr>\n",
              "  </thead>\n",
              "  <tbody>\n",
              "    <tr>\n",
              "      <th>0</th>\n",
              "      <td>101</td>\n",
              "      <td>cat2</td>\n",
              "      <td>yes</td>\n",
              "      <td>123.0</td>\n",
              "      <td>yellow</td>\n",
              "      <td>12.0</td>\n",
              "      <td>123.0</td>\n",
              "    </tr>\n",
              "    <tr>\n",
              "      <th>1</th>\n",
              "      <td>102</td>\n",
              "      <td>cat2</td>\n",
              "      <td>no</td>\n",
              "      <td>52.0</td>\n",
              "      <td>NaN</td>\n",
              "      <td>NaN</td>\n",
              "      <td>NaN</td>\n",
              "    </tr>\n",
              "    <tr>\n",
              "      <th>2</th>\n",
              "      <td>103</td>\n",
              "      <td>cat1</td>\n",
              "      <td>yes</td>\n",
              "      <td>214.0</td>\n",
              "      <td>green</td>\n",
              "      <td>9.0</td>\n",
              "      <td>214.0</td>\n",
              "    </tr>\n",
              "    <tr>\n",
              "      <th>3</th>\n",
              "      <td>104</td>\n",
              "      <td>cat3</td>\n",
              "      <td>yes</td>\n",
              "      <td>663.0</td>\n",
              "      <td>green</td>\n",
              "      <td>44.0</td>\n",
              "      <td>663.0</td>\n",
              "    </tr>\n",
              "    <tr>\n",
              "      <th>4</th>\n",
              "      <td>105</td>\n",
              "      <td>NaN</td>\n",
              "      <td>NaN</td>\n",
              "      <td>NaN</td>\n",
              "      <td>blue</td>\n",
              "      <td>21.0</td>\n",
              "      <td>331.0</td>\n",
              "    </tr>\n",
              "  </tbody>\n",
              "</table>\n",
              "</div>"
            ],
            "text/plain": [
              "  customer category important  sales_x   color  distance  sales_y\n",
              "0      101     cat2       yes    123.0  yellow      12.0    123.0\n",
              "1      102     cat2        no     52.0     NaN       NaN      NaN\n",
              "2      103     cat1       yes    214.0   green       9.0    214.0\n",
              "3      104     cat3       yes    663.0   green      44.0    663.0\n",
              "4      105      NaN       NaN      NaN    blue      21.0    331.0"
            ]
          },
          "metadata": {
            "tags": []
          },
          "execution_count": 33
        }
      ]
    },
    {
      "cell_type": "code",
      "metadata": {
        "id": "tP-Ce-HQxEdq",
        "outputId": "6d7d9f7e-a5cd-4157-ffc1-c3ab1c152d5d",
        "colab": {
          "base_uri": "https://localhost:8080/",
          "height": 143
        }
      },
      "source": [
        "pd.merge(df7,df8,how='inner',on='customer') # inner merge is intersection of on"
      ],
      "execution_count": 34,
      "outputs": [
        {
          "output_type": "execute_result",
          "data": {
            "text/html": [
              "<div>\n",
              "<style scoped>\n",
              "    .dataframe tbody tr th:only-of-type {\n",
              "        vertical-align: middle;\n",
              "    }\n",
              "\n",
              "    .dataframe tbody tr th {\n",
              "        vertical-align: top;\n",
              "    }\n",
              "\n",
              "    .dataframe thead th {\n",
              "        text-align: right;\n",
              "    }\n",
              "</style>\n",
              "<table border=\"1\" class=\"dataframe\">\n",
              "  <thead>\n",
              "    <tr style=\"text-align: right;\">\n",
              "      <th></th>\n",
              "      <th>customer</th>\n",
              "      <th>category</th>\n",
              "      <th>important</th>\n",
              "      <th>sales_x</th>\n",
              "      <th>color</th>\n",
              "      <th>distance</th>\n",
              "      <th>sales_y</th>\n",
              "    </tr>\n",
              "  </thead>\n",
              "  <tbody>\n",
              "    <tr>\n",
              "      <th>0</th>\n",
              "      <td>101</td>\n",
              "      <td>cat2</td>\n",
              "      <td>yes</td>\n",
              "      <td>123</td>\n",
              "      <td>yellow</td>\n",
              "      <td>12</td>\n",
              "      <td>123</td>\n",
              "    </tr>\n",
              "    <tr>\n",
              "      <th>1</th>\n",
              "      <td>103</td>\n",
              "      <td>cat1</td>\n",
              "      <td>yes</td>\n",
              "      <td>214</td>\n",
              "      <td>green</td>\n",
              "      <td>9</td>\n",
              "      <td>214</td>\n",
              "    </tr>\n",
              "    <tr>\n",
              "      <th>2</th>\n",
              "      <td>104</td>\n",
              "      <td>cat3</td>\n",
              "      <td>yes</td>\n",
              "      <td>663</td>\n",
              "      <td>green</td>\n",
              "      <td>44</td>\n",
              "      <td>663</td>\n",
              "    </tr>\n",
              "  </tbody>\n",
              "</table>\n",
              "</div>"
            ],
            "text/plain": [
              "  customer category important  sales_x   color  distance  sales_y\n",
              "0      101     cat2       yes      123  yellow        12      123\n",
              "1      103     cat1       yes      214   green         9      214\n",
              "2      104     cat3       yes      663   green        44      663"
            ]
          },
          "metadata": {
            "tags": []
          },
          "execution_count": 34
        }
      ]
    },
    {
      "cell_type": "code",
      "metadata": {
        "id": "CHyspnnbxEdt",
        "outputId": "e9478a42-6d19-4acf-a9a1-561becf141ee",
        "colab": {
          "base_uri": "https://localhost:8080/",
          "height": 175
        }
      },
      "source": [
        "pd.merge(df7,df8,how='right',on='customer') # left merge is just first on, but all columns ... right is second"
      ],
      "execution_count": 35,
      "outputs": [
        {
          "output_type": "execute_result",
          "data": {
            "text/html": [
              "<div>\n",
              "<style scoped>\n",
              "    .dataframe tbody tr th:only-of-type {\n",
              "        vertical-align: middle;\n",
              "    }\n",
              "\n",
              "    .dataframe tbody tr th {\n",
              "        vertical-align: top;\n",
              "    }\n",
              "\n",
              "    .dataframe thead th {\n",
              "        text-align: right;\n",
              "    }\n",
              "</style>\n",
              "<table border=\"1\" class=\"dataframe\">\n",
              "  <thead>\n",
              "    <tr style=\"text-align: right;\">\n",
              "      <th></th>\n",
              "      <th>customer</th>\n",
              "      <th>category</th>\n",
              "      <th>important</th>\n",
              "      <th>sales_x</th>\n",
              "      <th>color</th>\n",
              "      <th>distance</th>\n",
              "      <th>sales_y</th>\n",
              "    </tr>\n",
              "  </thead>\n",
              "  <tbody>\n",
              "    <tr>\n",
              "      <th>0</th>\n",
              "      <td>101</td>\n",
              "      <td>cat2</td>\n",
              "      <td>yes</td>\n",
              "      <td>123.0</td>\n",
              "      <td>yellow</td>\n",
              "      <td>12</td>\n",
              "      <td>123</td>\n",
              "    </tr>\n",
              "    <tr>\n",
              "      <th>1</th>\n",
              "      <td>103</td>\n",
              "      <td>cat1</td>\n",
              "      <td>yes</td>\n",
              "      <td>214.0</td>\n",
              "      <td>green</td>\n",
              "      <td>9</td>\n",
              "      <td>214</td>\n",
              "    </tr>\n",
              "    <tr>\n",
              "      <th>2</th>\n",
              "      <td>104</td>\n",
              "      <td>cat3</td>\n",
              "      <td>yes</td>\n",
              "      <td>663.0</td>\n",
              "      <td>green</td>\n",
              "      <td>44</td>\n",
              "      <td>663</td>\n",
              "    </tr>\n",
              "    <tr>\n",
              "      <th>3</th>\n",
              "      <td>105</td>\n",
              "      <td>NaN</td>\n",
              "      <td>NaN</td>\n",
              "      <td>NaN</td>\n",
              "      <td>blue</td>\n",
              "      <td>21</td>\n",
              "      <td>331</td>\n",
              "    </tr>\n",
              "  </tbody>\n",
              "</table>\n",
              "</div>"
            ],
            "text/plain": [
              "  customer category important  sales_x   color  distance  sales_y\n",
              "0      101     cat2       yes    123.0  yellow        12      123\n",
              "1      103     cat1       yes    214.0   green         9      214\n",
              "2      104     cat3       yes    663.0   green        44      663\n",
              "3      105      NaN       NaN      NaN    blue        21      331"
            ]
          },
          "metadata": {
            "tags": []
          },
          "execution_count": 35
        }
      ]
    },
    {
      "cell_type": "code",
      "metadata": {
        "id": "7oxuYblexEdy"
      },
      "source": [
        "df9 = pd.DataFrame({'Q1': [101,102,103],\n",
        "                    'Q2': [201,202,203]},\n",
        "                   index=['I0','I1','I2'])\n",
        "\n",
        "df10 = pd.DataFrame({'Q3': [301,302,303],\n",
        "                    'Q4': [401,402,403]},\n",
        "                   index=['I0','I2','I3'])"
      ],
      "execution_count": 36,
      "outputs": []
    },
    {
      "cell_type": "code",
      "metadata": {
        "id": "voYZfuH0xEd5",
        "outputId": "d2e22349-3f05-4f82-d42d-64608abd33b0",
        "colab": {
          "base_uri": "https://localhost:8080/",
          "height": 143
        }
      },
      "source": [
        "# join behaves just like merge, \n",
        "# except instead of using the values of one of the columns \n",
        "# to combine data frames, it uses the index labels\n",
        "df9.join(df10,how='right') # outer, inner, left, and right work the same as merge"
      ],
      "execution_count": 37,
      "outputs": [
        {
          "output_type": "execute_result",
          "data": {
            "text/html": [
              "<div>\n",
              "<style scoped>\n",
              "    .dataframe tbody tr th:only-of-type {\n",
              "        vertical-align: middle;\n",
              "    }\n",
              "\n",
              "    .dataframe tbody tr th {\n",
              "        vertical-align: top;\n",
              "    }\n",
              "\n",
              "    .dataframe thead th {\n",
              "        text-align: right;\n",
              "    }\n",
              "</style>\n",
              "<table border=\"1\" class=\"dataframe\">\n",
              "  <thead>\n",
              "    <tr style=\"text-align: right;\">\n",
              "      <th></th>\n",
              "      <th>Q1</th>\n",
              "      <th>Q2</th>\n",
              "      <th>Q3</th>\n",
              "      <th>Q4</th>\n",
              "    </tr>\n",
              "  </thead>\n",
              "  <tbody>\n",
              "    <tr>\n",
              "      <th>I0</th>\n",
              "      <td>101.0</td>\n",
              "      <td>201.0</td>\n",
              "      <td>301</td>\n",
              "      <td>401</td>\n",
              "    </tr>\n",
              "    <tr>\n",
              "      <th>I2</th>\n",
              "      <td>103.0</td>\n",
              "      <td>203.0</td>\n",
              "      <td>302</td>\n",
              "      <td>402</td>\n",
              "    </tr>\n",
              "    <tr>\n",
              "      <th>I3</th>\n",
              "      <td>NaN</td>\n",
              "      <td>NaN</td>\n",
              "      <td>303</td>\n",
              "      <td>403</td>\n",
              "    </tr>\n",
              "  </tbody>\n",
              "</table>\n",
              "</div>"
            ],
            "text/plain": [
              "       Q1     Q2   Q3   Q4\n",
              "I0  101.0  201.0  301  401\n",
              "I2  103.0  203.0  302  402\n",
              "I3    NaN    NaN  303  403"
            ]
          },
          "metadata": {
            "tags": []
          },
          "execution_count": 37
        }
      ]
    },
    {
      "cell_type": "code",
      "metadata": {
        "id": "epPqs9gixEd-",
        "outputId": "e14991aa-5a21-4cc5-eaf8-e3be2fb3362e",
        "colab": {
          "base_uri": "https://localhost:8080/",
          "height": 35
        }
      },
      "source": [
        "# let's now go over a few more basic functialities of pandas\n",
        "\n",
        "df8['color'].unique()"
      ],
      "execution_count": 38,
      "outputs": [
        {
          "output_type": "execute_result",
          "data": {
            "text/plain": [
              "array(['yellow', 'green', 'blue'], dtype=object)"
            ]
          },
          "metadata": {
            "tags": []
          },
          "execution_count": 38
        }
      ]
    },
    {
      "cell_type": "code",
      "metadata": {
        "id": "AawZ983mxEeC",
        "outputId": "1f2e6d3b-6d20-41c0-95e5-df304d57d007",
        "colab": {
          "base_uri": "https://localhost:8080/",
          "height": 90
        }
      },
      "source": [
        "df8['color'].value_counts()"
      ],
      "execution_count": 39,
      "outputs": [
        {
          "output_type": "execute_result",
          "data": {
            "text/plain": [
              "green     2\n",
              "yellow    1\n",
              "blue      1\n",
              "Name: color, dtype: int64"
            ]
          },
          "metadata": {
            "tags": []
          },
          "execution_count": 39
        }
      ]
    },
    {
      "cell_type": "code",
      "metadata": {
        "id": "62dcuTVWxEeG",
        "outputId": "a7142c7c-03ce-4410-e5ee-0550a36f20c4",
        "colab": {
          "base_uri": "https://localhost:8080/",
          "height": 72
        }
      },
      "source": [
        "df9.mean()"
      ],
      "execution_count": 40,
      "outputs": [
        {
          "output_type": "execute_result",
          "data": {
            "text/plain": [
              "Q1    102.0\n",
              "Q2    202.0\n",
              "dtype: float64"
            ]
          },
          "metadata": {
            "tags": []
          },
          "execution_count": 40
        }
      ]
    },
    {
      "cell_type": "code",
      "metadata": {
        "id": "GB8b9wqexEeK",
        "outputId": "8ea08b8a-19fe-4a12-a002-40d287afe998",
        "colab": {
          "base_uri": "https://localhost:8080/",
          "height": 35
        }
      },
      "source": [
        "df8.columns"
      ],
      "execution_count": 41,
      "outputs": [
        {
          "output_type": "execute_result",
          "data": {
            "text/plain": [
              "Index(['customer', 'color', 'distance', 'sales'], dtype='object')"
            ]
          },
          "metadata": {
            "tags": []
          },
          "execution_count": 41
        }
      ]
    },
    {
      "cell_type": "code",
      "metadata": {
        "id": "Nli02se5xEeN",
        "outputId": "3e7f09a1-612c-4344-862b-dbdbd27e2bb1",
        "colab": {
          "base_uri": "https://localhost:8080/",
          "height": 175
        }
      },
      "source": [
        "df8"
      ],
      "execution_count": 42,
      "outputs": [
        {
          "output_type": "execute_result",
          "data": {
            "text/html": [
              "<div>\n",
              "<style scoped>\n",
              "    .dataframe tbody tr th:only-of-type {\n",
              "        vertical-align: middle;\n",
              "    }\n",
              "\n",
              "    .dataframe tbody tr th {\n",
              "        vertical-align: top;\n",
              "    }\n",
              "\n",
              "    .dataframe thead th {\n",
              "        text-align: right;\n",
              "    }\n",
              "</style>\n",
              "<table border=\"1\" class=\"dataframe\">\n",
              "  <thead>\n",
              "    <tr style=\"text-align: right;\">\n",
              "      <th></th>\n",
              "      <th>customer</th>\n",
              "      <th>color</th>\n",
              "      <th>distance</th>\n",
              "      <th>sales</th>\n",
              "    </tr>\n",
              "  </thead>\n",
              "  <tbody>\n",
              "    <tr>\n",
              "      <th>4</th>\n",
              "      <td>101</td>\n",
              "      <td>yellow</td>\n",
              "      <td>12</td>\n",
              "      <td>123</td>\n",
              "    </tr>\n",
              "    <tr>\n",
              "      <th>5</th>\n",
              "      <td>103</td>\n",
              "      <td>green</td>\n",
              "      <td>9</td>\n",
              "      <td>214</td>\n",
              "    </tr>\n",
              "    <tr>\n",
              "      <th>6</th>\n",
              "      <td>104</td>\n",
              "      <td>green</td>\n",
              "      <td>44</td>\n",
              "      <td>663</td>\n",
              "    </tr>\n",
              "    <tr>\n",
              "      <th>7</th>\n",
              "      <td>105</td>\n",
              "      <td>blue</td>\n",
              "      <td>21</td>\n",
              "      <td>331</td>\n",
              "    </tr>\n",
              "  </tbody>\n",
              "</table>\n",
              "</div>"
            ],
            "text/plain": [
              "  customer   color  distance  sales\n",
              "4      101  yellow        12    123\n",
              "5      103   green         9    214\n",
              "6      104   green        44    663\n",
              "7      105    blue        21    331"
            ]
          },
          "metadata": {
            "tags": []
          },
          "execution_count": 42
        }
      ]
    },
    {
      "cell_type": "code",
      "metadata": {
        "id": "soZBpk-NxEeQ",
        "outputId": "4423e4ef-5484-4b85-bb62-9249ad478d4a",
        "colab": {
          "base_uri": "https://localhost:8080/",
          "height": 81
        }
      },
      "source": [
        "new_df = df8[(df8['customer']!='105') & (df8['color']!='green')]\n",
        "new_df"
      ],
      "execution_count": 43,
      "outputs": [
        {
          "output_type": "execute_result",
          "data": {
            "text/html": [
              "<div>\n",
              "<style scoped>\n",
              "    .dataframe tbody tr th:only-of-type {\n",
              "        vertical-align: middle;\n",
              "    }\n",
              "\n",
              "    .dataframe tbody tr th {\n",
              "        vertical-align: top;\n",
              "    }\n",
              "\n",
              "    .dataframe thead th {\n",
              "        text-align: right;\n",
              "    }\n",
              "</style>\n",
              "<table border=\"1\" class=\"dataframe\">\n",
              "  <thead>\n",
              "    <tr style=\"text-align: right;\">\n",
              "      <th></th>\n",
              "      <th>customer</th>\n",
              "      <th>color</th>\n",
              "      <th>distance</th>\n",
              "      <th>sales</th>\n",
              "    </tr>\n",
              "  </thead>\n",
              "  <tbody>\n",
              "    <tr>\n",
              "      <th>4</th>\n",
              "      <td>101</td>\n",
              "      <td>yellow</td>\n",
              "      <td>12</td>\n",
              "      <td>123</td>\n",
              "    </tr>\n",
              "  </tbody>\n",
              "</table>\n",
              "</div>"
            ],
            "text/plain": [
              "  customer   color  distance  sales\n",
              "4      101  yellow        12    123"
            ]
          },
          "metadata": {
            "tags": []
          },
          "execution_count": 43
        }
      ]
    },
    {
      "cell_type": "code",
      "metadata": {
        "id": "JtPRDiyBxEeU",
        "outputId": "da93d1e3-9add-439a-fedc-eb1bef49efe6",
        "colab": {
          "base_uri": "https://localhost:8080/",
          "height": 53
        }
      },
      "source": [
        "print(df8['sales'].sum())\n",
        "print(df8['distance'].min())\n"
      ],
      "execution_count": 44,
      "outputs": [
        {
          "output_type": "stream",
          "text": [
            "1331\n",
            "9\n"
          ],
          "name": "stdout"
        }
      ]
    },
    {
      "cell_type": "code",
      "metadata": {
        "id": "drmFJ7OZxEeY"
      },
      "source": [
        "def profit(s):\n",
        "    return s*0.5 # 50% markup..."
      ],
      "execution_count": 45,
      "outputs": []
    },
    {
      "cell_type": "code",
      "metadata": {
        "id": "-XBx99HCxEeb",
        "outputId": "e362bc73-5b00-424d-c4ce-0dbc4801b21d",
        "colab": {
          "base_uri": "https://localhost:8080/",
          "height": 108
        }
      },
      "source": [
        "df8['sales'].apply(profit)"
      ],
      "execution_count": 46,
      "outputs": [
        {
          "output_type": "execute_result",
          "data": {
            "text/plain": [
              "4     61.5\n",
              "5    107.0\n",
              "6    331.5\n",
              "7    165.5\n",
              "Name: sales, dtype: float64"
            ]
          },
          "metadata": {
            "tags": []
          },
          "execution_count": 46
        }
      ]
    },
    {
      "cell_type": "code",
      "metadata": {
        "id": "vOMgCj1wxEeh",
        "outputId": "cdddb262-514c-494e-d966-8d29a2266367",
        "colab": {
          "base_uri": "https://localhost:8080/",
          "height": 108
        }
      },
      "source": [
        "df8['color'].apply(len)"
      ],
      "execution_count": 47,
      "outputs": [
        {
          "output_type": "execute_result",
          "data": {
            "text/plain": [
              "4    6\n",
              "5    5\n",
              "6    5\n",
              "7    4\n",
              "Name: color, dtype: int64"
            ]
          },
          "metadata": {
            "tags": []
          },
          "execution_count": 47
        }
      ]
    },
    {
      "cell_type": "code",
      "metadata": {
        "id": "ZTasscAVxEek",
        "outputId": "6834e8ef-3693-4d5d-d933-8e5bb8a6d5ab",
        "colab": {
          "base_uri": "https://localhost:8080/",
          "height": 175
        }
      },
      "source": [
        "df11 = df8[['distance','sales']]\n",
        "df11.applymap(profit)"
      ],
      "execution_count": 48,
      "outputs": [
        {
          "output_type": "execute_result",
          "data": {
            "text/html": [
              "<div>\n",
              "<style scoped>\n",
              "    .dataframe tbody tr th:only-of-type {\n",
              "        vertical-align: middle;\n",
              "    }\n",
              "\n",
              "    .dataframe tbody tr th {\n",
              "        vertical-align: top;\n",
              "    }\n",
              "\n",
              "    .dataframe thead th {\n",
              "        text-align: right;\n",
              "    }\n",
              "</style>\n",
              "<table border=\"1\" class=\"dataframe\">\n",
              "  <thead>\n",
              "    <tr style=\"text-align: right;\">\n",
              "      <th></th>\n",
              "      <th>distance</th>\n",
              "      <th>sales</th>\n",
              "    </tr>\n",
              "  </thead>\n",
              "  <tbody>\n",
              "    <tr>\n",
              "      <th>4</th>\n",
              "      <td>6.0</td>\n",
              "      <td>61.5</td>\n",
              "    </tr>\n",
              "    <tr>\n",
              "      <th>5</th>\n",
              "      <td>4.5</td>\n",
              "      <td>107.0</td>\n",
              "    </tr>\n",
              "    <tr>\n",
              "      <th>6</th>\n",
              "      <td>22.0</td>\n",
              "      <td>331.5</td>\n",
              "    </tr>\n",
              "    <tr>\n",
              "      <th>7</th>\n",
              "      <td>10.5</td>\n",
              "      <td>165.5</td>\n",
              "    </tr>\n",
              "  </tbody>\n",
              "</table>\n",
              "</div>"
            ],
            "text/plain": [
              "   distance  sales\n",
              "4       6.0   61.5\n",
              "5       4.5  107.0\n",
              "6      22.0  331.5\n",
              "7      10.5  165.5"
            ]
          },
          "metadata": {
            "tags": []
          },
          "execution_count": 48
        }
      ]
    },
    {
      "cell_type": "code",
      "metadata": {
        "id": "2Aq-wKXhxEeo",
        "outputId": "f04b31cf-3b7d-472d-d7f9-324df53df992",
        "colab": {
          "base_uri": "https://localhost:8080/",
          "height": 72
        }
      },
      "source": [
        "def col_sum(co):\n",
        "    return sum(co)\n",
        "df11.apply(col_sum)"
      ],
      "execution_count": 49,
      "outputs": [
        {
          "output_type": "execute_result",
          "data": {
            "text/plain": [
              "distance      86\n",
              "sales       1331\n",
              "dtype: int64"
            ]
          },
          "metadata": {
            "tags": []
          },
          "execution_count": 49
        }
      ]
    },
    {
      "cell_type": "code",
      "metadata": {
        "id": "5pPGpntgxEer",
        "outputId": "b029a644-d19c-40df-f650-67a21685fc64",
        "colab": {
          "base_uri": "https://localhost:8080/",
          "height": 322
        }
      },
      "source": [
        "df11.applymap(col_sum)"
      ],
      "execution_count": 50,
      "outputs": [
        {
          "output_type": "error",
          "ename": "TypeError",
          "evalue": "ignored",
          "traceback": [
            "\u001b[0;31m---------------------------------------------------------------------------\u001b[0m",
            "\u001b[0;31mTypeError\u001b[0m                                 Traceback (most recent call last)",
            "\u001b[0;32m<ipython-input-50-e7bcaa3ec13d>\u001b[0m in \u001b[0;36m<module>\u001b[0;34m()\u001b[0m\n\u001b[0;32m----> 1\u001b[0;31m \u001b[0mdf11\u001b[0m\u001b[0;34m.\u001b[0m\u001b[0mapplymap\u001b[0m\u001b[0;34m(\u001b[0m\u001b[0mcol_sum\u001b[0m\u001b[0;34m)\u001b[0m\u001b[0;34m\u001b[0m\u001b[0;34m\u001b[0m\u001b[0m\n\u001b[0m",
            "\u001b[0;32m/usr/local/lib/python3.6/dist-packages/pandas/core/frame.py\u001b[0m in \u001b[0;36mapplymap\u001b[0;34m(self, func)\u001b[0m\n\u001b[1;32m   7602\u001b[0m             \u001b[0;32mreturn\u001b[0m \u001b[0mlib\u001b[0m\u001b[0;34m.\u001b[0m\u001b[0mmap_infer\u001b[0m\u001b[0;34m(\u001b[0m\u001b[0mx\u001b[0m\u001b[0;34m.\u001b[0m\u001b[0mastype\u001b[0m\u001b[0;34m(\u001b[0m\u001b[0mobject\u001b[0m\u001b[0;34m)\u001b[0m\u001b[0;34m.\u001b[0m\u001b[0m_values\u001b[0m\u001b[0;34m,\u001b[0m \u001b[0mfunc\u001b[0m\u001b[0;34m)\u001b[0m\u001b[0;34m\u001b[0m\u001b[0;34m\u001b[0m\u001b[0m\n\u001b[1;32m   7603\u001b[0m \u001b[0;34m\u001b[0m\u001b[0m\n\u001b[0;32m-> 7604\u001b[0;31m         \u001b[0;32mreturn\u001b[0m \u001b[0mself\u001b[0m\u001b[0;34m.\u001b[0m\u001b[0mapply\u001b[0m\u001b[0;34m(\u001b[0m\u001b[0minfer\u001b[0m\u001b[0;34m)\u001b[0m\u001b[0;34m\u001b[0m\u001b[0;34m\u001b[0m\u001b[0m\n\u001b[0m\u001b[1;32m   7605\u001b[0m \u001b[0;34m\u001b[0m\u001b[0m\n\u001b[1;32m   7606\u001b[0m     \u001b[0;31m# ----------------------------------------------------------------------\u001b[0m\u001b[0;34m\u001b[0m\u001b[0;34m\u001b[0m\u001b[0;34m\u001b[0m\u001b[0m\n",
            "\u001b[0;32m/usr/local/lib/python3.6/dist-packages/pandas/core/frame.py\u001b[0m in \u001b[0;36mapply\u001b[0;34m(self, func, axis, raw, result_type, args, **kwds)\u001b[0m\n\u001b[1;32m   7545\u001b[0m             \u001b[0mkwds\u001b[0m\u001b[0;34m=\u001b[0m\u001b[0mkwds\u001b[0m\u001b[0;34m,\u001b[0m\u001b[0;34m\u001b[0m\u001b[0;34m\u001b[0m\u001b[0m\n\u001b[1;32m   7546\u001b[0m         )\n\u001b[0;32m-> 7547\u001b[0;31m         \u001b[0;32mreturn\u001b[0m \u001b[0mop\u001b[0m\u001b[0;34m.\u001b[0m\u001b[0mget_result\u001b[0m\u001b[0;34m(\u001b[0m\u001b[0;34m)\u001b[0m\u001b[0;34m\u001b[0m\u001b[0;34m\u001b[0m\u001b[0m\n\u001b[0m\u001b[1;32m   7548\u001b[0m \u001b[0;34m\u001b[0m\u001b[0m\n\u001b[1;32m   7549\u001b[0m     \u001b[0;32mdef\u001b[0m \u001b[0mapplymap\u001b[0m\u001b[0;34m(\u001b[0m\u001b[0mself\u001b[0m\u001b[0;34m,\u001b[0m \u001b[0mfunc\u001b[0m\u001b[0;34m)\u001b[0m \u001b[0;34m->\u001b[0m \u001b[0;34m\"DataFrame\"\u001b[0m\u001b[0;34m:\u001b[0m\u001b[0;34m\u001b[0m\u001b[0;34m\u001b[0m\u001b[0m\n",
            "\u001b[0;32m/usr/local/lib/python3.6/dist-packages/pandas/core/apply.py\u001b[0m in \u001b[0;36mget_result\u001b[0;34m(self)\u001b[0m\n\u001b[1;32m    178\u001b[0m             \u001b[0;32mreturn\u001b[0m \u001b[0mself\u001b[0m\u001b[0;34m.\u001b[0m\u001b[0mapply_raw\u001b[0m\u001b[0;34m(\u001b[0m\u001b[0;34m)\u001b[0m\u001b[0;34m\u001b[0m\u001b[0;34m\u001b[0m\u001b[0m\n\u001b[1;32m    179\u001b[0m \u001b[0;34m\u001b[0m\u001b[0m\n\u001b[0;32m--> 180\u001b[0;31m         \u001b[0;32mreturn\u001b[0m \u001b[0mself\u001b[0m\u001b[0;34m.\u001b[0m\u001b[0mapply_standard\u001b[0m\u001b[0;34m(\u001b[0m\u001b[0;34m)\u001b[0m\u001b[0;34m\u001b[0m\u001b[0;34m\u001b[0m\u001b[0m\n\u001b[0m\u001b[1;32m    181\u001b[0m \u001b[0;34m\u001b[0m\u001b[0m\n\u001b[1;32m    182\u001b[0m     \u001b[0;32mdef\u001b[0m \u001b[0mapply_empty_result\u001b[0m\u001b[0;34m(\u001b[0m\u001b[0mself\u001b[0m\u001b[0;34m)\u001b[0m\u001b[0;34m:\u001b[0m\u001b[0;34m\u001b[0m\u001b[0;34m\u001b[0m\u001b[0m\n",
            "\u001b[0;32m/usr/local/lib/python3.6/dist-packages/pandas/core/apply.py\u001b[0m in \u001b[0;36mapply_standard\u001b[0;34m(self)\u001b[0m\n\u001b[1;32m    253\u001b[0m \u001b[0;34m\u001b[0m\u001b[0m\n\u001b[1;32m    254\u001b[0m     \u001b[0;32mdef\u001b[0m \u001b[0mapply_standard\u001b[0m\u001b[0;34m(\u001b[0m\u001b[0mself\u001b[0m\u001b[0;34m)\u001b[0m\u001b[0;34m:\u001b[0m\u001b[0;34m\u001b[0m\u001b[0;34m\u001b[0m\u001b[0m\n\u001b[0;32m--> 255\u001b[0;31m         \u001b[0mresults\u001b[0m\u001b[0;34m,\u001b[0m \u001b[0mres_index\u001b[0m \u001b[0;34m=\u001b[0m \u001b[0mself\u001b[0m\u001b[0;34m.\u001b[0m\u001b[0mapply_series_generator\u001b[0m\u001b[0;34m(\u001b[0m\u001b[0;34m)\u001b[0m\u001b[0;34m\u001b[0m\u001b[0;34m\u001b[0m\u001b[0m\n\u001b[0m\u001b[1;32m    256\u001b[0m \u001b[0;34m\u001b[0m\u001b[0m\n\u001b[1;32m    257\u001b[0m         \u001b[0;31m# wrap results\u001b[0m\u001b[0;34m\u001b[0m\u001b[0;34m\u001b[0m\u001b[0;34m\u001b[0m\u001b[0m\n",
            "\u001b[0;32m/usr/local/lib/python3.6/dist-packages/pandas/core/apply.py\u001b[0m in \u001b[0;36mapply_series_generator\u001b[0;34m(self)\u001b[0m\n\u001b[1;32m    282\u001b[0m                 \u001b[0;32mfor\u001b[0m \u001b[0mi\u001b[0m\u001b[0;34m,\u001b[0m \u001b[0mv\u001b[0m \u001b[0;32min\u001b[0m \u001b[0menumerate\u001b[0m\u001b[0;34m(\u001b[0m\u001b[0mseries_gen\u001b[0m\u001b[0;34m)\u001b[0m\u001b[0;34m:\u001b[0m\u001b[0;34m\u001b[0m\u001b[0;34m\u001b[0m\u001b[0m\n\u001b[1;32m    283\u001b[0m                     \u001b[0;31m# ignore SettingWithCopy here in case the user mutates\u001b[0m\u001b[0;34m\u001b[0m\u001b[0;34m\u001b[0m\u001b[0;34m\u001b[0m\u001b[0m\n\u001b[0;32m--> 284\u001b[0;31m                     \u001b[0mresults\u001b[0m\u001b[0;34m[\u001b[0m\u001b[0mi\u001b[0m\u001b[0;34m]\u001b[0m \u001b[0;34m=\u001b[0m \u001b[0mself\u001b[0m\u001b[0;34m.\u001b[0m\u001b[0mf\u001b[0m\u001b[0;34m(\u001b[0m\u001b[0mv\u001b[0m\u001b[0;34m)\u001b[0m\u001b[0;34m\u001b[0m\u001b[0;34m\u001b[0m\u001b[0m\n\u001b[0m\u001b[1;32m    285\u001b[0m                     \u001b[0;32mif\u001b[0m \u001b[0misinstance\u001b[0m\u001b[0;34m(\u001b[0m\u001b[0mresults\u001b[0m\u001b[0;34m[\u001b[0m\u001b[0mi\u001b[0m\u001b[0;34m]\u001b[0m\u001b[0;34m,\u001b[0m \u001b[0mABCSeries\u001b[0m\u001b[0;34m)\u001b[0m\u001b[0;34m:\u001b[0m\u001b[0;34m\u001b[0m\u001b[0;34m\u001b[0m\u001b[0m\n\u001b[1;32m    286\u001b[0m                         \u001b[0;31m# If we have a view on v, we need to make a copy because\u001b[0m\u001b[0;34m\u001b[0m\u001b[0;34m\u001b[0m\u001b[0;34m\u001b[0m\u001b[0m\n",
            "\u001b[0;32m/usr/local/lib/python3.6/dist-packages/pandas/core/frame.py\u001b[0m in \u001b[0;36minfer\u001b[0;34m(x)\u001b[0m\n\u001b[1;32m   7600\u001b[0m             \u001b[0;32mif\u001b[0m \u001b[0mx\u001b[0m\u001b[0;34m.\u001b[0m\u001b[0mempty\u001b[0m\u001b[0;34m:\u001b[0m\u001b[0;34m\u001b[0m\u001b[0;34m\u001b[0m\u001b[0m\n\u001b[1;32m   7601\u001b[0m                 \u001b[0;32mreturn\u001b[0m \u001b[0mlib\u001b[0m\u001b[0;34m.\u001b[0m\u001b[0mmap_infer\u001b[0m\u001b[0;34m(\u001b[0m\u001b[0mx\u001b[0m\u001b[0;34m,\u001b[0m \u001b[0mfunc\u001b[0m\u001b[0;34m)\u001b[0m\u001b[0;34m\u001b[0m\u001b[0;34m\u001b[0m\u001b[0m\n\u001b[0;32m-> 7602\u001b[0;31m             \u001b[0;32mreturn\u001b[0m \u001b[0mlib\u001b[0m\u001b[0;34m.\u001b[0m\u001b[0mmap_infer\u001b[0m\u001b[0;34m(\u001b[0m\u001b[0mx\u001b[0m\u001b[0;34m.\u001b[0m\u001b[0mastype\u001b[0m\u001b[0;34m(\u001b[0m\u001b[0mobject\u001b[0m\u001b[0;34m)\u001b[0m\u001b[0;34m.\u001b[0m\u001b[0m_values\u001b[0m\u001b[0;34m,\u001b[0m \u001b[0mfunc\u001b[0m\u001b[0;34m)\u001b[0m\u001b[0;34m\u001b[0m\u001b[0;34m\u001b[0m\u001b[0m\n\u001b[0m\u001b[1;32m   7603\u001b[0m \u001b[0;34m\u001b[0m\u001b[0m\n\u001b[1;32m   7604\u001b[0m         \u001b[0;32mreturn\u001b[0m \u001b[0mself\u001b[0m\u001b[0;34m.\u001b[0m\u001b[0mapply\u001b[0m\u001b[0;34m(\u001b[0m\u001b[0minfer\u001b[0m\u001b[0;34m)\u001b[0m\u001b[0;34m\u001b[0m\u001b[0;34m\u001b[0m\u001b[0m\n",
            "\u001b[0;32mpandas/_libs/lib.pyx\u001b[0m in \u001b[0;36mpandas._libs.lib.map_infer\u001b[0;34m()\u001b[0m\n",
            "\u001b[0;32m<ipython-input-49-972de7d355da>\u001b[0m in \u001b[0;36mcol_sum\u001b[0;34m(co)\u001b[0m\n\u001b[1;32m      1\u001b[0m \u001b[0;32mdef\u001b[0m \u001b[0mcol_sum\u001b[0m\u001b[0;34m(\u001b[0m\u001b[0mco\u001b[0m\u001b[0;34m)\u001b[0m\u001b[0;34m:\u001b[0m\u001b[0;34m\u001b[0m\u001b[0;34m\u001b[0m\u001b[0m\n\u001b[0;32m----> 2\u001b[0;31m     \u001b[0;32mreturn\u001b[0m \u001b[0msum\u001b[0m\u001b[0;34m(\u001b[0m\u001b[0mco\u001b[0m\u001b[0;34m)\u001b[0m\u001b[0;34m\u001b[0m\u001b[0;34m\u001b[0m\u001b[0m\n\u001b[0m\u001b[1;32m      3\u001b[0m \u001b[0mdf11\u001b[0m\u001b[0;34m.\u001b[0m\u001b[0mapply\u001b[0m\u001b[0;34m(\u001b[0m\u001b[0mcol_sum\u001b[0m\u001b[0;34m)\u001b[0m\u001b[0;34m\u001b[0m\u001b[0;34m\u001b[0m\u001b[0m\n",
            "\u001b[0;31mTypeError\u001b[0m: 'int' object is not iterable"
          ]
        }
      ]
    },
    {
      "cell_type": "code",
      "metadata": {
        "id": "B3RPoq5axEez",
        "outputId": "ae4c39a5-2109-49e4-e2fb-c70447b75398",
        "colab": {
          "base_uri": "https://localhost:8080/",
          "height": 175
        }
      },
      "source": [
        "del df8['color']\n",
        "df8"
      ],
      "execution_count": 51,
      "outputs": [
        {
          "output_type": "execute_result",
          "data": {
            "text/html": [
              "<div>\n",
              "<style scoped>\n",
              "    .dataframe tbody tr th:only-of-type {\n",
              "        vertical-align: middle;\n",
              "    }\n",
              "\n",
              "    .dataframe tbody tr th {\n",
              "        vertical-align: top;\n",
              "    }\n",
              "\n",
              "    .dataframe thead th {\n",
              "        text-align: right;\n",
              "    }\n",
              "</style>\n",
              "<table border=\"1\" class=\"dataframe\">\n",
              "  <thead>\n",
              "    <tr style=\"text-align: right;\">\n",
              "      <th></th>\n",
              "      <th>customer</th>\n",
              "      <th>distance</th>\n",
              "      <th>sales</th>\n",
              "    </tr>\n",
              "  </thead>\n",
              "  <tbody>\n",
              "    <tr>\n",
              "      <th>4</th>\n",
              "      <td>101</td>\n",
              "      <td>12</td>\n",
              "      <td>123</td>\n",
              "    </tr>\n",
              "    <tr>\n",
              "      <th>5</th>\n",
              "      <td>103</td>\n",
              "      <td>9</td>\n",
              "      <td>214</td>\n",
              "    </tr>\n",
              "    <tr>\n",
              "      <th>6</th>\n",
              "      <td>104</td>\n",
              "      <td>44</td>\n",
              "      <td>663</td>\n",
              "    </tr>\n",
              "    <tr>\n",
              "      <th>7</th>\n",
              "      <td>105</td>\n",
              "      <td>21</td>\n",
              "      <td>331</td>\n",
              "    </tr>\n",
              "  </tbody>\n",
              "</table>\n",
              "</div>"
            ],
            "text/plain": [
              "  customer  distance  sales\n",
              "4      101        12    123\n",
              "5      103         9    214\n",
              "6      104        44    663\n",
              "7      105        21    331"
            ]
          },
          "metadata": {
            "tags": []
          },
          "execution_count": 51
        }
      ]
    },
    {
      "cell_type": "code",
      "metadata": {
        "id": "bBzw9fTFxEe3",
        "outputId": "263ae6cc-8946-47f7-dc0c-bfdb93a3c9c3",
        "colab": {
          "base_uri": "https://localhost:8080/",
          "height": 35
        }
      },
      "source": [
        "df8.index"
      ],
      "execution_count": 52,
      "outputs": [
        {
          "output_type": "execute_result",
          "data": {
            "text/plain": [
              "Int64Index([4, 5, 6, 7], dtype='int64')"
            ]
          },
          "metadata": {
            "tags": []
          },
          "execution_count": 52
        }
      ]
    },
    {
      "cell_type": "code",
      "metadata": {
        "id": "H6LSu9coxEe5",
        "outputId": "843bb415-6ebb-4b8d-e64e-273cd7cffa0a",
        "colab": {
          "base_uri": "https://localhost:8080/",
          "height": 175
        }
      },
      "source": [
        "df8.sort_values(by='distance',inplace=True)\n",
        "df8"
      ],
      "execution_count": 53,
      "outputs": [
        {
          "output_type": "execute_result",
          "data": {
            "text/html": [
              "<div>\n",
              "<style scoped>\n",
              "    .dataframe tbody tr th:only-of-type {\n",
              "        vertical-align: middle;\n",
              "    }\n",
              "\n",
              "    .dataframe tbody tr th {\n",
              "        vertical-align: top;\n",
              "    }\n",
              "\n",
              "    .dataframe thead th {\n",
              "        text-align: right;\n",
              "    }\n",
              "</style>\n",
              "<table border=\"1\" class=\"dataframe\">\n",
              "  <thead>\n",
              "    <tr style=\"text-align: right;\">\n",
              "      <th></th>\n",
              "      <th>customer</th>\n",
              "      <th>distance</th>\n",
              "      <th>sales</th>\n",
              "    </tr>\n",
              "  </thead>\n",
              "  <tbody>\n",
              "    <tr>\n",
              "      <th>5</th>\n",
              "      <td>103</td>\n",
              "      <td>9</td>\n",
              "      <td>214</td>\n",
              "    </tr>\n",
              "    <tr>\n",
              "      <th>4</th>\n",
              "      <td>101</td>\n",
              "      <td>12</td>\n",
              "      <td>123</td>\n",
              "    </tr>\n",
              "    <tr>\n",
              "      <th>7</th>\n",
              "      <td>105</td>\n",
              "      <td>21</td>\n",
              "      <td>331</td>\n",
              "    </tr>\n",
              "    <tr>\n",
              "      <th>6</th>\n",
              "      <td>104</td>\n",
              "      <td>44</td>\n",
              "      <td>663</td>\n",
              "    </tr>\n",
              "  </tbody>\n",
              "</table>\n",
              "</div>"
            ],
            "text/plain": [
              "  customer  distance  sales\n",
              "5      103         9    214\n",
              "4      101        12    123\n",
              "7      105        21    331\n",
              "6      104        44    663"
            ]
          },
          "metadata": {
            "tags": []
          },
          "execution_count": 53
        }
      ]
    },
    {
      "cell_type": "code",
      "metadata": {
        "id": "T0asCv7WxEe9",
        "outputId": "920e1da6-2dc0-4965-ddac-171aca9e8e3b",
        "colab": {
          "base_uri": "https://localhost:8080/",
          "height": 175
        }
      },
      "source": [
        "df8"
      ],
      "execution_count": 54,
      "outputs": [
        {
          "output_type": "execute_result",
          "data": {
            "text/html": [
              "<div>\n",
              "<style scoped>\n",
              "    .dataframe tbody tr th:only-of-type {\n",
              "        vertical-align: middle;\n",
              "    }\n",
              "\n",
              "    .dataframe tbody tr th {\n",
              "        vertical-align: top;\n",
              "    }\n",
              "\n",
              "    .dataframe thead th {\n",
              "        text-align: right;\n",
              "    }\n",
              "</style>\n",
              "<table border=\"1\" class=\"dataframe\">\n",
              "  <thead>\n",
              "    <tr style=\"text-align: right;\">\n",
              "      <th></th>\n",
              "      <th>customer</th>\n",
              "      <th>distance</th>\n",
              "      <th>sales</th>\n",
              "    </tr>\n",
              "  </thead>\n",
              "  <tbody>\n",
              "    <tr>\n",
              "      <th>5</th>\n",
              "      <td>103</td>\n",
              "      <td>9</td>\n",
              "      <td>214</td>\n",
              "    </tr>\n",
              "    <tr>\n",
              "      <th>4</th>\n",
              "      <td>101</td>\n",
              "      <td>12</td>\n",
              "      <td>123</td>\n",
              "    </tr>\n",
              "    <tr>\n",
              "      <th>7</th>\n",
              "      <td>105</td>\n",
              "      <td>21</td>\n",
              "      <td>331</td>\n",
              "    </tr>\n",
              "    <tr>\n",
              "      <th>6</th>\n",
              "      <td>104</td>\n",
              "      <td>44</td>\n",
              "      <td>663</td>\n",
              "    </tr>\n",
              "  </tbody>\n",
              "</table>\n",
              "</div>"
            ],
            "text/plain": [
              "  customer  distance  sales\n",
              "5      103         9    214\n",
              "4      101        12    123\n",
              "7      105        21    331\n",
              "6      104        44    663"
            ]
          },
          "metadata": {
            "tags": []
          },
          "execution_count": 54
        }
      ]
    },
    {
      "cell_type": "code",
      "metadata": {
        "id": "bOMDmST8xEfQ",
        "outputId": "95e0ccbe-7487-4fd1-91ea-11f1a71a8f83",
        "colab": {
          "base_uri": "https://localhost:8080/",
          "height": 237
        }
      },
      "source": [
        "# if some series has multiple of the same value then we can group all the unique entries together\n",
        "mydict = {'customer': ['Customer 1','Customer 1','Customer2','Customer2','Customer3','Customer3'], \n",
        "          'product1': [1.1,2.1,3.8,4.2,5.5,6.9],\n",
        "          'product2': [8.2,9.1,11.1,5.2,44.66,983]}\n",
        "df6 = pd.DataFrame(mydict,index=['Purchase 1','Purchase 2','Purchase 3','Purchase 4','Purchase 5','Purchase 6'])\n",
        "df6"
      ],
      "execution_count": 55,
      "outputs": [
        {
          "output_type": "execute_result",
          "data": {
            "text/html": [
              "<div>\n",
              "<style scoped>\n",
              "    .dataframe tbody tr th:only-of-type {\n",
              "        vertical-align: middle;\n",
              "    }\n",
              "\n",
              "    .dataframe tbody tr th {\n",
              "        vertical-align: top;\n",
              "    }\n",
              "\n",
              "    .dataframe thead th {\n",
              "        text-align: right;\n",
              "    }\n",
              "</style>\n",
              "<table border=\"1\" class=\"dataframe\">\n",
              "  <thead>\n",
              "    <tr style=\"text-align: right;\">\n",
              "      <th></th>\n",
              "      <th>customer</th>\n",
              "      <th>product1</th>\n",
              "      <th>product2</th>\n",
              "    </tr>\n",
              "  </thead>\n",
              "  <tbody>\n",
              "    <tr>\n",
              "      <th>Purchase 1</th>\n",
              "      <td>Customer 1</td>\n",
              "      <td>1.1</td>\n",
              "      <td>8.20</td>\n",
              "    </tr>\n",
              "    <tr>\n",
              "      <th>Purchase 2</th>\n",
              "      <td>Customer 1</td>\n",
              "      <td>2.1</td>\n",
              "      <td>9.10</td>\n",
              "    </tr>\n",
              "    <tr>\n",
              "      <th>Purchase 3</th>\n",
              "      <td>Customer2</td>\n",
              "      <td>3.8</td>\n",
              "      <td>11.10</td>\n",
              "    </tr>\n",
              "    <tr>\n",
              "      <th>Purchase 4</th>\n",
              "      <td>Customer2</td>\n",
              "      <td>4.2</td>\n",
              "      <td>5.20</td>\n",
              "    </tr>\n",
              "    <tr>\n",
              "      <th>Purchase 5</th>\n",
              "      <td>Customer3</td>\n",
              "      <td>5.5</td>\n",
              "      <td>44.66</td>\n",
              "    </tr>\n",
              "    <tr>\n",
              "      <th>Purchase 6</th>\n",
              "      <td>Customer3</td>\n",
              "      <td>6.9</td>\n",
              "      <td>983.00</td>\n",
              "    </tr>\n",
              "  </tbody>\n",
              "</table>\n",
              "</div>"
            ],
            "text/plain": [
              "              customer  product1  product2\n",
              "Purchase 1  Customer 1       1.1      8.20\n",
              "Purchase 2  Customer 1       2.1      9.10\n",
              "Purchase 3   Customer2       3.8     11.10\n",
              "Purchase 4   Customer2       4.2      5.20\n",
              "Purchase 5   Customer3       5.5     44.66\n",
              "Purchase 6   Customer3       6.9    983.00"
            ]
          },
          "metadata": {
            "tags": []
          },
          "execution_count": 55
        }
      ]
    },
    {
      "cell_type": "code",
      "metadata": {
        "id": "4O8UbyT9xEfV",
        "outputId": "a3a237d1-d830-4b6c-dbc5-ccf8dbfec0d7",
        "colab": {
          "base_uri": "https://localhost:8080/",
          "height": 35
        }
      },
      "source": [
        "grouped_data = df6.groupby('customer')\n",
        "print(grouped_data)"
      ],
      "execution_count": 56,
      "outputs": [
        {
          "output_type": "stream",
          "text": [
            "<pandas.core.groupby.generic.DataFrameGroupBy object at 0x7fa883835400>\n"
          ],
          "name": "stdout"
        }
      ]
    },
    {
      "cell_type": "code",
      "metadata": {
        "id": "bflaGE2lxEfb",
        "outputId": "65534b17-f6f1-494c-b458-dc04ef1a692d",
        "colab": {
          "base_uri": "https://localhost:8080/",
          "height": 175
        }
      },
      "source": [
        "grouped_data.std()"
      ],
      "execution_count": 57,
      "outputs": [
        {
          "output_type": "execute_result",
          "data": {
            "text/html": [
              "<div>\n",
              "<style scoped>\n",
              "    .dataframe tbody tr th:only-of-type {\n",
              "        vertical-align: middle;\n",
              "    }\n",
              "\n",
              "    .dataframe tbody tr th {\n",
              "        vertical-align: top;\n",
              "    }\n",
              "\n",
              "    .dataframe thead th {\n",
              "        text-align: right;\n",
              "    }\n",
              "</style>\n",
              "<table border=\"1\" class=\"dataframe\">\n",
              "  <thead>\n",
              "    <tr style=\"text-align: right;\">\n",
              "      <th></th>\n",
              "      <th>product1</th>\n",
              "      <th>product2</th>\n",
              "    </tr>\n",
              "    <tr>\n",
              "      <th>customer</th>\n",
              "      <th></th>\n",
              "      <th></th>\n",
              "    </tr>\n",
              "  </thead>\n",
              "  <tbody>\n",
              "    <tr>\n",
              "      <th>Customer 1</th>\n",
              "      <td>0.707107</td>\n",
              "      <td>0.636396</td>\n",
              "    </tr>\n",
              "    <tr>\n",
              "      <th>Customer2</th>\n",
              "      <td>0.282843</td>\n",
              "      <td>4.171930</td>\n",
              "    </tr>\n",
              "    <tr>\n",
              "      <th>Customer3</th>\n",
              "      <td>0.989949</td>\n",
              "      <td>663.506577</td>\n",
              "    </tr>\n",
              "  </tbody>\n",
              "</table>\n",
              "</div>"
            ],
            "text/plain": [
              "            product1    product2\n",
              "customer                        \n",
              "Customer 1  0.707107    0.636396\n",
              "Customer2   0.282843    4.171930\n",
              "Customer3   0.989949  663.506577"
            ]
          },
          "metadata": {
            "tags": []
          },
          "execution_count": 57
        }
      ]
    },
    {
      "cell_type": "code",
      "metadata": {
        "id": "3YSHjYYWxEfd",
        "outputId": "c31c3928-0535-46c3-8af6-df8b42e8a6fc",
        "colab": {
          "base_uri": "https://localhost:8080/",
          "height": 175
        }
      },
      "source": [
        "df8"
      ],
      "execution_count": 58,
      "outputs": [
        {
          "output_type": "execute_result",
          "data": {
            "text/html": [
              "<div>\n",
              "<style scoped>\n",
              "    .dataframe tbody tr th:only-of-type {\n",
              "        vertical-align: middle;\n",
              "    }\n",
              "\n",
              "    .dataframe tbody tr th {\n",
              "        vertical-align: top;\n",
              "    }\n",
              "\n",
              "    .dataframe thead th {\n",
              "        text-align: right;\n",
              "    }\n",
              "</style>\n",
              "<table border=\"1\" class=\"dataframe\">\n",
              "  <thead>\n",
              "    <tr style=\"text-align: right;\">\n",
              "      <th></th>\n",
              "      <th>customer</th>\n",
              "      <th>distance</th>\n",
              "      <th>sales</th>\n",
              "    </tr>\n",
              "  </thead>\n",
              "  <tbody>\n",
              "    <tr>\n",
              "      <th>5</th>\n",
              "      <td>103</td>\n",
              "      <td>9</td>\n",
              "      <td>214</td>\n",
              "    </tr>\n",
              "    <tr>\n",
              "      <th>4</th>\n",
              "      <td>101</td>\n",
              "      <td>12</td>\n",
              "      <td>123</td>\n",
              "    </tr>\n",
              "    <tr>\n",
              "      <th>7</th>\n",
              "      <td>105</td>\n",
              "      <td>21</td>\n",
              "      <td>331</td>\n",
              "    </tr>\n",
              "    <tr>\n",
              "      <th>6</th>\n",
              "      <td>104</td>\n",
              "      <td>44</td>\n",
              "      <td>663</td>\n",
              "    </tr>\n",
              "  </tbody>\n",
              "</table>\n",
              "</div>"
            ],
            "text/plain": [
              "  customer  distance  sales\n",
              "5      103         9    214\n",
              "4      101        12    123\n",
              "7      105        21    331\n",
              "6      104        44    663"
            ]
          },
          "metadata": {
            "tags": []
          },
          "execution_count": 58
        }
      ]
    },
    {
      "cell_type": "code",
      "metadata": {
        "id": "4RzZ_0aYxEfh"
      },
      "source": [
        "# similar to numpy arrays, we can also save and load dataframes to csv files, and also Excel files\n",
        "\n",
        "df8.to_csv('df8.csv',index=True)"
      ],
      "execution_count": 59,
      "outputs": []
    },
    {
      "cell_type": "code",
      "metadata": {
        "id": "77Wm3xoDxEfj",
        "outputId": "fa272faa-6a2f-4c90-99a1-776eae176ff6",
        "colab": {
          "base_uri": "https://localhost:8080/",
          "height": 175
        }
      },
      "source": [
        "new_df8 = pd.read_csv('df8.csv',index_col=0)\n",
        "new_df8"
      ],
      "execution_count": 60,
      "outputs": [
        {
          "output_type": "execute_result",
          "data": {
            "text/html": [
              "<div>\n",
              "<style scoped>\n",
              "    .dataframe tbody tr th:only-of-type {\n",
              "        vertical-align: middle;\n",
              "    }\n",
              "\n",
              "    .dataframe tbody tr th {\n",
              "        vertical-align: top;\n",
              "    }\n",
              "\n",
              "    .dataframe thead th {\n",
              "        text-align: right;\n",
              "    }\n",
              "</style>\n",
              "<table border=\"1\" class=\"dataframe\">\n",
              "  <thead>\n",
              "    <tr style=\"text-align: right;\">\n",
              "      <th></th>\n",
              "      <th>customer</th>\n",
              "      <th>distance</th>\n",
              "      <th>sales</th>\n",
              "    </tr>\n",
              "  </thead>\n",
              "  <tbody>\n",
              "    <tr>\n",
              "      <th>5</th>\n",
              "      <td>103</td>\n",
              "      <td>9</td>\n",
              "      <td>214</td>\n",
              "    </tr>\n",
              "    <tr>\n",
              "      <th>4</th>\n",
              "      <td>101</td>\n",
              "      <td>12</td>\n",
              "      <td>123</td>\n",
              "    </tr>\n",
              "    <tr>\n",
              "      <th>7</th>\n",
              "      <td>105</td>\n",
              "      <td>21</td>\n",
              "      <td>331</td>\n",
              "    </tr>\n",
              "    <tr>\n",
              "      <th>6</th>\n",
              "      <td>104</td>\n",
              "      <td>44</td>\n",
              "      <td>663</td>\n",
              "    </tr>\n",
              "  </tbody>\n",
              "</table>\n",
              "</div>"
            ],
            "text/plain": [
              "   customer  distance  sales\n",
              "5       103         9    214\n",
              "4       101        12    123\n",
              "7       105        21    331\n",
              "6       104        44    663"
            ]
          },
          "metadata": {
            "tags": []
          },
          "execution_count": 60
        }
      ]
    },
    {
      "cell_type": "code",
      "metadata": {
        "id": "3a34SmkGxEfm",
        "outputId": "04c3140e-6a7e-476f-f375-26810ae86580",
        "colab": {
          "base_uri": "https://localhost:8080/",
          "height": 206
        }
      },
      "source": [
        "df8.to_excel('df8.xlsx',index=False,sheet_name='first sheet')\n",
        "newer_df8 = pd.read_excel('df8.xlsx',sheet_name='first sheet',index_col=1)\n",
        "newer_df8"
      ],
      "execution_count": 61,
      "outputs": [
        {
          "output_type": "execute_result",
          "data": {
            "text/html": [
              "<div>\n",
              "<style scoped>\n",
              "    .dataframe tbody tr th:only-of-type {\n",
              "        vertical-align: middle;\n",
              "    }\n",
              "\n",
              "    .dataframe tbody tr th {\n",
              "        vertical-align: top;\n",
              "    }\n",
              "\n",
              "    .dataframe thead th {\n",
              "        text-align: right;\n",
              "    }\n",
              "</style>\n",
              "<table border=\"1\" class=\"dataframe\">\n",
              "  <thead>\n",
              "    <tr style=\"text-align: right;\">\n",
              "      <th></th>\n",
              "      <th>customer</th>\n",
              "      <th>sales</th>\n",
              "    </tr>\n",
              "    <tr>\n",
              "      <th>distance</th>\n",
              "      <th></th>\n",
              "      <th></th>\n",
              "    </tr>\n",
              "  </thead>\n",
              "  <tbody>\n",
              "    <tr>\n",
              "      <th>9</th>\n",
              "      <td>103</td>\n",
              "      <td>214</td>\n",
              "    </tr>\n",
              "    <tr>\n",
              "      <th>12</th>\n",
              "      <td>101</td>\n",
              "      <td>123</td>\n",
              "    </tr>\n",
              "    <tr>\n",
              "      <th>21</th>\n",
              "      <td>105</td>\n",
              "      <td>331</td>\n",
              "    </tr>\n",
              "    <tr>\n",
              "      <th>44</th>\n",
              "      <td>104</td>\n",
              "      <td>663</td>\n",
              "    </tr>\n",
              "  </tbody>\n",
              "</table>\n",
              "</div>"
            ],
            "text/plain": [
              "          customer  sales\n",
              "distance                 \n",
              "9              103    214\n",
              "12             101    123\n",
              "21             105    331\n",
              "44             104    663"
            ]
          },
          "metadata": {
            "tags": []
          },
          "execution_count": 61
        }
      ]
    },
    {
      "cell_type": "code",
      "metadata": {
        "id": "lqryE6OdxEfo"
      },
      "source": [
        ""
      ],
      "execution_count": 61,
      "outputs": []
    }
  ]
}