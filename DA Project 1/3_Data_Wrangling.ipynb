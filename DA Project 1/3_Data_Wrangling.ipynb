{
  "nbformat": 4,
  "nbformat_minor": 0,
  "metadata": {
    "colab": {
      "name": "3_Data_Wrangling.ipynb",
      "provenance": [],
      "collapsed_sections": []
    },
    "kernelspec": {
      "name": "python3",
      "display_name": "Python 3"
    }
  },
  "cells": [
    {
      "cell_type": "markdown",
      "metadata": {
        "id": "-v00DkoNA1TB"
      },
      "source": [
        "# **Data Wrangling :**"
      ]
    },
    {
      "cell_type": "markdown",
      "metadata": {
        "id": "TEcj0ne3AXKJ"
      },
      "source": [
        "* Data wrangling is  also called as Data pre-processing\n",
        "* Def :\n",
        "<code> The process of coverting or mapping data from the initial \"raw\" form into another format inorder to prepare the data for further analysis</code>"
      ]
    },
    {
      "cell_type": "markdown",
      "metadata": {
        "id": "hM25FQ6RBGUa"
      },
      "source": [
        "* Identify and handle missing values\n",
        "<ul>\n",
        "<li>First, we will have to identify and handle the missing values</li>\n",
        "<li>A \"missing value\" condition occurs whenever a data entry is left empty</li>\n",
        "</ul>\n",
        "\n",
        "* Data formatting\n",
        "<ul>\n",
        "<li>Data from different sources may be in various formats, in different units or in various conventions.</li>\n",
        "<li>We have some methods in Python pandas that can standardize the values into the same format, or unit, or convention.</li>\n",
        "</ul>\n",
        "\n",
        "* Data normalization (Centering/Scaling)\n",
        "<ul>\n",
        "<li>Different columns of numerical data may have very different ranges, and direct comparison is often not meaningful.</li>\n",
        "<li>Normalization is a way to bring all data into a similar range, for more useful comparison.</li>\n",
        "<li> Specifically, we should focus on centering and scaling</li>\n",
        "</ul>\n",
        "\n",
        "* Data binning\n",
        "<ul>\n",
        "<li>Binning creates bigger categories from a set of numerical values.</li>\n",
        "<li>It is particularly useful for comparison between groups of data.</li>\n",
        "</ul>\n",
        "\n",
        "* Turning categorical values into numeric values\n",
        "<ul>\n",
        "<li>We have to turn the categorical values in the dataset to numerical values</li>\n",
        "</ul>\n",
        "\n",
        "<hr>"
      ]
    },
    {
      "cell_type": "markdown",
      "metadata": {
        "id": "VjysLk9ADIgk"
      },
      "source": [
        "* In python dataframes, \n",
        "<ul>\n",
        "<li><b>each row is a sample ,</b></li>\n",
        "<li><b>each column is a feature (pandas series).</b></li>\n",
        "</ul>\n",
        "\n",
        "<hr>"
      ]
    },
    {
      "cell_type": "markdown",
      "metadata": {
        "id": "c279niC1D4Zp"
      },
      "source": [
        "# **Dealing with Missing values :**\n",
        "\n",
        "### What is a missing value?\n",
        "\n",
        "* Missing values occur when no data is stored for a variable (feature) in an observation\n",
        "* Could be represented as \"?\", \"N/A\", 0 or just a blank cell\n",
        "\n",
        "### How to deal with missing data?\n",
        "\n",
        "* **Drop the missing values**\n",
        "<ul>\n",
        "<li>drop the variable</li>\n",
        "<li>drop the data entry</li>\n",
        "</ul>\n",
        "\n",
        "* **Rules of handling missing values ,**\n",
        "<ul>\n",
        "<li>When you drop data, you can either drop the <b>whole variable or</b> just the <b>single data entry</b> with the missing value.</li>\n",
        "<li>If you <b>don’t have a lot of observations</b> with missing data, usually <b>dropping the particular entry</b> is the best.</li>\n",
        "<li>If you’re removing data, you want to look to do something that has the <b>least amount of impact</b>.</li>\n",
        "</ul>\n",
        "\n",
        "<hr>\n",
        "\n",
        "* **Replace the missing values**\n",
        "<ul>\n",
        "<li>Replacing the data is better, since <b>no data is wasted</b></li>\n",
        "<li>However, it is <b>less accurate</b> since we need to replace missing data with a guess of what the data should be.</li>\n",
        "</ul>\n",
        "\n",
        "* **Techniques to replace the missing data**\n",
        "<ul>\n",
        "<li> Generally, we replace the missing data with the <b>average</b> of all the entries of the column in which it is present</li>\n",
        "<li>But, <b>if values cannot be averaged</b>, i.e., in case of categorical variables, which are not numeric values, <b>replacing with the most common value (mode) is better</b></li>\n",
        "</ul>\n",
        "\n",
        "<hr>\n",
        "\n",
        "\n",
        "* **Leave it as missing data**\n",
        "<ul>\n",
        "<li>In some cases, you may simply want to leave the missing data\n",
        "as missing data.</li>\n",
        "<li>For one reason or another, it may be useful to keep that observation, even if some features are missing.</li>\n",
        "</ul>"
      ]
    },
    {
      "cell_type": "markdown",
      "metadata": {
        "id": "QaFaXqyHI-jF"
      },
      "source": [
        "* To replace the missing data , in pandas , we have a method called **dropna()** method\n",
        "* If you want to **delete the entire row** in which the NaN value is present, you have to specify **axis=0** as the argument to this function.\n",
        "* If you want to **delete the entire column** in which the NaN value is present, you have to specify **axis=1** as the argument to this function."
      ]
    },
    {
      "cell_type": "markdown",
      "metadata": {
        "id": "IjOlXWBSLJYd"
      },
      "source": [
        "* Pandas has a built-in method called **replace** which lets us to replace a particular value in the entire column with the new value <br>\n",
        "<code>df.replace(missing value,new value)</code>"
      ]
    },
    {
      "cell_type": "markdown",
      "metadata": {
        "id": "gpw0vbsYP_hv"
      },
      "source": [
        "# **Data Formatting :**\n",
        "\n",
        "<b><code>Bringing data into common standard of expression allows users to make meaningful comparison</code></b>\n",
        "\n",
        "<br>\n",
        "\n",
        "* Data is usually collected from different places and stored in different formats\n",
        "* **Non-formatted data :**\n",
        "<ul>\n",
        "<li>confusing</li>\n",
        "<li>hard to aggregate</li>\n",
        "<li>hard to compare</li>\n",
        "</ul>\n",
        "\n",
        "* **Formatted data :**\n",
        "<ul>\n",
        "<li>more clear</li>\n",
        "<li>easy to aggregate</li>\n",
        "<li>easy to compare</li>\n",
        "<ul>"
      ]
    },
    {
      "cell_type": "markdown",
      "metadata": {
        "id": "lKxPD5P3R5R2"
      },
      "source": [
        "### **Incorrect datatypes :**\n",
        "\n",
        "* Sometimes, the wrong datatype is assigned to a feature\n",
        "* For example, in our used car price dataset, the datatype of **\"price\"** feature is object. But, it is supposed to be an integer/float datatype\n",
        "* It is important for us to explore the datatypes of the columns in the dataset and convert them to the correct datatypes, otherwise the developed models later on will behave strangely\n",
        "\n",
        "<hr>\n",
        "\n",
        "* To know the datatype of a particular colum <br>\n",
        "<b><code>df.dtypes()</code></b>\n",
        "\n",
        "* To convert datatype of one column to another datatype <br>\n",
        "<b><code>df.astype()</code></b> <br>\n",
        "<code>Ex : df['price'] = df['price'].astype('int')</code>"
      ]
    },
    {
      "cell_type": "markdown",
      "metadata": {
        "id": "CTYK2VQcXW1O"
      },
      "source": [
        "# **Data Normalizaton :**"
      ]
    },
    {
      "cell_type": "markdown",
      "metadata": {
        "id": "4pT3yyiuXcuH"
      },
      "source": [
        "* It is an important technique to understand data preprocessing\n",
        "* Some of the columns may have values only within in a particular range, for exaple 50-100, 1000-1500, etc.\n",
        "* We may want to normalize these variables so that the range of the values is consistent.\n",
        "* This normalization can make some statistical analyses easier down the road.\n",
        "\n",
        "* By making the ranges consistent between variables, normalization enables a fairer comparison between the different features.\n",
        "* Making sure they have the same impact, it is also important for computational reasons."
      ]
    },
    {
      "cell_type": "markdown",
      "metadata": {
        "id": "n3np8ihcezwW"
      },
      "source": [
        "* Several approaches for normalization : \n",
        "<ul>\n",
        "\n",
        "<li>\n",
        "<b>Simple feature scaling : </b> <br>\n",
        "x<sub>new</sub> = x<sub>old</sub> / x<sub>max</sub>\n",
        "</li>\n",
        "\n",
        "<li>\n",
        "<b>Min-Max : </b> <br>\n",
        "x<sub>new</sub> = (x<sub>old</sub> - x<sub>min</sub>) / (x<sub>max</sub> - x<sub>min</sub>)\n",
        "</li>\n",
        "\n",
        "<li>\n",
        "<b>Min-Max : </b> <br>\n",
        "x<sub>new</sub> = (x<sub>old</sub> - x<sub>min</sub>) / (x<sub>max</sub> - x<sub>min</sub>)\n",
        "</li>\n",
        "\n",
        "<li>\n",
        "<b>Z-Score</b> <br>\n",
        "x<sub>new</sub> = (x<sub>old</sub> - average) / std "
      ]
    },
    {
      "cell_type": "markdown",
      "metadata": {
        "id": "bDnveimFXi6W"
      },
      "source": [
        "# **Binning :**\n",
        "\n",
        "* Binning : Grouping of values into bins\n",
        "* Converts numeric into categorical variables\n",
        "* Group a set of numeric values into a set of \"bins\"\n",
        "\n",
        "<hr>\n",
        "\n",
        "* For example, you can bin <br>\n",
        "<code>age into [0-5], [6-10], [11-15] and so on</code>\n",
        "\n",
        "<hr>\n",
        "\n",
        "* Sometimes, binning can improve accuracy of the predictive models\n",
        "* Sometimes we use data binning to group a set of numerical values into a\n",
        "smaller number of bins to have a better understanding of the data distribution\n",
        "* In pandas, code to create bins is , <br>\n",
        "<code>bins = numpy.linspace(min(df['price']),max(df['price']),4) <br>\n",
        "group_names = ['Low', 'Medium', 'High'] <br>\n",
        "df['price-binned'] = pandas.cut(df['price'], bins, labels=group_names, include_lowest = True)\n",
        "</code>\n",
        "\n",
        "<hr>\n",
        "\n",
        "### **Visualizing Binned data :**\n",
        "&emsp;&emsp;&emsp;You can use Histograms to visualize the distribution of the data after they have been divided into bins"
      ]
    },
    {
      "cell_type": "markdown",
      "metadata": {
        "id": "B81zXEOJbW8F"
      },
      "source": [
        "# **Turning categorical variables into quantitative variables :**\n",
        "\n",
        "**Problem :** Most statistical models cannot take object/string as input, for model training\n",
        "<br>\n",
        "**Solution :**\n",
        "* Add dummy variables for each unique category\n",
        "* Assign 0 or 1 in each category\n",
        "* This method is called **One-Hot Encoding**\n",
        "\n",
        "<hr>\n",
        "\n",
        "* The **get_dummies()** method automatically generates a list of numbers, each one corresponding to a particular category of the variable. <br>\n",
        "<code>pandas.get_dummies(df['ColumnName'])</code>"
      ]
    },
    {
      "cell_type": "markdown",
      "metadata": {
        "id": "IJg7fF6mgirS"
      },
      "source": [
        "# **Check out \"DA_Lab_2.ipynb\" for the code**"
      ]
    }
  ]
}