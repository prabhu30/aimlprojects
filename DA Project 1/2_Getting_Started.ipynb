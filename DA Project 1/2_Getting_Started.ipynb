{
  "nbformat": 4,
  "nbformat_minor": 0,
  "metadata": {
    "colab": {
      "name": "2_Getting_Started.ipynb",
      "provenance": []
    },
    "kernelspec": {
      "name": "python3",
      "display_name": "Python 3"
    }
  },
  "cells": [
    {
      "cell_type": "markdown",
      "metadata": {
        "id": "YopDjbIaz5MZ"
      },
      "source": [
        "# **Getting Started :**"
      ]
    },
    {
      "cell_type": "markdown",
      "metadata": {
        "id": "rYjEw64Ny4Su"
      },
      "source": [
        "* Before you begin, \n",
        "<ul>\n",
        "<li>Understand your data before you begin any analysis</li>\n",
        "<li>Should check,\n",
        "  <ul>\n",
        "  <li>Data types</li>\n",
        "  <li>Data distribution</li>\n",
        "  </ul>\n",
        "</li>\n",
        "<li>Locate potential issues with the data</li>\n",
        "</ul>"
      ]
    },
    {
      "cell_type": "markdown",
      "metadata": {
        "id": "N_zKf4mz0IiO"
      },
      "source": [
        "* Why check datatypes?\n",
        "<ul>\n",
        "<li>Potential info and type mismatch</li>\n",
        "<li>Compatibility with python methods</li>\n",
        "</ul>"
      ]
    },
    {
      "cell_type": "markdown",
      "metadata": {
        "id": "8VXnmxe10ldZ"
      },
      "source": [
        "* In pandas, we use dataframe.dtypes to check datatypes <br>\n",
        "<code>df.dtypes</code>     (here, df is the dataframe)"
      ]
    },
    {
      "cell_type": "markdown",
      "metadata": {
        "id": "HQCJiHwt1JcP"
      },
      "source": [
        "* To obtain statistical summary of the data <br>\n",
        "<code>df.describe()</code>"
      ]
    },
    {
      "cell_type": "markdown",
      "metadata": {
        "id": "mbrFc4Td1nZ9"
      },
      "source": [
        "* By default, the dataframe.describe() function skips rows and columns that do not contain numbers."
      ]
    },
    {
      "cell_type": "markdown",
      "metadata": {
        "id": "ncpwTmbj121G"
      },
      "source": [
        "* To enable summary of all the columns, we can specify an argument \"include\" <br>\n",
        "<code>df.describe(include=\"all\")</code>\n"
      ]
    },
    {
      "cell_type": "markdown",
      "metadata": {
        "id": "IOzgacKV2Yg-"
      },
      "source": [
        "* <code>df.info()</code> provides a consice summary of your dataframe"
      ]
    },
    {
      "cell_type": "markdown",
      "metadata": {
        "id": "ZtylFdYC3GZe"
      },
      "source": [
        "### **Check out the \"Lab_1.ipynb\" Notebook for all the code**"
      ]
    }
  ]
}