{
  "nbformat": 4,
  "nbformat_minor": 0,
  "metadata": {
    "colab": {
      "name": "1_Introduction_to_DA.ipynb",
      "provenance": [],
      "collapsed_sections": []
    },
    "kernelspec": {
      "name": "python3",
      "display_name": "Python 3"
    }
  },
  "cells": [
    {
      "cell_type": "markdown",
      "metadata": {
        "id": "4LYV8BaVUONx"
      },
      "source": [
        "# **Data Analysis with Python :**\n",
        "* Introduction\n",
        "<ul> \n",
        "<li>Learning Objectives</li>\n",
        "<li>Understanding the Domain</li>\n",
        "<li>Understanding the  Dataset</li>\n",
        "<li>Python package for data science</li>\n",
        "<li>Importing and Exporting Data in Python</li>\n",
        "<li>Basic Insights from Datasets</li>\n",
        "</ul>\n",
        "\n",
        "* Data wrangling\n",
        "<ul>\n",
        "<li>Identify and Handle Missing Values</li>\n",
        "<li>Data Formatting</li>\n",
        "<li>Data NormalizationSets</li>\n",
        "<li>Binning</li>\n",
        "<li>Indicator variables</li>\n",
        "</ul>\n",
        "\n",
        "* Exploratory Data Analysis (EDA)\n",
        "<ul>\n",
        "<li>Descriptive Statistics</li>\n",
        "<li>Basic of Grouping</li>\n",
        "<li>ANOVA</li>\n",
        "<li>Correlation</li>\n",
        "<li>Correlation 2</li>\n",
        "</ul>\n",
        "\n",
        "* Model Development\n",
        "<ul>\n",
        "<li>Simple and Multiple Linear Regression</li>\n",
        "<li>Model Evaluation using Visualization</li>\n",
        "<li>Polynomial Regression and Pipelines</li>\n",
        "<li>R-squared and MSE for In-Sample Evaluation</li>\n",
        "<li>Prediction and Decision Making</li>\n",
        "</ul>\n",
        "\n",
        "* Working with data in Python\n",
        "<ul>\n",
        "<li>Model  Evaluation</li>\n",
        "<li>Over Fitting, Under fitting and Model Selection</li> \n",
        "<li>Ridge Regression</li>\n",
        "<li>Grid Search</li>\n",
        "<li>Model Refinement</li>\n",
        "</ul>\n",
        "\n",
        "\n"
      ]
    },
    {
      "cell_type": "markdown",
      "metadata": {
        "id": "6NchL8CgXz3A"
      },
      "source": [
        "## **Introduction :**\n",
        "* Problem statement : **Used car appraisal**\n",
        "* Question : **Can we estimate the price of a used car based on its characteristics?**"
      ]
    },
    {
      "cell_type": "markdown",
      "metadata": {
        "id": "7YEqGG6CYqOD"
      },
      "source": [
        "*     To answer this question, we are going to use various Python packages to perform **data cleaning, exploratory data analysis, model development and model evaluation.**"
      ]
    },
    {
      "cell_type": "markdown",
      "metadata": {
        "id": "LLATFzlNZFGA"
      },
      "source": [
        "### Why data analysis?\n",
        "* Data is everywhere\n",
        "* Data analysis / data science helps us answer questions from the data\n",
        "* Data analysis plays an important role in :\n",
        "<ul>\n",
        "<li>Discovering useful information from the data</li>\n",
        "<li>Answering questions</li>\n",
        "<li>Predicting future or the unknown</li>\n",
        "</ul>\n",
        "\n",
        "<br><hr>"
      ]
    },
    {
      "cell_type": "markdown",
      "metadata": {
        "id": "m7NYRDwCZ_4_"
      },
      "source": [
        "* Let us say we have a friend **tom**\n",
        "* Tom wants to sell his car\n",
        "<ul>\n",
        "<li>How much money should he sell his car for</li>\n",
        "<li>The price he sets should not be too high but not too low either</li>\n",
        "</ul>\n",
        "\n",
        "<br><hr>\n"
      ]
    },
    {
      "cell_type": "markdown",
      "metadata": {
        "id": "bUf64h2fbwKG"
      },
      "source": [
        "* How can we help **Tom** determine best price for his car?\n",
        "* We (as data scientists) should think about the following questions ,\n",
        "<ul>\n",
        "<li>Is there data on prices of other cars and their characteristics?</li>\n",
        "<li>What features of cars affects their prices</li>\n",
        "<ul><li>Colour? Brand? Horsepower? Something else?</li></ul>\n",
        "<li>Ask the right questions in terms of data</li>\n",
        "</ul>\n",
        "\n",
        "<br><hr>"
      ]
    },
    {
      "cell_type": "markdown",
      "metadata": {
        "id": "fAwien1heJOe"
      },
      "source": [
        "* In this course, we'll be looking at the **dataset on used car prices.**\n",
        "* The dataset used in this course is an open dataset, by Jeffrey C. Schlimmer.\n",
        "* You can import the dataset using the url <br>\n",
        "https://s3-api.us-geo.objectstorage.softlayer.net/cf-courses-data/CognitiveClass/DA0101EN/auto.csv\n",
        "\n",
        "<br><hr>"
      ]
    },
    {
      "cell_type": "markdown",
      "metadata": {
        "id": "RKZAELx6ptQg"
      },
      "source": [
        "<ul><b>What is a python library?</b>\n",
        "<li>A Python library is a collection of functions and methods that allow you to perform lots of actions without writing any code.</li>\n",
        "<li>The libraries usually contain built-in modules providing different functionalities, which you can use directly.</li>\n",
        "</ul>\n",
        "\n",
        "<br><hr>"
      ]
    },
    {
      "cell_type": "markdown",
      "metadata": {
        "id": "wTHVCd4KqoFj"
      },
      "source": [
        "Python libraries can be divided into three categories :\n",
        "* Scientific computing libraries\n",
        "  <ul>\n",
        "  <li>Pandas (Datascructures & tools)</li>\n",
        "  <li>NumPy (Arrays & Matrices)</li>\n",
        "  <li>SciPy (Integrals, Solving differential euqations, optimization)</li>\n",
        "  </ul>\n",
        "\n",
        "* Visualization libraries\n",
        "  <ul>\n",
        "  <li>Matplotlib (plots & graphs, most popular)</li>\n",
        "  <li>Seaborn (plots, heat maps, time series, violin plots)</li>\n",
        "  </ul>\n",
        "\n",
        "* Algorithmic libraries\n",
        "  <ul>\n",
        "  <li>Scikit-Learn (Machine learning)</li>\n",
        "  <li>Statsmodels (Explore data, estimate statistical models and perform statistical tests</li>\n",
        "  </li>\n",
        "  </ul>\n",
        "\n",
        "<br><hr>\n"
      ]
    }
  ]
}